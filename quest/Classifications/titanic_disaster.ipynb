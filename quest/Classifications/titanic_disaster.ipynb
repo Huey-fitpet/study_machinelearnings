{
 "cells": [
  {
   "cell_type": "markdown",
   "metadata": {},
   "source": [
    "## 데이터 수집"
   ]
  },
  {
   "cell_type": "code",
   "execution_count": 59,
   "metadata": {},
   "outputs": [],
   "source": [
    "import matplotlib.pyplot as plt\n",
    "import matplotlib as mpl # 한글 폰트 설정 (NanumGothic) \n",
    "mpl.rcParams['font.family'] = 'NanumGothic'\n",
    "mpl.rcParams['axes.unicode_minus'] = False  # 마이너스 기호 깨짐 방지\n",
    "import seaborn as sns\n",
    "import pandas as pd\n",
    "import numpy as np \n",
    "import scipy.stats as stats\n",
    "from sklearn import datasets \n",
    "from sklearn.svm import SVR\n",
    "from sklearn.linear_model import LinearRegression\n",
    "from sklearn.linear_model import LogisticRegression\n",
    "from sklearn.ensemble import RandomForestRegressor\n",
    "from sklearn.preprocessing import OneHotEncoder\n",
    "from sklearn.preprocessing import LabelEncoder\n",
    "from sklearn.preprocessing import StandardScaler\n",
    "from sklearn.metrics import mean_squared_error, r2_score\n",
    "from sklearn.metrics import accuracy_score\n",
    "from sklearn.model_selection import train_test_split\n",
    "from sklearn.base import clone\n",
    "from copy import deepcopy"
   ]
  },
  {
   "cell_type": "code",
   "execution_count": 60,
   "metadata": {},
   "outputs": [],
   "source": [
    "import matplotlib.font_manager as fm\n",
    "# NanumGothic 폰트 경로 추가\n",
    "font_path = '/usr/share/fonts/truetype/nanum/NanumGothicCoding.ttf'\n",
    "font_prop = fm.FontProperties(fname=font_path)\n",
    "mpl.rcParams['font.family'] = font_prop.get_name()\n"
   ]
  },
  {
   "cell_type": "code",
   "execution_count": 2,
   "metadata": {},
   "outputs": [
    {
     "data": {
      "text/html": [
       "<div>\n",
       "<style scoped>\n",
       "    .dataframe tbody tr th:only-of-type {\n",
       "        vertical-align: middle;\n",
       "    }\n",
       "\n",
       "    .dataframe tbody tr th {\n",
       "        vertical-align: top;\n",
       "    }\n",
       "\n",
       "    .dataframe thead th {\n",
       "        text-align: right;\n",
       "    }\n",
       "</style>\n",
       "<table border=\"1\" class=\"dataframe\">\n",
       "  <thead>\n",
       "    <tr style=\"text-align: right;\">\n",
       "      <th></th>\n",
       "      <th>PassengerId</th>\n",
       "      <th>Survived</th>\n",
       "      <th>Pclass</th>\n",
       "      <th>Name</th>\n",
       "      <th>Sex</th>\n",
       "      <th>Age</th>\n",
       "      <th>SibSp</th>\n",
       "      <th>Parch</th>\n",
       "      <th>Ticket</th>\n",
       "      <th>Fare</th>\n",
       "      <th>Cabin</th>\n",
       "      <th>Embarked</th>\n",
       "    </tr>\n",
       "  </thead>\n",
       "  <tbody>\n",
       "    <tr>\n",
       "      <th>0</th>\n",
       "      <td>1</td>\n",
       "      <td>0</td>\n",
       "      <td>3</td>\n",
       "      <td>Braund, Mr. Owen Harris</td>\n",
       "      <td>male</td>\n",
       "      <td>22.0</td>\n",
       "      <td>1</td>\n",
       "      <td>0</td>\n",
       "      <td>A/5 21171</td>\n",
       "      <td>7.2500</td>\n",
       "      <td>NaN</td>\n",
       "      <td>S</td>\n",
       "    </tr>\n",
       "    <tr>\n",
       "      <th>1</th>\n",
       "      <td>2</td>\n",
       "      <td>1</td>\n",
       "      <td>1</td>\n",
       "      <td>Cumings, Mrs. John Bradley (Florence Briggs Th...</td>\n",
       "      <td>female</td>\n",
       "      <td>38.0</td>\n",
       "      <td>1</td>\n",
       "      <td>0</td>\n",
       "      <td>PC 17599</td>\n",
       "      <td>71.2833</td>\n",
       "      <td>C85</td>\n",
       "      <td>C</td>\n",
       "    </tr>\n",
       "    <tr>\n",
       "      <th>2</th>\n",
       "      <td>3</td>\n",
       "      <td>1</td>\n",
       "      <td>3</td>\n",
       "      <td>Heikkinen, Miss. Laina</td>\n",
       "      <td>female</td>\n",
       "      <td>26.0</td>\n",
       "      <td>0</td>\n",
       "      <td>0</td>\n",
       "      <td>STON/O2. 3101282</td>\n",
       "      <td>7.9250</td>\n",
       "      <td>NaN</td>\n",
       "      <td>S</td>\n",
       "    </tr>\n",
       "    <tr>\n",
       "      <th>3</th>\n",
       "      <td>4</td>\n",
       "      <td>1</td>\n",
       "      <td>1</td>\n",
       "      <td>Futrelle, Mrs. Jacques Heath (Lily May Peel)</td>\n",
       "      <td>female</td>\n",
       "      <td>35.0</td>\n",
       "      <td>1</td>\n",
       "      <td>0</td>\n",
       "      <td>113803</td>\n",
       "      <td>53.1000</td>\n",
       "      <td>C123</td>\n",
       "      <td>S</td>\n",
       "    </tr>\n",
       "    <tr>\n",
       "      <th>4</th>\n",
       "      <td>5</td>\n",
       "      <td>0</td>\n",
       "      <td>3</td>\n",
       "      <td>Allen, Mr. William Henry</td>\n",
       "      <td>male</td>\n",
       "      <td>35.0</td>\n",
       "      <td>0</td>\n",
       "      <td>0</td>\n",
       "      <td>373450</td>\n",
       "      <td>8.0500</td>\n",
       "      <td>NaN</td>\n",
       "      <td>S</td>\n",
       "    </tr>\n",
       "  </tbody>\n",
       "</table>\n",
       "</div>"
      ],
      "text/plain": [
       "   PassengerId  Survived  Pclass  \\\n",
       "0            1         0       3   \n",
       "1            2         1       1   \n",
       "2            3         1       3   \n",
       "3            4         1       1   \n",
       "4            5         0       3   \n",
       "\n",
       "                                                Name     Sex   Age  SibSp  \\\n",
       "0                            Braund, Mr. Owen Harris    male  22.0      1   \n",
       "1  Cumings, Mrs. John Bradley (Florence Briggs Th...  female  38.0      1   \n",
       "2                             Heikkinen, Miss. Laina  female  26.0      0   \n",
       "3       Futrelle, Mrs. Jacques Heath (Lily May Peel)  female  35.0      1   \n",
       "4                           Allen, Mr. William Henry    male  35.0      0   \n",
       "\n",
       "   Parch            Ticket     Fare Cabin Embarked  \n",
       "0      0         A/5 21171   7.2500   NaN        S  \n",
       "1      0          PC 17599  71.2833   C85        C  \n",
       "2      0  STON/O2. 3101282   7.9250   NaN        S  \n",
       "3      0            113803  53.1000  C123        S  \n",
       "4      0            373450   8.0500   NaN        S  "
      ]
     },
     "execution_count": 2,
     "metadata": {},
     "output_type": "execute_result"
    }
   ],
   "source": [
    "data_df = pd.read_csv('../../datasets/titanic_disaster_train.csv')\n",
    "data_df.head()"
   ]
  },
  {
   "cell_type": "markdown",
   "metadata": {},
   "source": [
    "## 데이터 분석"
   ]
  },
  {
   "cell_type": "code",
   "execution_count": 3,
   "metadata": {},
   "outputs": [
    {
     "name": "stdout",
     "output_type": "stream",
     "text": [
      "<class 'pandas.core.frame.DataFrame'>\n",
      "RangeIndex: 891 entries, 0 to 890\n",
      "Data columns (total 12 columns):\n",
      " #   Column       Non-Null Count  Dtype  \n",
      "---  ------       --------------  -----  \n",
      " 0   PassengerId  891 non-null    int64  \n",
      " 1   Survived     891 non-null    int64  \n",
      " 2   Pclass       891 non-null    int64  \n",
      " 3   Name         891 non-null    object \n",
      " 4   Sex          891 non-null    object \n",
      " 5   Age          714 non-null    float64\n",
      " 6   SibSp        891 non-null    int64  \n",
      " 7   Parch        891 non-null    int64  \n",
      " 8   Ticket       891 non-null    object \n",
      " 9   Fare         891 non-null    float64\n",
      " 10  Cabin        204 non-null    object \n",
      " 11  Embarked     889 non-null    object \n",
      "dtypes: float64(2), int64(5), object(5)\n",
      "memory usage: 83.7+ KB\n"
     ]
    }
   ],
   "source": [
    "data_df.info()"
   ]
  },
  {
   "cell_type": "markdown",
   "metadata": {},
   "source": [
    "- feature continue : Age, Fare\n",
    "- feature category : Pclass, Sex, SibSp, Parch, Embarked\n",
    "- label : Survived\n",
    "- remove \n",
    "    + Cabin : 범주형인데 결측 너무 많아서 빼는게 나을 것으로 보임.\n",
    "    + PassengerId : 유니크 함\n",
    "    + Name : 유니크 함\n",
    "    + Ticket : 유니크 함\n",
    "- missing value : Age, Embarked"
   ]
  },
  {
   "cell_type": "code",
   "execution_count": 4,
   "metadata": {},
   "outputs": [
    {
     "data": {
      "text/plain": [
       "Survived\n",
       "0    549\n",
       "1    342\n",
       "Name: count, dtype: int64"
      ]
     },
     "execution_count": 4,
     "metadata": {},
     "output_type": "execute_result"
    }
   ],
   "source": [
    "data_df['Survived'].value_counts()"
   ]
  },
  {
   "cell_type": "code",
   "execution_count": 5,
   "metadata": {},
   "outputs": [
    {
     "data": {
      "text/html": [
       "<div>\n",
       "<style scoped>\n",
       "    .dataframe tbody tr th:only-of-type {\n",
       "        vertical-align: middle;\n",
       "    }\n",
       "\n",
       "    .dataframe tbody tr th {\n",
       "        vertical-align: top;\n",
       "    }\n",
       "\n",
       "    .dataframe thead th {\n",
       "        text-align: right;\n",
       "    }\n",
       "</style>\n",
       "<table border=\"1\" class=\"dataframe\">\n",
       "  <thead>\n",
       "    <tr style=\"text-align: right;\">\n",
       "      <th></th>\n",
       "      <th>Pclass</th>\n",
       "      <th>Sex</th>\n",
       "      <th>SibSp</th>\n",
       "      <th>Parch</th>\n",
       "      <th>Embarked</th>\n",
       "      <th>Age</th>\n",
       "      <th>Fare</th>\n",
       "      <th>Survived</th>\n",
       "    </tr>\n",
       "  </thead>\n",
       "  <tbody>\n",
       "    <tr>\n",
       "      <th>0</th>\n",
       "      <td>3</td>\n",
       "      <td>male</td>\n",
       "      <td>1</td>\n",
       "      <td>0</td>\n",
       "      <td>S</td>\n",
       "      <td>22.0</td>\n",
       "      <td>7.2500</td>\n",
       "      <td>0</td>\n",
       "    </tr>\n",
       "    <tr>\n",
       "      <th>1</th>\n",
       "      <td>1</td>\n",
       "      <td>female</td>\n",
       "      <td>1</td>\n",
       "      <td>0</td>\n",
       "      <td>C</td>\n",
       "      <td>38.0</td>\n",
       "      <td>71.2833</td>\n",
       "      <td>1</td>\n",
       "    </tr>\n",
       "    <tr>\n",
       "      <th>2</th>\n",
       "      <td>3</td>\n",
       "      <td>female</td>\n",
       "      <td>0</td>\n",
       "      <td>0</td>\n",
       "      <td>S</td>\n",
       "      <td>26.0</td>\n",
       "      <td>7.9250</td>\n",
       "      <td>1</td>\n",
       "    </tr>\n",
       "    <tr>\n",
       "      <th>3</th>\n",
       "      <td>1</td>\n",
       "      <td>female</td>\n",
       "      <td>1</td>\n",
       "      <td>0</td>\n",
       "      <td>S</td>\n",
       "      <td>35.0</td>\n",
       "      <td>53.1000</td>\n",
       "      <td>1</td>\n",
       "    </tr>\n",
       "    <tr>\n",
       "      <th>4</th>\n",
       "      <td>3</td>\n",
       "      <td>male</td>\n",
       "      <td>0</td>\n",
       "      <td>0</td>\n",
       "      <td>S</td>\n",
       "      <td>35.0</td>\n",
       "      <td>8.0500</td>\n",
       "      <td>0</td>\n",
       "    </tr>\n",
       "  </tbody>\n",
       "</table>\n",
       "</div>"
      ],
      "text/plain": [
       "   Pclass     Sex  SibSp  Parch Embarked   Age     Fare  Survived\n",
       "0       3    male      1      0        S  22.0   7.2500         0\n",
       "1       1  female      1      0        C  38.0  71.2833         1\n",
       "2       3  female      0      0        S  26.0   7.9250         1\n",
       "3       1  female      1      0        S  35.0  53.1000         1\n",
       "4       3    male      0      0        S  35.0   8.0500         0"
      ]
     },
     "execution_count": 5,
     "metadata": {},
     "output_type": "execute_result"
    }
   ],
   "source": [
    "data_df[['Pclass', 'Sex', 'SibSp', 'Parch', 'Embarked', 'Age', 'Fare', 'Survived']].head()"
   ]
  },
  {
   "cell_type": "markdown",
   "metadata": {},
   "source": [
    "## 데이터 전처리 "
   ]
  },
  {
   "cell_type": "markdown",
   "metadata": {},
   "source": [
    "### 결측치 처리 - 대표값사용"
   ]
  },
  {
   "cell_type": "markdown",
   "metadata": {},
   "source": [
    "##### Embarked\n",
    "- 최대한 다른 변수에 영향을 안주는 범위에서 평균 제일 많은 값 채택 \n",
    "- 새로 채우는 값이 다른 조건을 찾는 것에 영향 제일 안주도록 최대한 비슷한 패턴에서 평균값 취하기\n",
    "- 최대한 생존했으며, 동승자 없고, ticket 번호 유사하고, 객실을 부여 받은 사람들\n",
    "- 모두 S 이므로 S로 채움 "
   ]
  },
  {
   "cell_type": "code",
   "execution_count": 6,
   "metadata": {},
   "outputs": [
    {
     "data": {
      "text/html": [
       "<div>\n",
       "<style scoped>\n",
       "    .dataframe tbody tr th:only-of-type {\n",
       "        vertical-align: middle;\n",
       "    }\n",
       "\n",
       "    .dataframe tbody tr th {\n",
       "        vertical-align: top;\n",
       "    }\n",
       "\n",
       "    .dataframe thead th {\n",
       "        text-align: right;\n",
       "    }\n",
       "</style>\n",
       "<table border=\"1\" class=\"dataframe\">\n",
       "  <thead>\n",
       "    <tr style=\"text-align: right;\">\n",
       "      <th></th>\n",
       "      <th>PassengerId</th>\n",
       "      <th>Survived</th>\n",
       "      <th>Pclass</th>\n",
       "      <th>Name</th>\n",
       "      <th>Sex</th>\n",
       "      <th>Age</th>\n",
       "      <th>SibSp</th>\n",
       "      <th>Parch</th>\n",
       "      <th>Ticket</th>\n",
       "      <th>Fare</th>\n",
       "      <th>Cabin</th>\n",
       "      <th>Embarked</th>\n",
       "    </tr>\n",
       "  </thead>\n",
       "  <tbody>\n",
       "    <tr>\n",
       "      <th>61</th>\n",
       "      <td>62</td>\n",
       "      <td>1</td>\n",
       "      <td>1</td>\n",
       "      <td>Icard, Miss. Amelie</td>\n",
       "      <td>female</td>\n",
       "      <td>38.0</td>\n",
       "      <td>0</td>\n",
       "      <td>0</td>\n",
       "      <td>113572</td>\n",
       "      <td>80.0</td>\n",
       "      <td>B28</td>\n",
       "      <td>NaN</td>\n",
       "    </tr>\n",
       "    <tr>\n",
       "      <th>829</th>\n",
       "      <td>830</td>\n",
       "      <td>1</td>\n",
       "      <td>1</td>\n",
       "      <td>Stone, Mrs. George Nelson (Martha Evelyn)</td>\n",
       "      <td>female</td>\n",
       "      <td>62.0</td>\n",
       "      <td>0</td>\n",
       "      <td>0</td>\n",
       "      <td>113572</td>\n",
       "      <td>80.0</td>\n",
       "      <td>B28</td>\n",
       "      <td>NaN</td>\n",
       "    </tr>\n",
       "  </tbody>\n",
       "</table>\n",
       "</div>"
      ],
      "text/plain": [
       "     PassengerId  Survived  Pclass                                       Name  \\\n",
       "61            62         1       1                        Icard, Miss. Amelie   \n",
       "829          830         1       1  Stone, Mrs. George Nelson (Martha Evelyn)   \n",
       "\n",
       "        Sex   Age  SibSp  Parch  Ticket  Fare Cabin Embarked  \n",
       "61   female  38.0      0      0  113572  80.0   B28      NaN  \n",
       "829  female  62.0      0      0  113572  80.0   B28      NaN  "
      ]
     },
     "execution_count": 6,
     "metadata": {},
     "output_type": "execute_result"
    }
   ],
   "source": [
    "# 우선, Embarked\n",
    "nan_embarked_records = data_df[data_df['Embarked'].isna()]\n",
    "nan_embarked_records"
   ]
  },
  {
   "cell_type": "code",
   "execution_count": 7,
   "metadata": {},
   "outputs": [
    {
     "data": {
      "text/html": [
       "<div>\n",
       "<style scoped>\n",
       "    .dataframe tbody tr th:only-of-type {\n",
       "        vertical-align: middle;\n",
       "    }\n",
       "\n",
       "    .dataframe tbody tr th {\n",
       "        vertical-align: top;\n",
       "    }\n",
       "\n",
       "    .dataframe thead th {\n",
       "        text-align: right;\n",
       "    }\n",
       "</style>\n",
       "<table border=\"1\" class=\"dataframe\">\n",
       "  <thead>\n",
       "    <tr style=\"text-align: right;\">\n",
       "      <th></th>\n",
       "      <th>PassengerId</th>\n",
       "      <th>Survived</th>\n",
       "      <th>Pclass</th>\n",
       "      <th>Name</th>\n",
       "      <th>Sex</th>\n",
       "      <th>Age</th>\n",
       "      <th>SibSp</th>\n",
       "      <th>Parch</th>\n",
       "      <th>Ticket</th>\n",
       "      <th>Fare</th>\n",
       "      <th>Cabin</th>\n",
       "      <th>Embarked</th>\n",
       "    </tr>\n",
       "  </thead>\n",
       "  <tbody>\n",
       "    <tr>\n",
       "      <th>319</th>\n",
       "      <td>320</td>\n",
       "      <td>1</td>\n",
       "      <td>1</td>\n",
       "      <td>Spedden, Mrs. Frederic Oakley (Margaretta Corn...</td>\n",
       "      <td>female</td>\n",
       "      <td>40.0</td>\n",
       "      <td>1</td>\n",
       "      <td>1</td>\n",
       "      <td>16966</td>\n",
       "      <td>134.5</td>\n",
       "      <td>E34</td>\n",
       "      <td>C</td>\n",
       "    </tr>\n",
       "    <tr>\n",
       "      <th>829</th>\n",
       "      <td>830</td>\n",
       "      <td>1</td>\n",
       "      <td>1</td>\n",
       "      <td>Stone, Mrs. George Nelson (Martha Evelyn)</td>\n",
       "      <td>female</td>\n",
       "      <td>62.0</td>\n",
       "      <td>0</td>\n",
       "      <td>0</td>\n",
       "      <td>113572</td>\n",
       "      <td>80.0</td>\n",
       "      <td>B28</td>\n",
       "      <td>NaN</td>\n",
       "    </tr>\n",
       "  </tbody>\n",
       "</table>\n",
       "</div>"
      ],
      "text/plain": [
       "     PassengerId  Survived  Pclass  \\\n",
       "319          320         1       1   \n",
       "829          830         1       1   \n",
       "\n",
       "                                                  Name     Sex   Age  SibSp  \\\n",
       "319  Spedden, Mrs. Frederic Oakley (Margaretta Corn...  female  40.0      1   \n",
       "829          Stone, Mrs. George Nelson (Martha Evelyn)  female  62.0      0   \n",
       "\n",
       "     Parch  Ticket   Fare Cabin Embarked  \n",
       "319      1   16966  134.5   E34        C  \n",
       "829      0  113572   80.0   B28      NaN  "
      ]
     },
     "execution_count": 7,
     "metadata": {},
     "output_type": "execute_result"
    }
   ],
   "source": [
    "data_df[data_df['Name'].str.contains('Stone', na=False)]"
   ]
  },
  {
   "cell_type": "code",
   "execution_count": 8,
   "metadata": {},
   "outputs": [
    {
     "data": {
      "text/html": [
       "<div>\n",
       "<style scoped>\n",
       "    .dataframe tbody tr th:only-of-type {\n",
       "        vertical-align: middle;\n",
       "    }\n",
       "\n",
       "    .dataframe tbody tr th {\n",
       "        vertical-align: top;\n",
       "    }\n",
       "\n",
       "    .dataframe thead th {\n",
       "        text-align: right;\n",
       "    }\n",
       "</style>\n",
       "<table border=\"1\" class=\"dataframe\">\n",
       "  <thead>\n",
       "    <tr style=\"text-align: right;\">\n",
       "      <th></th>\n",
       "      <th>PassengerId</th>\n",
       "      <th>Survived</th>\n",
       "      <th>Pclass</th>\n",
       "      <th>Name</th>\n",
       "      <th>Sex</th>\n",
       "      <th>Age</th>\n",
       "      <th>SibSp</th>\n",
       "      <th>Parch</th>\n",
       "      <th>Ticket</th>\n",
       "      <th>Fare</th>\n",
       "      <th>Cabin</th>\n",
       "      <th>Embarked</th>\n",
       "    </tr>\n",
       "  </thead>\n",
       "  <tbody>\n",
       "    <tr>\n",
       "      <th>1</th>\n",
       "      <td>2</td>\n",
       "      <td>1</td>\n",
       "      <td>1</td>\n",
       "      <td>Cumings, Mrs. John Bradley (Florence Briggs Th...</td>\n",
       "      <td>female</td>\n",
       "      <td>38.0</td>\n",
       "      <td>1</td>\n",
       "      <td>0</td>\n",
       "      <td>PC 17599</td>\n",
       "      <td>71.2833</td>\n",
       "      <td>C85</td>\n",
       "      <td>C</td>\n",
       "    </tr>\n",
       "    <tr>\n",
       "      <th>3</th>\n",
       "      <td>4</td>\n",
       "      <td>1</td>\n",
       "      <td>1</td>\n",
       "      <td>Futrelle, Mrs. Jacques Heath (Lily May Peel)</td>\n",
       "      <td>female</td>\n",
       "      <td>35.0</td>\n",
       "      <td>1</td>\n",
       "      <td>0</td>\n",
       "      <td>113803</td>\n",
       "      <td>53.1000</td>\n",
       "      <td>C123</td>\n",
       "      <td>S</td>\n",
       "    </tr>\n",
       "    <tr>\n",
       "      <th>6</th>\n",
       "      <td>7</td>\n",
       "      <td>0</td>\n",
       "      <td>1</td>\n",
       "      <td>McCarthy, Mr. Timothy J</td>\n",
       "      <td>male</td>\n",
       "      <td>54.0</td>\n",
       "      <td>0</td>\n",
       "      <td>0</td>\n",
       "      <td>17463</td>\n",
       "      <td>51.8625</td>\n",
       "      <td>E46</td>\n",
       "      <td>S</td>\n",
       "    </tr>\n",
       "    <tr>\n",
       "      <th>10</th>\n",
       "      <td>11</td>\n",
       "      <td>1</td>\n",
       "      <td>3</td>\n",
       "      <td>Sandstrom, Miss. Marguerite Rut</td>\n",
       "      <td>female</td>\n",
       "      <td>4.0</td>\n",
       "      <td>1</td>\n",
       "      <td>1</td>\n",
       "      <td>PP 9549</td>\n",
       "      <td>16.7000</td>\n",
       "      <td>G6</td>\n",
       "      <td>S</td>\n",
       "    </tr>\n",
       "    <tr>\n",
       "      <th>11</th>\n",
       "      <td>12</td>\n",
       "      <td>1</td>\n",
       "      <td>1</td>\n",
       "      <td>Bonnell, Miss. Elizabeth</td>\n",
       "      <td>female</td>\n",
       "      <td>58.0</td>\n",
       "      <td>0</td>\n",
       "      <td>0</td>\n",
       "      <td>113783</td>\n",
       "      <td>26.5500</td>\n",
       "      <td>C103</td>\n",
       "      <td>S</td>\n",
       "    </tr>\n",
       "  </tbody>\n",
       "</table>\n",
       "</div>"
      ],
      "text/plain": [
       "    PassengerId  Survived  Pclass  \\\n",
       "1             2         1       1   \n",
       "3             4         1       1   \n",
       "6             7         0       1   \n",
       "10           11         1       3   \n",
       "11           12         1       1   \n",
       "\n",
       "                                                 Name     Sex   Age  SibSp  \\\n",
       "1   Cumings, Mrs. John Bradley (Florence Briggs Th...  female  38.0      1   \n",
       "3        Futrelle, Mrs. Jacques Heath (Lily May Peel)  female  35.0      1   \n",
       "6                             McCarthy, Mr. Timothy J    male  54.0      0   \n",
       "10                    Sandstrom, Miss. Marguerite Rut  female   4.0      1   \n",
       "11                           Bonnell, Miss. Elizabeth  female  58.0      0   \n",
       "\n",
       "    Parch    Ticket     Fare Cabin Embarked  \n",
       "1       0  PC 17599  71.2833   C85        C  \n",
       "3       0    113803  53.1000  C123        S  \n",
       "6       0     17463  51.8625   E46        S  \n",
       "10      1   PP 9549  16.7000    G6        S  \n",
       "11      0    113783  26.5500  C103        S  "
      ]
     },
     "execution_count": 8,
     "metadata": {},
     "output_type": "execute_result"
    }
   ],
   "source": [
    "data_df[data_df['Cabin'].notna()].head()"
   ]
  },
  {
   "cell_type": "code",
   "execution_count": 9,
   "metadata": {},
   "outputs": [
    {
     "data": {
      "text/plain": [
       "Ticket\n",
       "113781    4\n",
       "113760    4\n",
       "113803    2\n",
       "113789    2\n",
       "113572    2\n",
       "113806    2\n",
       "113776    2\n",
       "113505    2\n",
       "113798    2\n",
       "113787    1\n",
       "113050    1\n",
       "113807    1\n",
       "113796    1\n",
       "113800    1\n",
       "113804    1\n",
       "113051    1\n",
       "113028    1\n",
       "113773    1\n",
       "113501    1\n",
       "113792    1\n",
       "113503    1\n",
       "113786    1\n",
       "113794    1\n",
       "113783    1\n",
       "113510    1\n",
       "113784    1\n",
       "113043    1\n",
       "113056    1\n",
       "113514    1\n",
       "113767    1\n",
       "113059    1\n",
       "113509    1\n",
       "113788    1\n",
       "113055    1\n",
       "Name: count, dtype: int64"
      ]
     },
     "execution_count": 9,
     "metadata": {},
     "output_type": "execute_result"
    }
   ],
   "source": [
    "condition_ticket = \"Ticket.str.match('^113\\\\d{3}$')\" # 113572\n",
    "data_df.query(f\"{condition_ticket}\")[\"Ticket\"].value_counts()\n"
   ]
  },
  {
   "cell_type": "code",
   "execution_count": 10,
   "metadata": {},
   "outputs": [
    {
     "data": {
      "text/html": [
       "<div>\n",
       "<style scoped>\n",
       "    .dataframe tbody tr th:only-of-type {\n",
       "        vertical-align: middle;\n",
       "    }\n",
       "\n",
       "    .dataframe tbody tr th {\n",
       "        vertical-align: top;\n",
       "    }\n",
       "\n",
       "    .dataframe thead th {\n",
       "        text-align: right;\n",
       "    }\n",
       "</style>\n",
       "<table border=\"1\" class=\"dataframe\">\n",
       "  <thead>\n",
       "    <tr style=\"text-align: right;\">\n",
       "      <th></th>\n",
       "      <th>PassengerId</th>\n",
       "      <th>Survived</th>\n",
       "      <th>Pclass</th>\n",
       "      <th>Name</th>\n",
       "      <th>Sex</th>\n",
       "      <th>Age</th>\n",
       "      <th>SibSp</th>\n",
       "      <th>Parch</th>\n",
       "      <th>Ticket</th>\n",
       "      <th>Fare</th>\n",
       "      <th>Cabin</th>\n",
       "      <th>Embarked</th>\n",
       "    </tr>\n",
       "  </thead>\n",
       "  <tbody>\n",
       "    <tr>\n",
       "      <th>11</th>\n",
       "      <td>12</td>\n",
       "      <td>1</td>\n",
       "      <td>1</td>\n",
       "      <td>Bonnell, Miss. Elizabeth</td>\n",
       "      <td>female</td>\n",
       "      <td>58.0</td>\n",
       "      <td>0</td>\n",
       "      <td>0</td>\n",
       "      <td>113783</td>\n",
       "      <td>26.55</td>\n",
       "      <td>C103</td>\n",
       "      <td>S</td>\n",
       "    </tr>\n",
       "    <tr>\n",
       "      <th>23</th>\n",
       "      <td>24</td>\n",
       "      <td>1</td>\n",
       "      <td>1</td>\n",
       "      <td>Sloper, Mr. William Thompson</td>\n",
       "      <td>male</td>\n",
       "      <td>28.0</td>\n",
       "      <td>0</td>\n",
       "      <td>0</td>\n",
       "      <td>113788</td>\n",
       "      <td>35.50</td>\n",
       "      <td>A6</td>\n",
       "      <td>S</td>\n",
       "    </tr>\n",
       "    <tr>\n",
       "      <th>61</th>\n",
       "      <td>62</td>\n",
       "      <td>1</td>\n",
       "      <td>1</td>\n",
       "      <td>Icard, Miss. Amelie</td>\n",
       "      <td>female</td>\n",
       "      <td>38.0</td>\n",
       "      <td>0</td>\n",
       "      <td>0</td>\n",
       "      <td>113572</td>\n",
       "      <td>80.00</td>\n",
       "      <td>B28</td>\n",
       "      <td>NaN</td>\n",
       "    </tr>\n",
       "    <tr>\n",
       "      <th>449</th>\n",
       "      <td>450</td>\n",
       "      <td>1</td>\n",
       "      <td>1</td>\n",
       "      <td>Peuchen, Major. Arthur Godfrey</td>\n",
       "      <td>male</td>\n",
       "      <td>52.0</td>\n",
       "      <td>0</td>\n",
       "      <td>0</td>\n",
       "      <td>113786</td>\n",
       "      <td>30.50</td>\n",
       "      <td>C104</td>\n",
       "      <td>S</td>\n",
       "    </tr>\n",
       "    <tr>\n",
       "      <th>829</th>\n",
       "      <td>830</td>\n",
       "      <td>1</td>\n",
       "      <td>1</td>\n",
       "      <td>Stone, Mrs. George Nelson (Martha Evelyn)</td>\n",
       "      <td>female</td>\n",
       "      <td>62.0</td>\n",
       "      <td>0</td>\n",
       "      <td>0</td>\n",
       "      <td>113572</td>\n",
       "      <td>80.00</td>\n",
       "      <td>B28</td>\n",
       "      <td>NaN</td>\n",
       "    </tr>\n",
       "    <tr>\n",
       "      <th>857</th>\n",
       "      <td>858</td>\n",
       "      <td>1</td>\n",
       "      <td>1</td>\n",
       "      <td>Daly, Mr. Peter Denis</td>\n",
       "      <td>male</td>\n",
       "      <td>51.0</td>\n",
       "      <td>0</td>\n",
       "      <td>0</td>\n",
       "      <td>113055</td>\n",
       "      <td>26.55</td>\n",
       "      <td>E17</td>\n",
       "      <td>S</td>\n",
       "    </tr>\n",
       "  </tbody>\n",
       "</table>\n",
       "</div>"
      ],
      "text/plain": [
       "     PassengerId  Survived  Pclass                                       Name  \\\n",
       "11            12         1       1                   Bonnell, Miss. Elizabeth   \n",
       "23            24         1       1               Sloper, Mr. William Thompson   \n",
       "61            62         1       1                        Icard, Miss. Amelie   \n",
       "449          450         1       1             Peuchen, Major. Arthur Godfrey   \n",
       "829          830         1       1  Stone, Mrs. George Nelson (Martha Evelyn)   \n",
       "857          858         1       1                     Daly, Mr. Peter Denis    \n",
       "\n",
       "        Sex   Age  SibSp  Parch  Ticket   Fare Cabin Embarked  \n",
       "11   female  58.0      0      0  113783  26.55  C103        S  \n",
       "23     male  28.0      0      0  113788  35.50    A6        S  \n",
       "61   female  38.0      0      0  113572  80.00   B28      NaN  \n",
       "449    male  52.0      0      0  113786  30.50  C104        S  \n",
       "829  female  62.0      0      0  113572  80.00   B28      NaN  \n",
       "857    male  51.0      0      0  113055  26.55   E17        S  "
      ]
     },
     "execution_count": 10,
     "metadata": {},
     "output_type": "execute_result"
    }
   ],
   "source": [
    "# 각 조건들을 변수로 정의\n",
    "condition_pclass = \"Pclass == 1\"\n",
    "condition_fare = \"Fare >= 79.0 and Fare <= 82.0\"\n",
    "condition_SibSp = \"SibSp == 0\"\n",
    "condition_Parch = \"Parch == 0\"\n",
    "condition_Survived = \"Survived == 1\"\n",
    "condition_ticket = \"Ticket.str.match('^113\\\\d{3}$')\" # 113572\n",
    "\n",
    "# 모든 조건을 결합하여 쿼리 실행\n",
    "# data_df[data_df['Cabin'].notna()].query(f\"{condition_pclass} and {condition_fare} and {condition_SibSp} and {condition_cabin}\")\n",
    "data_df[data_df['Cabin'].notna()].query(f\"{condition_Survived} and {condition_ticket}\")\n",
    "data_df[data_df['Cabin'].notna()].query(f\"{condition_Survived} and {condition_ticket} and {condition_SibSp} and {condition_Parch}\")\n"
   ]
  },
  {
   "cell_type": "code",
   "execution_count": 11,
   "metadata": {},
   "outputs": [
    {
     "name": "stdout",
     "output_type": "stream",
     "text": [
      "<class 'pandas.core.frame.DataFrame'>\n",
      "RangeIndex: 891 entries, 0 to 890\n",
      "Data columns (total 12 columns):\n",
      " #   Column       Non-Null Count  Dtype  \n",
      "---  ------       --------------  -----  \n",
      " 0   PassengerId  891 non-null    int64  \n",
      " 1   Survived     891 non-null    int64  \n",
      " 2   Pclass       891 non-null    int64  \n",
      " 3   Name         891 non-null    object \n",
      " 4   Sex          891 non-null    object \n",
      " 5   Age          714 non-null    float64\n",
      " 6   SibSp        891 non-null    int64  \n",
      " 7   Parch        891 non-null    int64  \n",
      " 8   Ticket       891 non-null    object \n",
      " 9   Fare         891 non-null    float64\n",
      " 10  Cabin        204 non-null    object \n",
      " 11  Embarked     891 non-null    object \n",
      "dtypes: float64(2), int64(5), object(5)\n",
      "memory usage: 83.7+ KB\n"
     ]
    }
   ],
   "source": [
    "data_df['Embarked'] = data_df['Embarked'].fillna('S')\n",
    "data_df.info()"
   ]
  },
  {
   "cell_type": "code",
   "execution_count": 12,
   "metadata": {},
   "outputs": [],
   "source": [
    "# age 는 ML 쓸거니까 다른거 먼저 처리하고 채우자"
   ]
  },
  {
   "cell_type": "markdown",
   "metadata": {},
   "source": [
    "### 범주형 처리"
   ]
  },
  {
   "cell_type": "code",
   "execution_count": 13,
   "metadata": {},
   "outputs": [
    {
     "name": "stdout",
     "output_type": "stream",
     "text": [
      "<class 'pandas.core.frame.DataFrame'>\n",
      "RangeIndex: 891 entries, 0 to 890\n",
      "Data columns (total 8 columns):\n",
      " #   Column    Non-Null Count  Dtype  \n",
      "---  ------    --------------  -----  \n",
      " 0   Survived  891 non-null    int64  \n",
      " 1   Pclass    891 non-null    int64  \n",
      " 2   Sex       891 non-null    object \n",
      " 3   Age       714 non-null    float64\n",
      " 4   SibSp     891 non-null    int64  \n",
      " 5   Parch     891 non-null    int64  \n",
      " 6   Fare      891 non-null    float64\n",
      " 7   Embarked  891 non-null    object \n",
      "dtypes: float64(2), int64(4), object(2)\n",
      "memory usage: 55.8+ KB\n"
     ]
    }
   ],
   "source": [
    "data_df = data_df.drop(columns=['Cabin', 'PassengerId', 'Ticket', 'Name'])\n",
    "data_df.info()"
   ]
  },
  {
   "cell_type": "code",
   "execution_count": 14,
   "metadata": {},
   "outputs": [],
   "source": [
    "# 일단 제외 하고 가자 \n",
    "# Survived 는 어차피 labelencode 해야해\n",
    "# Age는 missing 이후에 처리\n",
    "final_label_name = 'Survived'\n",
    "missing_label_name = 'Age'"
   ]
  },
  {
   "cell_type": "code",
   "execution_count": 15,
   "metadata": {},
   "outputs": [],
   "source": [
    "labelencoder = LabelEncoder()\n",
    "labelencoder.fit(data_df[final_label_name])\n",
    "encoded_label = labelencoder.transform(data_df[final_label_name])"
   ]
  },
  {
   "cell_type": "code",
   "execution_count": 16,
   "metadata": {},
   "outputs": [],
   "source": [
    "# encoded_label 이거 dataframe 만들기 \n",
    "label_df = pd.DataFrame(data=encoded_label, columns=[final_label_name], index=data_df.index)"
   ]
  },
  {
   "cell_type": "code",
   "execution_count": 17,
   "metadata": {},
   "outputs": [],
   "source": [
    "missing_label = data_df[missing_label_name]"
   ]
  },
  {
   "cell_type": "code",
   "execution_count": 18,
   "metadata": {},
   "outputs": [
    {
     "name": "stdout",
     "output_type": "stream",
     "text": [
      "<class 'pandas.core.frame.DataFrame'>\n",
      "RangeIndex: 891 entries, 0 to 890\n",
      "Data columns (total 6 columns):\n",
      " #   Column    Non-Null Count  Dtype  \n",
      "---  ------    --------------  -----  \n",
      " 0   Pclass    891 non-null    int64  \n",
      " 1   Sex       891 non-null    object \n",
      " 2   SibSp     891 non-null    int64  \n",
      " 3   Parch     891 non-null    int64  \n",
      " 4   Fare      891 non-null    float64\n",
      " 5   Embarked  891 non-null    object \n",
      "dtypes: float64(1), int64(3), object(2)\n",
      "memory usage: 41.9+ KB\n"
     ]
    }
   ],
   "source": [
    "data_df = data_df.drop(columns=[final_label_name, missing_label_name])\n",
    "data_df.info()"
   ]
  },
  {
   "cell_type": "code",
   "execution_count": 19,
   "metadata": {},
   "outputs": [],
   "source": [
    "def split_categorical_numerical(df, unique_threshold=0.05):\n",
    "    \"\"\"\n",
    "    데이터프레임을 범주형과 수치형으로 분리\n",
    "    \n",
    "    Parameters:\n",
    "    - df: 입력 데이터프레임\n",
    "    - unique_threshold: unique 값 비율 임계값 (기본값 0.05 = 5%)\n",
    "    \n",
    "    Returns:\n",
    "    - categorical_df: 범주형 컬럼만 있는 데이터프레임\n",
    "    - numerical_df: 수치형 컬럼만 있는 데이터프레임\n",
    "    \"\"\"\n",
    "    \n",
    "    categorical_cols = []\n",
    "    numerical_cols = []\n",
    "    \n",
    "    n_rows = len(df)\n",
    "    \n",
    "    for col in df.columns:\n",
    "        # unique 값의 비율 계산\n",
    "        unique_ratio = len(df[col].unique()) / n_rows\n",
    "        \n",
    "        # object 타입이거나, unique 값 비율이 임계값보다 작으면 범주형으로 분류\n",
    "        # df[col].dtype == 'object' or\n",
    "        if unique_ratio < unique_threshold:\n",
    "            categorical_cols.append(col)\n",
    "        else:\n",
    "            numerical_cols.append(col)\n",
    "            \n",
    "    return df[categorical_cols], df[numerical_cols]"
   ]
  },
  {
   "cell_type": "code",
   "execution_count": 20,
   "metadata": {},
   "outputs": [
    {
     "name": "stdout",
     "output_type": "stream",
     "text": [
      "<class 'pandas.core.frame.DataFrame'>\n",
      "RangeIndex: 891 entries, 0 to 890\n",
      "Data columns (total 5 columns):\n",
      " #   Column    Non-Null Count  Dtype \n",
      "---  ------    --------------  ----- \n",
      " 0   Pclass    891 non-null    int64 \n",
      " 1   Sex       891 non-null    object\n",
      " 2   SibSp     891 non-null    int64 \n",
      " 3   Parch     891 non-null    int64 \n",
      " 4   Embarked  891 non-null    object\n",
      "dtypes: int64(3), object(2)\n",
      "memory usage: 34.9+ KB\n"
     ]
    }
   ],
   "source": [
    "cat_df, num_df = split_categorical_numerical(data_df)\n",
    "cat_df.info()"
   ]
  },
  {
   "cell_type": "code",
   "execution_count": 21,
   "metadata": {},
   "outputs": [
    {
     "name": "stdout",
     "output_type": "stream",
     "text": [
      "<class 'pandas.core.frame.DataFrame'>\n",
      "RangeIndex: 891 entries, 0 to 890\n",
      "Data columns (total 1 columns):\n",
      " #   Column  Non-Null Count  Dtype  \n",
      "---  ------  --------------  -----  \n",
      " 0   Fare    891 non-null    float64\n",
      "dtypes: float64(1)\n",
      "memory usage: 7.1 KB\n"
     ]
    }
   ],
   "source": [
    "num_df.info()"
   ]
  },
  {
   "cell_type": "code",
   "execution_count": 22,
   "metadata": {},
   "outputs": [],
   "source": [
    "def run_onehotencode(data_df, model=OneHotEncoder()):\n",
    "\n",
    "    columns = data_df.columns\n",
    "    model_list = []\n",
    "    for col in columns :\n",
    "        model.fit(X=data_df[[col]])\n",
    "        model_list.append(deepcopy(model))\n",
    "        encoded_pclass = model.transform(X=data_df[[col]]).toarray()\n",
    "        pclass_name_list = model.get_feature_names_out(input_features=[col])\n",
    "        pclass_df = pd.DataFrame(data=encoded_pclass, columns=pclass_name_list, index=data_df.index)\n",
    "        # 원본 자르는거 추가 \n",
    "\n",
    "        data_df = pd.concat([data_df.drop(columns=[col]), pclass_df], axis=1)\n",
    "\n",
    "    return data_df, model_list"
   ]
  },
  {
   "cell_type": "code",
   "execution_count": 23,
   "metadata": {},
   "outputs": [
    {
     "data": {
      "text/html": [
       "<div>\n",
       "<style scoped>\n",
       "    .dataframe tbody tr th:only-of-type {\n",
       "        vertical-align: middle;\n",
       "    }\n",
       "\n",
       "    .dataframe tbody tr th {\n",
       "        vertical-align: top;\n",
       "    }\n",
       "\n",
       "    .dataframe thead th {\n",
       "        text-align: right;\n",
       "    }\n",
       "</style>\n",
       "<table border=\"1\" class=\"dataframe\">\n",
       "  <thead>\n",
       "    <tr style=\"text-align: right;\">\n",
       "      <th></th>\n",
       "      <th>Pclass_1</th>\n",
       "      <th>Pclass_2</th>\n",
       "      <th>Pclass_3</th>\n",
       "      <th>Sex_female</th>\n",
       "      <th>Sex_male</th>\n",
       "      <th>SibSp_0</th>\n",
       "      <th>SibSp_1</th>\n",
       "      <th>SibSp_2</th>\n",
       "      <th>SibSp_3</th>\n",
       "      <th>SibSp_4</th>\n",
       "      <th>...</th>\n",
       "      <th>Parch_3</th>\n",
       "      <th>Parch_4</th>\n",
       "      <th>Parch_5</th>\n",
       "      <th>Parch_6</th>\n",
       "      <th>Embarked_C</th>\n",
       "      <th>Embarked_Q</th>\n",
       "      <th>Embarked_S</th>\n",
       "      <th>Fare</th>\n",
       "      <th>Survived</th>\n",
       "      <th>Age</th>\n",
       "    </tr>\n",
       "  </thead>\n",
       "  <tbody>\n",
       "    <tr>\n",
       "      <th>0</th>\n",
       "      <td>0.0</td>\n",
       "      <td>0.0</td>\n",
       "      <td>1.0</td>\n",
       "      <td>0.0</td>\n",
       "      <td>1.0</td>\n",
       "      <td>0.0</td>\n",
       "      <td>1.0</td>\n",
       "      <td>0.0</td>\n",
       "      <td>0.0</td>\n",
       "      <td>0.0</td>\n",
       "      <td>...</td>\n",
       "      <td>0.0</td>\n",
       "      <td>0.0</td>\n",
       "      <td>0.0</td>\n",
       "      <td>0.0</td>\n",
       "      <td>0.0</td>\n",
       "      <td>0.0</td>\n",
       "      <td>1.0</td>\n",
       "      <td>7.2500</td>\n",
       "      <td>0</td>\n",
       "      <td>22.0</td>\n",
       "    </tr>\n",
       "    <tr>\n",
       "      <th>1</th>\n",
       "      <td>1.0</td>\n",
       "      <td>0.0</td>\n",
       "      <td>0.0</td>\n",
       "      <td>1.0</td>\n",
       "      <td>0.0</td>\n",
       "      <td>0.0</td>\n",
       "      <td>1.0</td>\n",
       "      <td>0.0</td>\n",
       "      <td>0.0</td>\n",
       "      <td>0.0</td>\n",
       "      <td>...</td>\n",
       "      <td>0.0</td>\n",
       "      <td>0.0</td>\n",
       "      <td>0.0</td>\n",
       "      <td>0.0</td>\n",
       "      <td>1.0</td>\n",
       "      <td>0.0</td>\n",
       "      <td>0.0</td>\n",
       "      <td>71.2833</td>\n",
       "      <td>1</td>\n",
       "      <td>38.0</td>\n",
       "    </tr>\n",
       "    <tr>\n",
       "      <th>2</th>\n",
       "      <td>0.0</td>\n",
       "      <td>0.0</td>\n",
       "      <td>1.0</td>\n",
       "      <td>1.0</td>\n",
       "      <td>0.0</td>\n",
       "      <td>1.0</td>\n",
       "      <td>0.0</td>\n",
       "      <td>0.0</td>\n",
       "      <td>0.0</td>\n",
       "      <td>0.0</td>\n",
       "      <td>...</td>\n",
       "      <td>0.0</td>\n",
       "      <td>0.0</td>\n",
       "      <td>0.0</td>\n",
       "      <td>0.0</td>\n",
       "      <td>0.0</td>\n",
       "      <td>0.0</td>\n",
       "      <td>1.0</td>\n",
       "      <td>7.9250</td>\n",
       "      <td>1</td>\n",
       "      <td>26.0</td>\n",
       "    </tr>\n",
       "    <tr>\n",
       "      <th>3</th>\n",
       "      <td>1.0</td>\n",
       "      <td>0.0</td>\n",
       "      <td>0.0</td>\n",
       "      <td>1.0</td>\n",
       "      <td>0.0</td>\n",
       "      <td>0.0</td>\n",
       "      <td>1.0</td>\n",
       "      <td>0.0</td>\n",
       "      <td>0.0</td>\n",
       "      <td>0.0</td>\n",
       "      <td>...</td>\n",
       "      <td>0.0</td>\n",
       "      <td>0.0</td>\n",
       "      <td>0.0</td>\n",
       "      <td>0.0</td>\n",
       "      <td>0.0</td>\n",
       "      <td>0.0</td>\n",
       "      <td>1.0</td>\n",
       "      <td>53.1000</td>\n",
       "      <td>1</td>\n",
       "      <td>35.0</td>\n",
       "    </tr>\n",
       "    <tr>\n",
       "      <th>4</th>\n",
       "      <td>0.0</td>\n",
       "      <td>0.0</td>\n",
       "      <td>1.0</td>\n",
       "      <td>0.0</td>\n",
       "      <td>1.0</td>\n",
       "      <td>1.0</td>\n",
       "      <td>0.0</td>\n",
       "      <td>0.0</td>\n",
       "      <td>0.0</td>\n",
       "      <td>0.0</td>\n",
       "      <td>...</td>\n",
       "      <td>0.0</td>\n",
       "      <td>0.0</td>\n",
       "      <td>0.0</td>\n",
       "      <td>0.0</td>\n",
       "      <td>0.0</td>\n",
       "      <td>0.0</td>\n",
       "      <td>1.0</td>\n",
       "      <td>8.0500</td>\n",
       "      <td>0</td>\n",
       "      <td>35.0</td>\n",
       "    </tr>\n",
       "  </tbody>\n",
       "</table>\n",
       "<p>5 rows × 25 columns</p>\n",
       "</div>"
      ],
      "text/plain": [
       "   Pclass_1  Pclass_2  Pclass_3  Sex_female  Sex_male  SibSp_0  SibSp_1  \\\n",
       "0       0.0       0.0       1.0         0.0       1.0      0.0      1.0   \n",
       "1       1.0       0.0       0.0         1.0       0.0      0.0      1.0   \n",
       "2       0.0       0.0       1.0         1.0       0.0      1.0      0.0   \n",
       "3       1.0       0.0       0.0         1.0       0.0      0.0      1.0   \n",
       "4       0.0       0.0       1.0         0.0       1.0      1.0      0.0   \n",
       "\n",
       "   SibSp_2  SibSp_3  SibSp_4  ...  Parch_3  Parch_4  Parch_5  Parch_6  \\\n",
       "0      0.0      0.0      0.0  ...      0.0      0.0      0.0      0.0   \n",
       "1      0.0      0.0      0.0  ...      0.0      0.0      0.0      0.0   \n",
       "2      0.0      0.0      0.0  ...      0.0      0.0      0.0      0.0   \n",
       "3      0.0      0.0      0.0  ...      0.0      0.0      0.0      0.0   \n",
       "4      0.0      0.0      0.0  ...      0.0      0.0      0.0      0.0   \n",
       "\n",
       "   Embarked_C  Embarked_Q  Embarked_S     Fare  Survived   Age  \n",
       "0         0.0         0.0         1.0   7.2500         0  22.0  \n",
       "1         1.0         0.0         0.0  71.2833         1  38.0  \n",
       "2         0.0         0.0         1.0   7.9250         1  26.0  \n",
       "3         0.0         0.0         1.0  53.1000         1  35.0  \n",
       "4         0.0         0.0         1.0   8.0500         0  35.0  \n",
       "\n",
       "[5 rows x 25 columns]"
      ]
     },
     "execution_count": 23,
     "metadata": {},
     "output_type": "execute_result"
    }
   ],
   "source": [
    "onehot_df, model_list = run_onehotencode(cat_df)\n",
    "missing_df = pd.concat([onehot_df, num_df, label_df, missing_label], axis=1)\n",
    "missing_df.head()"
   ]
  },
  {
   "cell_type": "code",
   "execution_count": 24,
   "metadata": {},
   "outputs": [
    {
     "name": "stdout",
     "output_type": "stream",
     "text": [
      "<class 'pandas.core.frame.DataFrame'>\n",
      "RangeIndex: 891 entries, 0 to 890\n",
      "Data columns (total 25 columns):\n",
      " #   Column      Non-Null Count  Dtype  \n",
      "---  ------      --------------  -----  \n",
      " 0   Pclass_1    891 non-null    float64\n",
      " 1   Pclass_2    891 non-null    float64\n",
      " 2   Pclass_3    891 non-null    float64\n",
      " 3   Sex_female  891 non-null    float64\n",
      " 4   Sex_male    891 non-null    float64\n",
      " 5   SibSp_0     891 non-null    float64\n",
      " 6   SibSp_1     891 non-null    float64\n",
      " 7   SibSp_2     891 non-null    float64\n",
      " 8   SibSp_3     891 non-null    float64\n",
      " 9   SibSp_4     891 non-null    float64\n",
      " 10  SibSp_5     891 non-null    float64\n",
      " 11  SibSp_8     891 non-null    float64\n",
      " 12  Parch_0     891 non-null    float64\n",
      " 13  Parch_1     891 non-null    float64\n",
      " 14  Parch_2     891 non-null    float64\n",
      " 15  Parch_3     891 non-null    float64\n",
      " 16  Parch_4     891 non-null    float64\n",
      " 17  Parch_5     891 non-null    float64\n",
      " 18  Parch_6     891 non-null    float64\n",
      " 19  Embarked_C  891 non-null    float64\n",
      " 20  Embarked_Q  891 non-null    float64\n",
      " 21  Embarked_S  891 non-null    float64\n",
      " 22  Fare        891 non-null    float64\n",
      " 23  Survived    891 non-null    int64  \n",
      " 24  Age         714 non-null    float64\n",
      "dtypes: float64(24), int64(1)\n",
      "memory usage: 174.1 KB\n"
     ]
    }
   ],
   "source": [
    "missing_df.info()"
   ]
  },
  {
   "cell_type": "markdown",
   "metadata": {},
   "source": [
    "### 결측치 처리 - ML"
   ]
  },
  {
   "cell_type": "markdown",
   "metadata": {},
   "source": [
    "##### ML로 결측치 채우기\n",
    "- 기존에 randomforest가 좋았으니 그거 씀.\n",
    "- 사전에 준비 해둔 값들을 사용해서 채우기"
   ]
  },
  {
   "cell_type": "markdown",
   "metadata": {},
   "source": [
    "##### 결측치 결과 \n",
    "- r2 score : 0.7\n",
    "- 평균 오차 : 5.46\n",
    "- 나쁘지 않은 성능으로 보임."
   ]
  },
  {
   "cell_type": "code",
   "execution_count": 25,
   "metadata": {},
   "outputs": [],
   "source": [
    "def train_model(df, target_column, model=RandomForestRegressor()):\n",
    "    \"\"\"\n",
    "    주어진 데이터프레임과 타겟 컬럼, 모델로 학습을 수행하고 평가 지표를 반환하는 함수\n",
    "    \n",
    "    Parameters:\n",
    "    df : DataFrame - 학습에 사용할 데이터프레임\n",
    "    target_column : str - 예측하고자 하는 타겟 컬럼명\n",
    "    model : sklearn model object - 학습에 사용할 모델 (기본값: RandomForestRegressor)\n",
    "    \n",
    "    Returns:\n",
    "    dict - 모델 성능 평가 결과\n",
    "    \"\"\"\n",
    "    \n",
    "    # 특성과 타겟 분리\n",
    "    X = df.drop(columns=[target_column])\n",
    "    y = df[target_column]\n",
    "    \n",
    "    # 모델 학습\n",
    "    model.fit(X, y)\n",
    "    \n",
    "    # 예측\n",
    "    predictions = model.predict(X)\n",
    "    \n",
    "    # 평가 지표 계산\n",
    "    results = {\n",
    "        'model_name': model.__class__.__name__,\n",
    "        'r2_score': r2_score(y_true=y, y_pred=predictions),\n",
    "        'mse': mean_squared_error(y_true=y, y_pred=predictions),\n",
    "        'model_score': model.score(X, y)\n",
    "    }\n",
    "    \n",
    "    return results, model"
   ]
  },
  {
   "cell_type": "code",
   "execution_count": 26,
   "metadata": {},
   "outputs": [],
   "source": [
    "def evaluate_predictions(df, target_column, trained_model):\n",
    "    \"\"\"\n",
    "    학습된 모델을 사용하여 예측을 수행하고 결과를 평가하는 함수\n",
    "    \n",
    "    Parameters:\n",
    "    df : DataFrame - 예측에 사용할 데이터프레임\n",
    "    target_column : str - 예측하고자 하는 타겟 컬럼명\n",
    "    trained_model : sklearn model - 학습된 모델\n",
    "    \n",
    "    Returns:\n",
    "    DataFrame - 실제값과 예측값을 포함한 데이터프레임\n",
    "    \"\"\"\n",
    "    # 타겟 컬럼의 실제값이 있는 데이터만 선택 (검증용)\n",
    "    test_df = df[df[target_column].notna()].copy()\n",
    "      \n",
    "    # 예측을 위한 특성 준비\n",
    "    X_test = test_df.drop(columns=[target_column])\n",
    "    \n",
    "    # 예측 수행\n",
    "    predictions = trained_model.predict(X_test)\n",
    "    \n",
    "    # 결과 비교 데이터프레임 생성\n",
    "    comparison = pd.DataFrame({\n",
    "        'actual': test_df[target_column],\n",
    "        'predicted': predictions,\n",
    "        'difference': test_df[target_column] - predictions\n",
    "    })\n",
    "    \n",
    "    return comparison"
   ]
  },
  {
   "cell_type": "code",
   "execution_count": 27,
   "metadata": {},
   "outputs": [],
   "source": [
    "rf_results, rf_model = train_model(missing_df.dropna(), missing_label_name, RandomForestRegressor())"
   ]
  },
  {
   "cell_type": "code",
   "execution_count": 28,
   "metadata": {},
   "outputs": [
    {
     "data": {
      "text/plain": [
       "{'model_name': 'RandomForestRegressor',\n",
       " 'r2_score': 0.7322272186473586,\n",
       " 'mse': 56.42603904722433,\n",
       " 'model_score': 0.7322272186473586}"
      ]
     },
     "execution_count": 28,
     "metadata": {},
     "output_type": "execute_result"
    }
   ],
   "source": [
    "rf_results"
   ]
  },
  {
   "cell_type": "code",
   "execution_count": 47,
   "metadata": {},
   "outputs": [
    {
     "data": {
      "text/plain": [
       "(   actual  predicted  difference\n",
       " 0    22.0  22.971909   -0.971909\n",
       " 1    38.0  42.006667   -4.006667\n",
       " 2    26.0  26.977286   -0.977286\n",
       " 3    35.0  33.876571    1.123429\n",
       " 4    35.0  31.523122    3.476878,\n",
       " 5.469913576676909,\n",
       " -0.06956845709114431)"
      ]
     },
     "execution_count": 47,
     "metadata": {},
     "output_type": "execute_result"
    }
   ],
   "source": [
    "comparison = evaluate_predictions(missing_df.dropna(), missing_label_name, rf_model)\n",
    "comparison.head(), comparison['difference'].abs().mean(), comparison['difference'].mean()"
   ]
  },
  {
   "cell_type": "code",
   "execution_count": 30,
   "metadata": {},
   "outputs": [],
   "source": [
    "def fill_missing_values(df, target_column, trained_model):\n",
    "    \"\"\"\n",
    "    학습된 모델을 사용하여 결측치를 예측하고 채우는 함수\n",
    "    \n",
    "    Parameters:\n",
    "    df : DataFrame - 결측치를 채울 데이터프레임\n",
    "    target_column : str - 결측치를 채울 타겟 컬럼명\n",
    "    trained_model : sklearn model - 학습된 모델\n",
    "    \n",
    "    Returns:\n",
    "    DataFrame - 결측치가 채워진 데이터프레임\n",
    "    \"\"\"\n",
    "    # 원본 데이터 복사\n",
    "    filled_df = df.copy()\n",
    "    \n",
    "    # 결측치가 있는 레코드 선택\n",
    "    missing_mask = df[target_column].isna()\n",
    "    missing_records = df[missing_mask]\n",
    "    \n",
    "    if len(missing_records) > 0:\n",
    "        # 예측을 위한 특성 준비 (target_column 제외)\n",
    "        X_missing = missing_records.drop(columns=[target_column])\n",
    "        \n",
    "        # 결측치 예측\n",
    "        predictions = trained_model.predict(X_missing)\n",
    "        \n",
    "        # 예측값으로 결측치 채우기\n",
    "        filled_df.loc[missing_mask, target_column] = predictions\n",
    "    \n",
    "    return filled_df"
   ]
  },
  {
   "cell_type": "code",
   "execution_count": 31,
   "metadata": {},
   "outputs": [],
   "source": [
    "# NaN인 레코드의 인덱스 저장\n",
    "nan_indices = missing_df[missing_df[missing_label_name].isna()].index\n",
    "\n",
    "# 결측치 채우기\n",
    "filled_missing_df = fill_missing_values(missing_df, missing_label_name, rf_model)\n",
    "\n",
    "# nan_indices에 해당하는 예측값들을 정수로 변환\n",
    "filled_missing_df.loc[nan_indices, missing_label_name] = filled_missing_df.loc[nan_indices, missing_label_name].astype(float).round(0).astype(int)"
   ]
  },
  {
   "cell_type": "code",
   "execution_count": 32,
   "metadata": {},
   "outputs": [
    {
     "data": {
      "text/plain": [
       "5      34.0\n",
       "17     35.0\n",
       "19     15.0\n",
       "26     35.0\n",
       "28     19.0\n",
       "       ... \n",
       "859    26.0\n",
       "863    23.0\n",
       "868    25.0\n",
       "878    27.0\n",
       "888    26.0\n",
       "Name: Age, Length: 177, dtype: float64"
      ]
     },
     "execution_count": 32,
     "metadata": {},
     "output_type": "execute_result"
    }
   ],
   "source": [
    "filled_missing_df.loc[nan_indices, missing_label_name]"
   ]
  },
  {
   "cell_type": "code",
   "execution_count": 33,
   "metadata": {},
   "outputs": [],
   "source": [
    "filled_missing_df = filled_missing_df.drop(columns=[final_label_name])"
   ]
  },
  {
   "cell_type": "code",
   "execution_count": 34,
   "metadata": {},
   "outputs": [
    {
     "name": "stdout",
     "output_type": "stream",
     "text": [
      "<class 'pandas.core.frame.DataFrame'>\n",
      "RangeIndex: 891 entries, 0 to 890\n",
      "Data columns (total 24 columns):\n",
      " #   Column      Non-Null Count  Dtype  \n",
      "---  ------      --------------  -----  \n",
      " 0   Pclass_1    891 non-null    float64\n",
      " 1   Pclass_2    891 non-null    float64\n",
      " 2   Pclass_3    891 non-null    float64\n",
      " 3   Sex_female  891 non-null    float64\n",
      " 4   Sex_male    891 non-null    float64\n",
      " 5   SibSp_0     891 non-null    float64\n",
      " 6   SibSp_1     891 non-null    float64\n",
      " 7   SibSp_2     891 non-null    float64\n",
      " 8   SibSp_3     891 non-null    float64\n",
      " 9   SibSp_4     891 non-null    float64\n",
      " 10  SibSp_5     891 non-null    float64\n",
      " 11  SibSp_8     891 non-null    float64\n",
      " 12  Parch_0     891 non-null    float64\n",
      " 13  Parch_1     891 non-null    float64\n",
      " 14  Parch_2     891 non-null    float64\n",
      " 15  Parch_3     891 non-null    float64\n",
      " 16  Parch_4     891 non-null    float64\n",
      " 17  Parch_5     891 non-null    float64\n",
      " 18  Parch_6     891 non-null    float64\n",
      " 19  Embarked_C  891 non-null    float64\n",
      " 20  Embarked_Q  891 non-null    float64\n",
      " 21  Embarked_S  891 non-null    float64\n",
      " 22  Fare        891 non-null    float64\n",
      " 23  Age         891 non-null    float64\n",
      "dtypes: float64(24)\n",
      "memory usage: 167.2 KB\n"
     ]
    }
   ],
   "source": [
    "filled_missing_df.info()"
   ]
  },
  {
   "cell_type": "markdown",
   "metadata": {},
   "source": [
    "### 이상치 처리\n",
    "- Fare는 가격 차가 의미가 있을 것이라고 생각\n",
    "- Age는 특정 나이 이상이면 크게 의미 없을 것이라고 생각, 다만 ML로 채운값이라 당장 조절하지는 않음."
   ]
  },
  {
   "cell_type": "code",
   "execution_count": 63,
   "metadata": {},
   "outputs": [
    {
     "name": "stderr",
     "output_type": "stream",
     "text": [
      "findfont: Font family 'NanumGothicCoding' not found.\n",
      "findfont: Font family 'NanumGothicCoding' not found.\n",
      "findfont: Font family 'NanumGothicCoding' not found.\n",
      "findfont: Font family 'NanumGothicCoding' not found.\n",
      "findfont: Font family 'NanumGothicCoding' not found.\n",
      "findfont: Font family 'NanumGothicCoding' not found.\n",
      "findfont: Font family 'NanumGothicCoding' not found.\n",
      "findfont: Font family 'NanumGothicCoding' not found.\n",
      "findfont: Font family 'NanumGothicCoding' not found.\n",
      "findfont: Font family 'NanumGothicCoding' not found.\n",
      "findfont: Font family 'NanumGothicCoding' not found.\n",
      "findfont: Font family 'NanumGothicCoding' not found.\n",
      "findfont: Font family 'NanumGothicCoding' not found.\n",
      "findfont: Font family 'NanumGothicCoding' not found.\n",
      "findfont: Font family 'NanumGothicCoding' not found.\n",
      "findfont: Font family 'NanumGothicCoding' not found.\n",
      "findfont: Font family 'NanumGothicCoding' not found.\n",
      "findfont: Font family 'NanumGothicCoding' not found.\n",
      "findfont: Font family 'NanumGothicCoding' not found.\n",
      "findfont: Font family 'NanumGothicCoding' not found.\n",
      "findfont: Font family 'NanumGothicCoding' not found.\n",
      "findfont: Font family 'NanumGothicCoding' not found.\n",
      "findfont: Font family 'NanumGothicCoding' not found.\n",
      "findfont: Font family 'NanumGothicCoding' not found.\n",
      "findfont: Font family 'NanumGothicCoding' not found.\n",
      "findfont: Font family 'NanumGothicCoding' not found.\n",
      "findfont: Font family 'NanumGothicCoding' not found.\n",
      "findfont: Font family 'NanumGothicCoding' not found.\n",
      "findfont: Font family 'NanumGothicCoding' not found.\n",
      "findfont: Font family 'NanumGothicCoding' not found.\n",
      "findfont: Font family 'NanumGothicCoding' not found.\n",
      "findfont: Font family 'NanumGothicCoding' not found.\n"
     ]
    },
    {
     "data": {
      "image/png": "[encoded data removed]",
      "text/plain": [
       "<Figure size 640x480 with 1 Axes>"
      ]
     },
     "metadata": {},
     "output_type": "display_data"
    },
    {
     "name": "stderr",
     "output_type": "stream",
     "text": [
      "findfont: Font family 'NanumGothicCoding' not found.\n",
      "findfont: Font family 'NanumGothicCoding' not found.\n",
      "findfont: Font family 'NanumGothicCoding' not found.\n",
      "findfont: Font family 'NanumGothicCoding' not found.\n",
      "findfont: Font family 'NanumGothicCoding' not found.\n",
      "findfont: Font family 'NanumGothicCoding' not found.\n",
      "findfont: Font family 'NanumGothicCoding' not found.\n",
      "findfont: Font family 'NanumGothicCoding' not found.\n",
      "findfont: Font family 'NanumGothicCoding' not found.\n",
      "findfont: Font family 'NanumGothicCoding' not found.\n",
      "findfont: Font family 'NanumGothicCoding' not found.\n",
      "findfont: Font family 'NanumGothicCoding' not found.\n",
      "findfont: Font family 'NanumGothicCoding' not found.\n",
      "findfont: Font family 'NanumGothicCoding' not found.\n",
      "findfont: Font family 'NanumGothicCoding' not found.\n",
      "findfont: Font family 'NanumGothicCoding' not found.\n",
      "findfont: Font family 'NanumGothicCoding' not found.\n",
      "findfont: Font family 'NanumGothicCoding' not found.\n",
      "findfont: Font family 'NanumGothicCoding' not found.\n",
      "findfont: Font family 'NanumGothicCoding' not found.\n",
      "findfont: Font family 'NanumGothicCoding' not found.\n",
      "findfont: Font family 'NanumGothicCoding' not found.\n",
      "findfont: Font family 'NanumGothicCoding' not found.\n"
     ]
    },
    {
     "data": {
      "image/png": "[encoded data removed]",
      "text/plain": [
       "<Figure size 640x480 with 1 Axes>"
      ]
     },
     "metadata": {},
     "output_type": "display_data"
    }
   ],
   "source": [
    "sns.boxplot(data=filled_missing_df, x='Age')\n",
    "plt.show()\n",
    "sns.boxplot(data=filled_missing_df, x='Fare')\n",
    "plt.show()"
   ]
  },
  {
   "cell_type": "markdown",
   "metadata": {},
   "source": [
    "### 스케일링\n"
   ]
  },
  {
   "cell_type": "code",
   "execution_count": 35,
   "metadata": {},
   "outputs": [
    {
     "data": {
      "text/html": [
       "<style>#sk-container-id-1 {color: black;}#sk-container-id-1 pre{padding: 0;}#sk-container-id-1 div.sk-toggleable {background-color: white;}#sk-container-id-1 label.sk-toggleable__label {cursor: pointer;display: block;width: 100%;margin-bottom: 0;padding: 0.3em;box-sizing: border-box;text-align: center;}#sk-container-id-1 label.sk-toggleable__label-arrow:before {content: \"▸\";float: left;margin-right: 0.25em;color: #696969;}#sk-container-id-1 label.sk-toggleable__label-arrow:hover:before {color: black;}#sk-container-id-1 div.sk-estimator:hover label.sk-toggleable__label-arrow:before {color: black;}#sk-container-id-1 div.sk-toggleable__content {max-height: 0;max-width: 0;overflow: hidden;text-align: left;background-color: #f0f8ff;}#sk-container-id-1 div.sk-toggleable__content pre {margin: 0.2em;color: black;border-radius: 0.25em;background-color: #f0f8ff;}#sk-container-id-1 input.sk-toggleable__control:checked~div.sk-toggleable__content {max-height: 200px;max-width: 100%;overflow: auto;}#sk-container-id-1 input.sk-toggleable__control:checked~label.sk-toggleable__label-arrow:before {content: \"▾\";}#sk-container-id-1 div.sk-estimator input.sk-toggleable__control:checked~label.sk-toggleable__label {background-color: #d4ebff;}#sk-container-id-1 div.sk-label input.sk-toggleable__control:checked~label.sk-toggleable__label {background-color: #d4ebff;}#sk-container-id-1 input.sk-hidden--visually {border: 0;clip: rect(1px 1px 1px 1px);clip: rect(1px, 1px, 1px, 1px);height: 1px;margin: -1px;overflow: hidden;padding: 0;position: absolute;width: 1px;}#sk-container-id-1 div.sk-estimator {font-family: monospace;background-color: #f0f8ff;border: 1px dotted black;border-radius: 0.25em;box-sizing: border-box;margin-bottom: 0.5em;}#sk-container-id-1 div.sk-estimator:hover {background-color: #d4ebff;}#sk-container-id-1 div.sk-parallel-item::after {content: \"\";width: 100%;border-bottom: 1px solid gray;flex-grow: 1;}#sk-container-id-1 div.sk-label:hover label.sk-toggleable__label {background-color: #d4ebff;}#sk-container-id-1 div.sk-serial::before {content: \"\";position: absolute;border-left: 1px solid gray;box-sizing: border-box;top: 0;bottom: 0;left: 50%;z-index: 0;}#sk-container-id-1 div.sk-serial {display: flex;flex-direction: column;align-items: center;background-color: white;padding-right: 0.2em;padding-left: 0.2em;position: relative;}#sk-container-id-1 div.sk-item {position: relative;z-index: 1;}#sk-container-id-1 div.sk-parallel {display: flex;align-items: stretch;justify-content: center;background-color: white;position: relative;}#sk-container-id-1 div.sk-item::before, #sk-container-id-1 div.sk-parallel-item::before {content: \"\";position: absolute;border-left: 1px solid gray;box-sizing: border-box;top: 0;bottom: 0;left: 50%;z-index: -1;}#sk-container-id-1 div.sk-parallel-item {display: flex;flex-direction: column;z-index: 1;position: relative;background-color: white;}#sk-container-id-1 div.sk-parallel-item:first-child::after {align-self: flex-end;width: 50%;}#sk-container-id-1 div.sk-parallel-item:last-child::after {align-self: flex-start;width: 50%;}#sk-container-id-1 div.sk-parallel-item:only-child::after {width: 0;}#sk-container-id-1 div.sk-dashed-wrapped {border: 1px dashed gray;margin: 0 0.4em 0.5em 0.4em;box-sizing: border-box;padding-bottom: 0.4em;background-color: white;}#sk-container-id-1 div.sk-label label {font-family: monospace;font-weight: bold;display: inline-block;line-height: 1.2em;}#sk-container-id-1 div.sk-label-container {text-align: center;}#sk-container-id-1 div.sk-container {/* jupyter's `normalize.less` sets `[hidden] { display: none; }` but bootstrap.min.css set `[hidden] { display: none !important; }` so we also need the `!important` here to be able to override the default hidden behavior on the sphinx rendered scikit-learn.org. See: https://github.com/scikit-learn/scikit-learn/issues/21755 */display: inline-block !important;position: relative;}#sk-container-id-1 div.sk-text-repr-fallback {display: none;}</style><div id=\"sk-container-id-1\" class=\"sk-top-container\"><div class=\"sk-text-repr-fallback\"><pre>StandardScaler()</pre><b>In a Jupyter environment, please rerun this cell to show the HTML representation or trust the notebook. <br />On GitHub, the HTML representation is unable to render, please try loading this page with nbviewer.org.</b></div><div class=\"sk-container\" hidden><div class=\"sk-item\"><div class=\"sk-estimator sk-toggleable\"><input class=\"sk-toggleable__control sk-hidden--visually\" id=\"sk-estimator-id-1\" type=\"checkbox\" checked><label for=\"sk-estimator-id-1\" class=\"sk-toggleable__label sk-toggleable__label-arrow\">StandardScaler</label><div class=\"sk-toggleable__content\"><pre>StandardScaler()</pre></div></div></div></div></div>"
      ],
      "text/plain": [
       "StandardScaler()"
      ]
     },
     "execution_count": 35,
     "metadata": {},
     "output_type": "execute_result"
    }
   ],
   "source": [
    "# 일단 통짜로 돌려보고 데이터 특성에 따라 따로 돌리는 거를 고려해 보아야 할 듯?\n",
    "standardscaler = StandardScaler()\n",
    "standardscaler.fit(filled_missing_df)"
   ]
  },
  {
   "cell_type": "code",
   "execution_count": 36,
   "metadata": {},
   "outputs": [
    {
     "data": {
      "text/html": [
       "<div>\n",
       "<style scoped>\n",
       "    .dataframe tbody tr th:only-of-type {\n",
       "        vertical-align: middle;\n",
       "    }\n",
       "\n",
       "    .dataframe tbody tr th {\n",
       "        vertical-align: top;\n",
       "    }\n",
       "\n",
       "    .dataframe thead th {\n",
       "        text-align: right;\n",
       "    }\n",
       "</style>\n",
       "<table border=\"1\" class=\"dataframe\">\n",
       "  <thead>\n",
       "    <tr style=\"text-align: right;\">\n",
       "      <th></th>\n",
       "      <th>Pclass_1</th>\n",
       "      <th>Pclass_2</th>\n",
       "      <th>Pclass_3</th>\n",
       "      <th>Sex_female</th>\n",
       "      <th>Sex_male</th>\n",
       "      <th>SibSp_0</th>\n",
       "      <th>SibSp_1</th>\n",
       "      <th>SibSp_2</th>\n",
       "      <th>SibSp_3</th>\n",
       "      <th>SibSp_4</th>\n",
       "      <th>...</th>\n",
       "      <th>Parch_2</th>\n",
       "      <th>Parch_3</th>\n",
       "      <th>Parch_4</th>\n",
       "      <th>Parch_5</th>\n",
       "      <th>Parch_6</th>\n",
       "      <th>Embarked_C</th>\n",
       "      <th>Embarked_Q</th>\n",
       "      <th>Embarked_S</th>\n",
       "      <th>Fare</th>\n",
       "      <th>Age</th>\n",
       "    </tr>\n",
       "  </thead>\n",
       "  <tbody>\n",
       "    <tr>\n",
       "      <th>0</th>\n",
       "      <td>-0.565685</td>\n",
       "      <td>-0.510152</td>\n",
       "      <td>0.902587</td>\n",
       "      <td>-0.737695</td>\n",
       "      <td>0.737695</td>\n",
       "      <td>-1.465746</td>\n",
       "      <td>1.806421</td>\n",
       "      <td>-0.180125</td>\n",
       "      <td>-0.135225</td>\n",
       "      <td>-0.143592</td>\n",
       "      <td>...</td>\n",
       "      <td>-0.314076</td>\n",
       "      <td>-0.075122</td>\n",
       "      <td>-0.067153</td>\n",
       "      <td>-0.075122</td>\n",
       "      <td>-0.03352</td>\n",
       "      <td>-0.482043</td>\n",
       "      <td>-0.307562</td>\n",
       "      <td>0.615838</td>\n",
       "      <td>-0.502445</td>\n",
       "      <td>-0.559667</td>\n",
       "    </tr>\n",
       "    <tr>\n",
       "      <th>1</th>\n",
       "      <td>1.767767</td>\n",
       "      <td>-0.510152</td>\n",
       "      <td>-1.107926</td>\n",
       "      <td>1.355574</td>\n",
       "      <td>-1.355574</td>\n",
       "      <td>-1.465746</td>\n",
       "      <td>1.806421</td>\n",
       "      <td>-0.180125</td>\n",
       "      <td>-0.135225</td>\n",
       "      <td>-0.143592</td>\n",
       "      <td>...</td>\n",
       "      <td>-0.314076</td>\n",
       "      <td>-0.075122</td>\n",
       "      <td>-0.067153</td>\n",
       "      <td>-0.075122</td>\n",
       "      <td>-0.03352</td>\n",
       "      <td>2.074505</td>\n",
       "      <td>-0.307562</td>\n",
       "      <td>-1.623803</td>\n",
       "      <td>0.786845</td>\n",
       "      <td>0.602013</td>\n",
       "    </tr>\n",
       "    <tr>\n",
       "      <th>2</th>\n",
       "      <td>-0.565685</td>\n",
       "      <td>-0.510152</td>\n",
       "      <td>0.902587</td>\n",
       "      <td>1.355574</td>\n",
       "      <td>-1.355574</td>\n",
       "      <td>0.682247</td>\n",
       "      <td>-0.553581</td>\n",
       "      <td>-0.180125</td>\n",
       "      <td>-0.135225</td>\n",
       "      <td>-0.143592</td>\n",
       "      <td>...</td>\n",
       "      <td>-0.314076</td>\n",
       "      <td>-0.075122</td>\n",
       "      <td>-0.067153</td>\n",
       "      <td>-0.075122</td>\n",
       "      <td>-0.03352</td>\n",
       "      <td>-0.482043</td>\n",
       "      <td>-0.307562</td>\n",
       "      <td>0.615838</td>\n",
       "      <td>-0.488854</td>\n",
       "      <td>-0.269247</td>\n",
       "    </tr>\n",
       "    <tr>\n",
       "      <th>3</th>\n",
       "      <td>1.767767</td>\n",
       "      <td>-0.510152</td>\n",
       "      <td>-1.107926</td>\n",
       "      <td>1.355574</td>\n",
       "      <td>-1.355574</td>\n",
       "      <td>-1.465746</td>\n",
       "      <td>1.806421</td>\n",
       "      <td>-0.180125</td>\n",
       "      <td>-0.135225</td>\n",
       "      <td>-0.143592</td>\n",
       "      <td>...</td>\n",
       "      <td>-0.314076</td>\n",
       "      <td>-0.075122</td>\n",
       "      <td>-0.067153</td>\n",
       "      <td>-0.075122</td>\n",
       "      <td>-0.03352</td>\n",
       "      <td>-0.482043</td>\n",
       "      <td>-0.307562</td>\n",
       "      <td>0.615838</td>\n",
       "      <td>0.420730</td>\n",
       "      <td>0.384198</td>\n",
       "    </tr>\n",
       "    <tr>\n",
       "      <th>4</th>\n",
       "      <td>-0.565685</td>\n",
       "      <td>-0.510152</td>\n",
       "      <td>0.902587</td>\n",
       "      <td>-0.737695</td>\n",
       "      <td>0.737695</td>\n",
       "      <td>0.682247</td>\n",
       "      <td>-0.553581</td>\n",
       "      <td>-0.180125</td>\n",
       "      <td>-0.135225</td>\n",
       "      <td>-0.143592</td>\n",
       "      <td>...</td>\n",
       "      <td>-0.314076</td>\n",
       "      <td>-0.075122</td>\n",
       "      <td>-0.067153</td>\n",
       "      <td>-0.075122</td>\n",
       "      <td>-0.03352</td>\n",
       "      <td>-0.482043</td>\n",
       "      <td>-0.307562</td>\n",
       "      <td>0.615838</td>\n",
       "      <td>-0.486337</td>\n",
       "      <td>0.384198</td>\n",
       "    </tr>\n",
       "  </tbody>\n",
       "</table>\n",
       "<p>5 rows × 24 columns</p>\n",
       "</div>"
      ],
      "text/plain": [
       "   Pclass_1  Pclass_2  Pclass_3  Sex_female  Sex_male   SibSp_0   SibSp_1  \\\n",
       "0 -0.565685 -0.510152  0.902587   -0.737695  0.737695 -1.465746  1.806421   \n",
       "1  1.767767 -0.510152 -1.107926    1.355574 -1.355574 -1.465746  1.806421   \n",
       "2 -0.565685 -0.510152  0.902587    1.355574 -1.355574  0.682247 -0.553581   \n",
       "3  1.767767 -0.510152 -1.107926    1.355574 -1.355574 -1.465746  1.806421   \n",
       "4 -0.565685 -0.510152  0.902587   -0.737695  0.737695  0.682247 -0.553581   \n",
       "\n",
       "    SibSp_2   SibSp_3   SibSp_4  ...   Parch_2   Parch_3   Parch_4   Parch_5  \\\n",
       "0 -0.180125 -0.135225 -0.143592  ... -0.314076 -0.075122 -0.067153 -0.075122   \n",
       "1 -0.180125 -0.135225 -0.143592  ... -0.314076 -0.075122 -0.067153 -0.075122   \n",
       "2 -0.180125 -0.135225 -0.143592  ... -0.314076 -0.075122 -0.067153 -0.075122   \n",
       "3 -0.180125 -0.135225 -0.143592  ... -0.314076 -0.075122 -0.067153 -0.075122   \n",
       "4 -0.180125 -0.135225 -0.143592  ... -0.314076 -0.075122 -0.067153 -0.075122   \n",
       "\n",
       "   Parch_6  Embarked_C  Embarked_Q  Embarked_S      Fare       Age  \n",
       "0 -0.03352   -0.482043   -0.307562    0.615838 -0.502445 -0.559667  \n",
       "1 -0.03352    2.074505   -0.307562   -1.623803  0.786845  0.602013  \n",
       "2 -0.03352   -0.482043   -0.307562    0.615838 -0.488854 -0.269247  \n",
       "3 -0.03352   -0.482043   -0.307562    0.615838  0.420730  0.384198  \n",
       "4 -0.03352   -0.482043   -0.307562    0.615838 -0.486337  0.384198  \n",
       "\n",
       "[5 rows x 24 columns]"
      ]
     },
     "execution_count": 36,
     "metadata": {},
     "output_type": "execute_result"
    }
   ],
   "source": [
    "# 스케일링 적용\n",
    "scailing_array = standardscaler.transform(filled_missing_df)\n",
    "# 스케일링된 데이터를 DataFrame으로 변환\n",
    "scailing_df = pd.DataFrame(scailing_array, columns=filled_missing_df.columns)\n",
    "scailing_df.head()"
   ]
  },
  {
   "cell_type": "code",
   "execution_count": 64,
   "metadata": {},
   "outputs": [
    {
     "name": "stderr",
     "output_type": "stream",
     "text": [
      "findfont: Font family 'NanumGothicCoding' not found.\n",
      "findfont: Font family 'NanumGothicCoding' not found.\n",
      "findfont: Font family 'NanumGothicCoding' not found.\n",
      "findfont: Font family 'NanumGothicCoding' not found.\n",
      "findfont: Font family 'NanumGothicCoding' not found.\n",
      "findfont: Font family 'NanumGothicCoding' not found.\n",
      "findfont: Font family 'NanumGothicCoding' not found.\n",
      "findfont: Font family 'NanumGothicCoding' not found.\n",
      "findfont: Font family 'NanumGothicCoding' not found.\n",
      "findfont: Font family 'NanumGothicCoding' not found.\n",
      "findfont: Font family 'NanumGothicCoding' not found.\n",
      "findfont: Font family 'NanumGothicCoding' not found.\n",
      "findfont: Font family 'NanumGothicCoding' not found.\n",
      "findfont: Font family 'NanumGothicCoding' not found.\n",
      "findfont: Font family 'NanumGothicCoding' not found.\n",
      "findfont: Font family 'NanumGothicCoding' not found.\n",
      "findfont: Font family 'NanumGothicCoding' not found.\n",
      "findfont: Font family 'NanumGothicCoding' not found.\n",
      "findfont: Font family 'NanumGothicCoding' not found.\n",
      "findfont: Font family 'NanumGothicCoding' not found.\n",
      "findfont: Font family 'NanumGothicCoding' not found.\n",
      "findfont: Font family 'NanumGothicCoding' not found.\n",
      "findfont: Font family 'NanumGothicCoding' not found.\n"
     ]
    },
    {
     "data": {
      "image/png": "[encoded data removed]",
      "text/plain": [
       "<Figure size 640x480 with 1 Axes>"
      ]
     },
     "metadata": {},
     "output_type": "display_data"
    },
    {
     "name": "stderr",
     "output_type": "stream",
     "text": [
      "findfont: Font family 'NanumGothicCoding' not found.\n",
      "findfont: Font family 'NanumGothicCoding' not found.\n",
      "findfont: Font family 'NanumGothicCoding' not found.\n",
      "findfont: Font family 'NanumGothicCoding' not found.\n",
      "findfont: Font family 'NanumGothicCoding' not found.\n",
      "findfont: Font family 'NanumGothicCoding' not found.\n",
      "findfont: Font family 'NanumGothicCoding' not found.\n",
      "findfont: Font family 'NanumGothicCoding' not found.\n",
      "findfont: Font family 'NanumGothicCoding' not found.\n",
      "findfont: Font family 'NanumGothicCoding' not found.\n",
      "findfont: Font family 'NanumGothicCoding' not found.\n",
      "findfont: Font family 'NanumGothicCoding' not found.\n",
      "findfont: Font family 'NanumGothicCoding' not found.\n",
      "findfont: Font family 'NanumGothicCoding' not found.\n",
      "findfont: Font family 'NanumGothicCoding' not found.\n",
      "findfont: Font family 'NanumGothicCoding' not found.\n",
      "findfont: Font family 'NanumGothicCoding' not found.\n",
      "findfont: Font family 'NanumGothicCoding' not found.\n",
      "findfont: Font family 'NanumGothicCoding' not found.\n",
      "findfont: Font family 'NanumGothicCoding' not found.\n",
      "findfont: Font family 'NanumGothicCoding' not found.\n",
      "findfont: Font family 'NanumGothicCoding' not found.\n",
      "findfont: Font family 'NanumGothicCoding' not found.\n"
     ]
    },
    {
     "data": {
      "image/png": "[encoded data removed]",
      "text/plain": [
       "<Figure size 640x480 with 1 Axes>"
      ]
     },
     "metadata": {},
     "output_type": "display_data"
    }
   ],
   "source": [
    "sns.boxplot(data=scailing_df, x='Age')\n",
    "plt.show()\n",
    "sns.boxplot(data=scailing_df, x='Fare')\n",
    "plt.show()"
   ]
  },
  {
   "cell_type": "markdown",
   "metadata": {},
   "source": [
    "## 데이터 분할"
   ]
  },
  {
   "cell_type": "code",
   "execution_count": 37,
   "metadata": {},
   "outputs": [],
   "source": [
    "train_list = []\n",
    "test_list = []\n",
    "test_size = 0.2\n",
    "istrain = True\n",
    "for num in range(100):\n",
    "      train_features, test_features, train_label, test_label =\\\n",
    "            train_test_split(scailing_df, encoded_label, test_size=test_size, random_state=num)\n",
    "      train_features.shape, test_features.shape, train_label.shape, test_label.shape\n",
    "      logisticregression = LogisticRegression()\n",
    "      logisticregression.fit(X=train_features, y=train_label)\n",
    "      predict_train = logisticregression.predict(X=train_features)\n",
    "      train_list.append(accuracy_score(y_true=train_label, y_pred=predict_train))\n",
    "      predict_test = logisticregression.predict(X=test_features)\n",
    "      test_list.append(accuracy_score(y_true=test_label, y_pred=predict_test))\n",
    "istrain = False"
   ]
  },
  {
   "cell_type": "code",
   "execution_count": 38,
   "metadata": {},
   "outputs": [
    {
     "name": "stdout",
     "output_type": "stream",
     "text": [
      "0.8715083798882681 18\n"
     ]
    }
   ],
   "source": [
    "max_value = max(test_list)\n",
    "max_index = test_list.index(max_value)\n",
    "print(max_value, max_index)"
   ]
  },
  {
   "cell_type": "code",
   "execution_count": 39,
   "metadata": {},
   "outputs": [
    {
     "data": {
      "text/plain": [
       "0.797752808988764"
      ]
     },
     "execution_count": 39,
     "metadata": {},
     "output_type": "execute_result"
    }
   ],
   "source": [
    "train_list[max_index]"
   ]
  },
  {
   "cell_type": "code",
   "execution_count": 40,
   "metadata": {},
   "outputs": [],
   "source": [
    "if istrain :\n",
    "      train_features, test_features, train_label, test_label =\\\n",
    "            train_test_split(scailing_df, encoded_label, test_size=test_size, random_state=max_index)\n",
    "      train_features.shape, test_features.shape, train_label.shape, test_label.shape"
   ]
  },
  {
   "cell_type": "markdown",
   "metadata": {},
   "source": [
    "## 모델 학습 "
   ]
  },
  {
   "cell_type": "code",
   "execution_count": 41,
   "metadata": {},
   "outputs": [],
   "source": [
    "if istrain :\n",
    "    logisticregression = LogisticRegression()\n",
    "    logisticregression.fit(X=train_features, y=train_label)"
   ]
  },
  {
   "cell_type": "markdown",
   "metadata": {},
   "source": [
    "## 모델 평가 "
   ]
  },
  {
   "cell_type": "markdown",
   "metadata": {},
   "source": [
    "##### 평가\n",
    "- train accuracy_score : 0.87\n",
    "- test accuracy_score : 0.79\n",
    "- 나쁘지 않은 성능 으로 판단"
   ]
  },
  {
   "cell_type": "code",
   "execution_count": 42,
   "metadata": {},
   "outputs": [],
   "source": [
    "if istrain :\n",
    "    predict_train = logisticregression.predict(X=train_features)\n",
    "    accuracy_score(y_true=train_label, y_pred=predict_train)"
   ]
  },
  {
   "cell_type": "code",
   "execution_count": 43,
   "metadata": {},
   "outputs": [],
   "source": [
    "if istrain :\n",
    "    predict_test = logisticregression.predict(X=test_features)\n",
    "    accuracy_score(y_true=test_label, y_pred=predict_test)"
   ]
  },
  {
   "cell_type": "markdown",
   "metadata": {},
   "source": [
    "## 모델 배포"
   ]
  },
  {
   "cell_type": "markdown",
   "metadata": {},
   "source": [
    "### 세이브할 모델들\n",
    "- onehotencode 모델 : 사용자 입력 받은 category 데이터 변환\n",
    "- sampling 모델 : 사용자 입력 받은 continue 데이터 변환 (onehotencode 결과 포함)\n",
    "- predict 모델 : 변환한 데이터 입력으로 label 예측값 리턴\n",
    "- labelencode 모델 : 리턴받은 데이터를 기대하는 형태로 변환 후 리턴 (encode 자체를 로드 할 필요보다는 매핑 순서만 받아도 될 듯?)"
   ]
  },
  {
   "cell_type": "code",
   "execution_count": 45,
   "metadata": {},
   "outputs": [
    {
     "name": "stdout",
     "output_type": "stream",
     "text": [
      "모든 모델 정보가 저장되었습니다.\n"
     ]
    }
   ],
   "source": [
    "import pickle\n",
    "\n",
    "# 모든 모델 정보를 저장할 딕셔너리 생성\n",
    "model_info = {\n",
    "    'onehotencoders': model_list,  # 카테고리형 변수들의 원핫인코더 모델들\n",
    "    'standardscaler': standardscaler,  # 스케일링 모델\n",
    "    'logisticregression': logisticregression,  # 예측 모델\n",
    "    'labelencoder': labelencoder\n",
    "}\n",
    "\n",
    "# 파일 경로 설정\n",
    "save_file_name = '../../models/titanic_disaster.pkl'\n",
    "\n",
    "# 모든 모델 정보를 함께 저장\n",
    "with open(save_file_name, 'wb') as save_file:\n",
    "    pickle.dump(model_info, save_file)\n",
    "\n",
    "print(\"모든 모델 정보가 저장되었습니다.\")"
   ]
  }
 ],
 "metadata": {
  "kernelspec": {
   "display_name": "Python 3",
   "language": "python",
   "name": "python3"
  },
  "language_info": {
   "codemirror_mode": {
    "name": "ipython",
    "version": 3
   },
   "file_extension": ".py",
   "mimetype": "text/x-python",
   "name": "python",
   "nbconvert_exporter": "python",
   "pygments_lexer": "ipython3",
   "version": "3.8.10"
  }
 },
 "nbformat": 4,
 "nbformat_minor": 2
}
