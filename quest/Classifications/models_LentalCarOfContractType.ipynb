{
 "cells": [
  {
   "cell_type": "markdown",
   "metadata": {},
   "source": [
    "## 데이터 수집"
   ]
  },
  {
   "cell_type": "code",
   "execution_count": 2,
   "metadata": {},
   "outputs": [],
   "source": [
    "import matplotlib.pyplot as plt\n",
    "import matplotlib as mpl # 한글 폰트 설정 (NanumGothic) \n",
    "mpl.rcParams['font.family'] = 'NanumGothic'\n",
    "mpl.rcParams['axes.unicode_minus'] = False  # 마이너스 기호 깨짐 방지\n",
    "import seaborn as sns\n",
    "import pandas as pd\n",
    "import numpy as np \n",
    "import scipy.stats as stats\n",
    "from sklearn import datasets \n",
    "from sklearn.svm import SVR\n",
    "from sklearn.svm import SVC\n",
    "from sklearn.linear_model import LinearRegression\n",
    "from sklearn.linear_model import LogisticRegression\n",
    "from sklearn.ensemble import RandomForestRegressor\n",
    "from sklearn.ensemble import RandomForestClassifier\n",
    "from sklearn.preprocessing import OneHotEncoder\n",
    "from sklearn.preprocessing import LabelEncoder\n",
    "from sklearn.preprocessing import StandardScaler\n",
    "from sklearn.metrics import mean_squared_error, r2_score #, root_mean_squared_error\n",
    "from sklearn.metrics import accuracy_score\n",
    "from sklearn.metrics import classification_report\n",
    "from sklearn.metrics import roc_curve, auc\n",
    "from sklearn.metrics import roc_auc_score\n",
    "from sklearn.model_selection import train_test_split\n",
    "from sklearn.base import clone\n",
    "from copy import deepcopy\n",
    "from imblearn.over_sampling import SMOTE\n",
    "from imblearn.under_sampling import TomekLinks\n",
    "\n",
    "import lightgbm as lgb"
   ]
  },
  {
   "cell_type": "code",
   "execution_count": 3,
   "metadata": {},
   "outputs": [
    {
     "name": "stdout",
     "output_type": "stream",
     "text": [
      "Reading package lists... Done\n",
      "Building dependency tree       \n",
      "Reading state information... Done\n",
      "fonts-nanum is already the newest version (20180306-3).\n",
      "0 upgraded, 0 newly installed, 0 to remove and 52 not upgraded.\n"
     ]
    }
   ],
   "source": [
    "!apt install fonts-nanum"
   ]
  },
  {
   "cell_type": "code",
   "execution_count": 4,
   "metadata": {},
   "outputs": [
    {
     "name": "stdout",
     "output_type": "stream",
     "text": [
      "/usr/share/fonts/truetype/nanum/NanumGothic.ttf: NanumGothic,나눔고딕:style=Regular\n",
      "/usr/share/fonts/truetype/nanum/NanumGothicCoding.ttf: NanumGothicCoding,나눔고딕코딩:style=Regular\n",
      "/usr/share/fonts/truetype/nanum/NanumGothicBold.ttf: NanumGothic,나눔고딕:style=Bold\n",
      "/usr/share/fonts/truetype/nanum/NanumGothicCoding-Bold.ttf: NanumGothicCoding,나눔고딕코딩:style=Bold\n"
     ]
    }
   ],
   "source": [
    "!fc-list | grep \"NanumGothic\""
   ]
  },
  {
   "cell_type": "code",
   "execution_count": 5,
   "metadata": {},
   "outputs": [],
   "source": [
    "import matplotlib.font_manager as fm\n",
    "# 폰트 캐시 삭제 및 재생성\n",
    "fm.fontManager.addfont('/usr/share/fonts/truetype/nanum/NanumGothic.ttf')\n",
    "fm._load_fontmanager(try_read_cache=False)\n",
    "\n",
    "# 폰트 설정\n",
    "font_path = '/usr/share/fonts/truetype/nanum/NanumGothic.ttf'\n",
    "font_prop = fm.FontProperties(fname=font_path)\n",
    "\n",
    "import matplotlib.pyplot as plt\n",
    "import matplotlib as mpl\n",
    "mpl.rcParams['font.family'] = font_prop.get_name()\n",
    "mpl.rcParams['axes.unicode_minus'] = False"
   ]
  },
  {
   "cell_type": "code",
   "execution_count": 6,
   "metadata": {},
   "outputs": [
    {
     "data": {
      "text/html": [
       "<div>\n",
       "<style scoped>\n",
       "    .dataframe tbody tr th:only-of-type {\n",
       "        vertical-align: middle;\n",
       "    }\n",
       "\n",
       "    .dataframe tbody tr th {\n",
       "        vertical-align: top;\n",
       "    }\n",
       "\n",
       "    .dataframe thead th {\n",
       "        text-align: right;\n",
       "    }\n",
       "</style>\n",
       "<table border=\"1\" class=\"dataframe\">\n",
       "  <thead>\n",
       "    <tr style=\"text-align: right;\">\n",
       "      <th></th>\n",
       "      <th>id</th>\n",
       "      <th>type_of_contract</th>\n",
       "      <th>type_of_contract2</th>\n",
       "      <th>channel</th>\n",
       "      <th>datetime</th>\n",
       "      <th>Term</th>\n",
       "      <th>payment_type</th>\n",
       "      <th>product</th>\n",
       "      <th>amount</th>\n",
       "      <th>state</th>\n",
       "      <th>overdue_count</th>\n",
       "      <th>overdue</th>\n",
       "      <th>credit rating</th>\n",
       "      <th>bank</th>\n",
       "      <th>cancellation</th>\n",
       "      <th>age</th>\n",
       "      <th>Mileage</th>\n",
       "    </tr>\n",
       "  </thead>\n",
       "  <tbody>\n",
       "    <tr>\n",
       "      <th>0</th>\n",
       "      <td>66758234</td>\n",
       "      <td>렌탈</td>\n",
       "      <td>Normal</td>\n",
       "      <td>서비스 방문</td>\n",
       "      <td>2019-10-20</td>\n",
       "      <td>60</td>\n",
       "      <td>CMS</td>\n",
       "      <td>K1</td>\n",
       "      <td>96900</td>\n",
       "      <td>계약확정</td>\n",
       "      <td>0</td>\n",
       "      <td>없음</td>\n",
       "      <td>9.0</td>\n",
       "      <td>새마을금고</td>\n",
       "      <td>정상</td>\n",
       "      <td>43.0</td>\n",
       "      <td>1862.0</td>\n",
       "    </tr>\n",
       "    <tr>\n",
       "      <th>1</th>\n",
       "      <td>66755948</td>\n",
       "      <td>렌탈</td>\n",
       "      <td>Extension_Rental</td>\n",
       "      <td>서비스 방문</td>\n",
       "      <td>2019-10-20</td>\n",
       "      <td>60</td>\n",
       "      <td>카드이체</td>\n",
       "      <td>K1</td>\n",
       "      <td>102900</td>\n",
       "      <td>계약확정</td>\n",
       "      <td>0</td>\n",
       "      <td>없음</td>\n",
       "      <td>2.0</td>\n",
       "      <td>현대카드</td>\n",
       "      <td>정상</td>\n",
       "      <td>62.0</td>\n",
       "      <td>2532.0</td>\n",
       "    </tr>\n",
       "    <tr>\n",
       "      <th>2</th>\n",
       "      <td>66756657</td>\n",
       "      <td>렌탈</td>\n",
       "      <td>Normal</td>\n",
       "      <td>홈쇼핑/방송</td>\n",
       "      <td>2019-10-20</td>\n",
       "      <td>60</td>\n",
       "      <td>CMS</td>\n",
       "      <td>K1</td>\n",
       "      <td>96900</td>\n",
       "      <td>계약확정</td>\n",
       "      <td>0</td>\n",
       "      <td>없음</td>\n",
       "      <td>8.0</td>\n",
       "      <td>우리은행</td>\n",
       "      <td>정상</td>\n",
       "      <td>60.0</td>\n",
       "      <td>2363.0</td>\n",
       "    </tr>\n",
       "    <tr>\n",
       "      <th>3</th>\n",
       "      <td>66423450</td>\n",
       "      <td>멤버십</td>\n",
       "      <td>TAS</td>\n",
       "      <td>렌탈재계약</td>\n",
       "      <td>2019-10-20</td>\n",
       "      <td>12</td>\n",
       "      <td>CMS</td>\n",
       "      <td>K1</td>\n",
       "      <td>66900</td>\n",
       "      <td>계약확정</td>\n",
       "      <td>0</td>\n",
       "      <td>없음</td>\n",
       "      <td>5.0</td>\n",
       "      <td>농협은행</td>\n",
       "      <td>정상</td>\n",
       "      <td>60.0</td>\n",
       "      <td>2449.0</td>\n",
       "    </tr>\n",
       "    <tr>\n",
       "      <th>4</th>\n",
       "      <td>66423204</td>\n",
       "      <td>멤버십</td>\n",
       "      <td>TAS</td>\n",
       "      <td>렌탈재계약</td>\n",
       "      <td>2019-10-20</td>\n",
       "      <td>12</td>\n",
       "      <td>CMS</td>\n",
       "      <td>K1</td>\n",
       "      <td>66900</td>\n",
       "      <td>해약확정</td>\n",
       "      <td>12</td>\n",
       "      <td>있음</td>\n",
       "      <td>8.0</td>\n",
       "      <td>농협은행</td>\n",
       "      <td>해약</td>\n",
       "      <td>51.0</td>\n",
       "      <td>1942.0</td>\n",
       "    </tr>\n",
       "  </tbody>\n",
       "</table>\n",
       "</div>"
      ],
      "text/plain": [
       "         id type_of_contract type_of_contract2 channel    datetime  Term  \\\n",
       "0  66758234               렌탈            Normal  서비스 방문  2019-10-20    60   \n",
       "1  66755948               렌탈  Extension_Rental  서비스 방문  2019-10-20    60   \n",
       "2  66756657               렌탈            Normal  홈쇼핑/방송  2019-10-20    60   \n",
       "3  66423450              멤버십               TAS   렌탈재계약  2019-10-20    12   \n",
       "4  66423204              멤버십               TAS   렌탈재계약  2019-10-20    12   \n",
       "\n",
       "  payment_type product  amount state  overdue_count overdue  credit rating  \\\n",
       "0          CMS      K1   96900  계약확정              0      없음            9.0   \n",
       "1         카드이체      K1  102900  계약확정              0      없음            2.0   \n",
       "2          CMS      K1   96900  계약확정              0      없음            8.0   \n",
       "3          CMS      K1   66900  계약확정              0      없음            5.0   \n",
       "4          CMS      K1   66900  해약확정             12      있음            8.0   \n",
       "\n",
       "    bank cancellation   age  Mileage  \n",
       "0  새마을금고           정상  43.0   1862.0  \n",
       "1   현대카드           정상  62.0   2532.0  \n",
       "2   우리은행           정상  60.0   2363.0  \n",
       "3   농협은행           정상  60.0   2449.0  \n",
       "4   농협은행           해약  51.0   1942.0  "
      ]
     },
     "execution_count": 6,
     "metadata": {},
     "output_type": "execute_result"
    }
   ],
   "source": [
    "data_df = pd.read_csv('../../datasets/LetalCarOfContractType.csv')\n",
    "data_df.head()"
   ]
  },
  {
   "cell_type": "markdown",
   "metadata": {},
   "source": [
    "## 데이터 분석"
   ]
  },
  {
   "cell_type": "code",
   "execution_count": 7,
   "metadata": {},
   "outputs": [
    {
     "name": "stdout",
     "output_type": "stream",
     "text": [
      "<class 'pandas.core.frame.DataFrame'>\n",
      "RangeIndex: 51304 entries, 0 to 51303\n",
      "Data columns (total 17 columns):\n",
      " #   Column             Non-Null Count  Dtype  \n",
      "---  ------             --------------  -----  \n",
      " 0   id                 51304 non-null  int64  \n",
      " 1   type_of_contract   51300 non-null  object \n",
      " 2   type_of_contract2  51303 non-null  object \n",
      " 3   channel            51304 non-null  object \n",
      " 4   datetime           51304 non-null  object \n",
      " 5   Term               51304 non-null  int64  \n",
      " 6   payment_type       51304 non-null  object \n",
      " 7   product            51303 non-null  object \n",
      " 8   amount             51304 non-null  int64  \n",
      " 9   state              51304 non-null  object \n",
      " 10  overdue_count      51304 non-null  int64  \n",
      " 11  overdue            51302 non-null  object \n",
      " 12  credit rating      42521 non-null  float64\n",
      " 13  bank               48544 non-null  object \n",
      " 14  cancellation       51279 non-null  object \n",
      " 15  age                40509 non-null  float64\n",
      " 16  Mileage            40509 non-null  float64\n",
      "dtypes: float64(3), int64(4), object(10)\n",
      "memory usage: 6.7+ MB\n"
     ]
    }
   ],
   "source": [
    "data_df.info()"
   ]
  },
  {
   "cell_type": "markdown",
   "metadata": {},
   "source": [
    "##### 결측치 정리 \n",
    "- type_of_contract : \"렌탈\" 로 채우면 됨\n",
    "- type_of_contract2 : 'channel == \"홈쇼핑/방송\"''amount == 81900''datetime == \"2019-10-21\"''product == \"K2\"' 면 전부 Packge 였음\n",
    "- product : 더 조건 필요 K1 > K2 많았음\n",
    "- overdue : overdue_count == 0 이면 \"없음\", overdue_count == 2 면 \"있음\"\n",
    "- credit rating : 없으면 age, Mileage 없다\n",
    "- bank : credit rating : 3.0 1 1.0 1, age : 20.0 1 51.0 1, Mileage\n",
    "1217.0 1 2217.0 1\n",
    "- cancellation : \"정상\"으로 채우면 될듯\n",
    "- age : Mileage랑 같이 없다\n",
    "- Mileage : age랑 같이 없다"
   ]
  },
  {
   "cell_type": "code",
   "execution_count": 8,
   "metadata": {},
   "outputs": [
    {
     "data": {
      "text/plain": [
       "0        1862.0\n",
       "1        2532.0\n",
       "2        2363.0\n",
       "3        2449.0\n",
       "4        1942.0\n",
       "          ...  \n",
       "51299       NaN\n",
       "51300    1753.0\n",
       "51301    2217.0\n",
       "51302    2588.0\n",
       "51303    2130.0\n",
       "Name: Mileage, Length: 51304, dtype: float64"
      ]
     },
     "execution_count": 8,
     "metadata": {},
     "output_type": "execute_result"
    }
   ],
   "source": [
    "data_df['Mileage']"
   ]
  },
  {
   "cell_type": "code",
   "execution_count": 9,
   "metadata": {},
   "outputs": [
    {
     "data": {
      "text/html": [
       "<div>\n",
       "<style scoped>\n",
       "    .dataframe tbody tr th:only-of-type {\n",
       "        vertical-align: middle;\n",
       "    }\n",
       "\n",
       "    .dataframe tbody tr th {\n",
       "        vertical-align: top;\n",
       "    }\n",
       "\n",
       "    .dataframe thead th {\n",
       "        text-align: right;\n",
       "    }\n",
       "</style>\n",
       "<table border=\"1\" class=\"dataframe\">\n",
       "  <thead>\n",
       "    <tr style=\"text-align: right;\">\n",
       "      <th></th>\n",
       "      <th>id</th>\n",
       "      <th>type_of_contract</th>\n",
       "      <th>type_of_contract2</th>\n",
       "      <th>channel</th>\n",
       "      <th>datetime</th>\n",
       "      <th>Term</th>\n",
       "      <th>payment_type</th>\n",
       "      <th>product</th>\n",
       "      <th>amount</th>\n",
       "      <th>state</th>\n",
       "      <th>overdue_count</th>\n",
       "      <th>overdue</th>\n",
       "      <th>credit rating</th>\n",
       "      <th>bank</th>\n",
       "      <th>cancellation</th>\n",
       "      <th>age</th>\n",
       "      <th>Mileage</th>\n",
       "    </tr>\n",
       "  </thead>\n",
       "  <tbody>\n",
       "    <tr>\n",
       "      <th>7</th>\n",
       "      <td>66751017</td>\n",
       "      <td>렌탈</td>\n",
       "      <td>Package</td>\n",
       "      <td>홈쇼핑/방송</td>\n",
       "      <td>2019-10-20</td>\n",
       "      <td>60</td>\n",
       "      <td>카드이체</td>\n",
       "      <td>K2</td>\n",
       "      <td>80400</td>\n",
       "      <td>계약확정</td>\n",
       "      <td>0</td>\n",
       "      <td>없음</td>\n",
       "      <td>1.0</td>\n",
       "      <td>롯데카드</td>\n",
       "      <td>정상</td>\n",
       "      <td>NaN</td>\n",
       "      <td>NaN</td>\n",
       "    </tr>\n",
       "    <tr>\n",
       "      <th>19</th>\n",
       "      <td>66758336</td>\n",
       "      <td>렌탈</td>\n",
       "      <td>Promotion</td>\n",
       "      <td>전자랜드</td>\n",
       "      <td>2019-10-20</td>\n",
       "      <td>60</td>\n",
       "      <td>CMS</td>\n",
       "      <td>K1</td>\n",
       "      <td>111900</td>\n",
       "      <td>계약확정</td>\n",
       "      <td>0</td>\n",
       "      <td>없음</td>\n",
       "      <td>9.0</td>\n",
       "      <td>농협은행</td>\n",
       "      <td>정상</td>\n",
       "      <td>NaN</td>\n",
       "      <td>NaN</td>\n",
       "    </tr>\n",
       "    <tr>\n",
       "      <th>21</th>\n",
       "      <td>66758074</td>\n",
       "      <td>렌탈</td>\n",
       "      <td>Normal</td>\n",
       "      <td>서비스 방문</td>\n",
       "      <td>2019-10-20</td>\n",
       "      <td>60</td>\n",
       "      <td>CMS</td>\n",
       "      <td>K2</td>\n",
       "      <td>87900</td>\n",
       "      <td>계약확정</td>\n",
       "      <td>0</td>\n",
       "      <td>없음</td>\n",
       "      <td>1.0</td>\n",
       "      <td>국민은행</td>\n",
       "      <td>정상</td>\n",
       "      <td>NaN</td>\n",
       "      <td>NaN</td>\n",
       "    </tr>\n",
       "    <tr>\n",
       "      <th>26</th>\n",
       "      <td>66419239</td>\n",
       "      <td>렌탈</td>\n",
       "      <td>Extension_Rental</td>\n",
       "      <td>서비스 방문</td>\n",
       "      <td>2019-10-20</td>\n",
       "      <td>60</td>\n",
       "      <td>CMS</td>\n",
       "      <td>K1</td>\n",
       "      <td>96900</td>\n",
       "      <td>계약확정</td>\n",
       "      <td>0</td>\n",
       "      <td>없음</td>\n",
       "      <td>NaN</td>\n",
       "      <td>국민은행</td>\n",
       "      <td>정상</td>\n",
       "      <td>NaN</td>\n",
       "      <td>NaN</td>\n",
       "    </tr>\n",
       "    <tr>\n",
       "      <th>27</th>\n",
       "      <td>25702131</td>\n",
       "      <td>멤버십</td>\n",
       "      <td>TAS</td>\n",
       "      <td>렌탈재계약</td>\n",
       "      <td>2019-10-20</td>\n",
       "      <td>12</td>\n",
       "      <td>CMS</td>\n",
       "      <td>K1</td>\n",
       "      <td>66900</td>\n",
       "      <td>계약확정</td>\n",
       "      <td>0</td>\n",
       "      <td>없음</td>\n",
       "      <td>NaN</td>\n",
       "      <td>기업은행</td>\n",
       "      <td>정상</td>\n",
       "      <td>NaN</td>\n",
       "      <td>NaN</td>\n",
       "    </tr>\n",
       "    <tr>\n",
       "      <th>...</th>\n",
       "      <td>...</td>\n",
       "      <td>...</td>\n",
       "      <td>...</td>\n",
       "      <td>...</td>\n",
       "      <td>...</td>\n",
       "      <td>...</td>\n",
       "      <td>...</td>\n",
       "      <td>...</td>\n",
       "      <td>...</td>\n",
       "      <td>...</td>\n",
       "      <td>...</td>\n",
       "      <td>...</td>\n",
       "      <td>...</td>\n",
       "      <td>...</td>\n",
       "      <td>...</td>\n",
       "      <td>...</td>\n",
       "      <td>...</td>\n",
       "    </tr>\n",
       "    <tr>\n",
       "      <th>51289</th>\n",
       "      <td>66799221</td>\n",
       "      <td>멤버십</td>\n",
       "      <td>TA2</td>\n",
       "      <td>하이마트</td>\n",
       "      <td>2020-02-03</td>\n",
       "      <td>36</td>\n",
       "      <td>무통장</td>\n",
       "      <td>K1</td>\n",
       "      <td>56979</td>\n",
       "      <td>해약확정</td>\n",
       "      <td>0</td>\n",
       "      <td>없음</td>\n",
       "      <td>NaN</td>\n",
       "      <td>NaN</td>\n",
       "      <td>해약</td>\n",
       "      <td>NaN</td>\n",
       "      <td>NaN</td>\n",
       "    </tr>\n",
       "    <tr>\n",
       "      <th>51291</th>\n",
       "      <td>66796007</td>\n",
       "      <td>렌탈</td>\n",
       "      <td>Promotion</td>\n",
       "      <td>R관리방판</td>\n",
       "      <td>2020-02-03</td>\n",
       "      <td>60</td>\n",
       "      <td>카드이체</td>\n",
       "      <td>K3</td>\n",
       "      <td>90900</td>\n",
       "      <td>계약확정</td>\n",
       "      <td>0</td>\n",
       "      <td>없음</td>\n",
       "      <td>NaN</td>\n",
       "      <td>BC카드</td>\n",
       "      <td>정상</td>\n",
       "      <td>NaN</td>\n",
       "      <td>NaN</td>\n",
       "    </tr>\n",
       "    <tr>\n",
       "      <th>51293</th>\n",
       "      <td>66579515</td>\n",
       "      <td>렌탈</td>\n",
       "      <td>Promotion</td>\n",
       "      <td>R관리방판</td>\n",
       "      <td>2020-02-03</td>\n",
       "      <td>60</td>\n",
       "      <td>CMS</td>\n",
       "      <td>K3</td>\n",
       "      <td>96900</td>\n",
       "      <td>계약확정</td>\n",
       "      <td>0</td>\n",
       "      <td>없음</td>\n",
       "      <td>NaN</td>\n",
       "      <td>기업은행</td>\n",
       "      <td>정상</td>\n",
       "      <td>NaN</td>\n",
       "      <td>NaN</td>\n",
       "    </tr>\n",
       "    <tr>\n",
       "      <th>51298</th>\n",
       "      <td>66796621</td>\n",
       "      <td>멤버십</td>\n",
       "      <td>TA2</td>\n",
       "      <td>R관리방판</td>\n",
       "      <td>2020-02-03</td>\n",
       "      <td>36</td>\n",
       "      <td>CMS</td>\n",
       "      <td>K1</td>\n",
       "      <td>56979</td>\n",
       "      <td>계약확정</td>\n",
       "      <td>0</td>\n",
       "      <td>없음</td>\n",
       "      <td>NaN</td>\n",
       "      <td>롯데카드</td>\n",
       "      <td>정상</td>\n",
       "      <td>NaN</td>\n",
       "      <td>NaN</td>\n",
       "    </tr>\n",
       "    <tr>\n",
       "      <th>51299</th>\n",
       "      <td>66579515</td>\n",
       "      <td>NaN</td>\n",
       "      <td>Promotion</td>\n",
       "      <td>R관리방판</td>\n",
       "      <td>2020-02-03</td>\n",
       "      <td>60</td>\n",
       "      <td>무통장</td>\n",
       "      <td>K3</td>\n",
       "      <td>96900</td>\n",
       "      <td>계약확정</td>\n",
       "      <td>0</td>\n",
       "      <td>없음</td>\n",
       "      <td>NaN</td>\n",
       "      <td>롯데카드</td>\n",
       "      <td>정상</td>\n",
       "      <td>NaN</td>\n",
       "      <td>NaN</td>\n",
       "    </tr>\n",
       "  </tbody>\n",
       "</table>\n",
       "<p>10795 rows × 17 columns</p>\n",
       "</div>"
      ],
      "text/plain": [
       "             id type_of_contract type_of_contract2 channel    datetime  Term  \\\n",
       "7      66751017               렌탈           Package  홈쇼핑/방송  2019-10-20    60   \n",
       "19     66758336               렌탈         Promotion    전자랜드  2019-10-20    60   \n",
       "21     66758074               렌탈            Normal  서비스 방문  2019-10-20    60   \n",
       "26     66419239               렌탈  Extension_Rental  서비스 방문  2019-10-20    60   \n",
       "27     25702131              멤버십               TAS   렌탈재계약  2019-10-20    12   \n",
       "...         ...              ...               ...     ...         ...   ...   \n",
       "51289  66799221              멤버십               TA2    하이마트  2020-02-03    36   \n",
       "51291  66796007               렌탈         Promotion   R관리방판  2020-02-03    60   \n",
       "51293  66579515               렌탈         Promotion   R관리방판  2020-02-03    60   \n",
       "51298  66796621              멤버십               TA2   R관리방판  2020-02-03    36   \n",
       "51299  66579515              NaN         Promotion   R관리방판  2020-02-03    60   \n",
       "\n",
       "      payment_type product  amount state  overdue_count overdue  \\\n",
       "7             카드이체      K2   80400  계약확정              0      없음   \n",
       "19             CMS      K1  111900  계약확정              0      없음   \n",
       "21             CMS      K2   87900  계약확정              0      없음   \n",
       "26             CMS      K1   96900  계약확정              0      없음   \n",
       "27             CMS      K1   66900  계약확정              0      없음   \n",
       "...            ...     ...     ...   ...            ...     ...   \n",
       "51289          무통장      K1   56979  해약확정              0      없음   \n",
       "51291         카드이체      K3   90900  계약확정              0      없음   \n",
       "51293          CMS      K3   96900  계약확정              0      없음   \n",
       "51298          CMS      K1   56979  계약확정              0      없음   \n",
       "51299          무통장      K3   96900  계약확정              0      없음   \n",
       "\n",
       "       credit rating  bank cancellation  age  Mileage  \n",
       "7                1.0  롯데카드           정상  NaN      NaN  \n",
       "19               9.0  농협은행           정상  NaN      NaN  \n",
       "21               1.0  국민은행           정상  NaN      NaN  \n",
       "26               NaN  국민은행           정상  NaN      NaN  \n",
       "27               NaN  기업은행           정상  NaN      NaN  \n",
       "...              ...   ...          ...  ...      ...  \n",
       "51289            NaN   NaN           해약  NaN      NaN  \n",
       "51291            NaN  BC카드           정상  NaN      NaN  \n",
       "51293            NaN  기업은행           정상  NaN      NaN  \n",
       "51298            NaN  롯데카드           정상  NaN      NaN  \n",
       "51299            NaN  롯데카드           정상  NaN      NaN  \n",
       "\n",
       "[10795 rows x 17 columns]"
      ]
     },
     "execution_count": 9,
     "metadata": {},
     "output_type": "execute_result"
    }
   ],
   "source": [
    "data_df[data_df['Mileage'].isna()]"
   ]
  },
  {
   "cell_type": "code",
   "execution_count": 10,
   "metadata": {},
   "outputs": [
    {
     "data": {
      "text/plain": [
       "Mileage\n",
       "2030.0    53\n",
       "1814.0    50\n",
       "1775.0    50\n",
       "2010.0    48\n",
       "1944.0    47\n",
       "          ..\n",
       "3127.0     1\n",
       "3091.0     1\n",
       "3031.0     1\n",
       "3284.0     1\n",
       "3280.0     1\n",
       "Name: count, Length: 2297, dtype: int64"
      ]
     },
     "execution_count": 10,
     "metadata": {},
     "output_type": "execute_result"
    }
   ],
   "source": [
    "data_df['Mileage'].value_counts()"
   ]
  },
  {
   "cell_type": "code",
   "execution_count": 11,
   "metadata": {},
   "outputs": [
    {
     "data": {
      "text/html": [
       "<div>\n",
       "<style scoped>\n",
       "    .dataframe tbody tr th:only-of-type {\n",
       "        vertical-align: middle;\n",
       "    }\n",
       "\n",
       "    .dataframe tbody tr th {\n",
       "        vertical-align: top;\n",
       "    }\n",
       "\n",
       "    .dataframe thead th {\n",
       "        text-align: right;\n",
       "    }\n",
       "</style>\n",
       "<table border=\"1\" class=\"dataframe\">\n",
       "  <thead>\n",
       "    <tr style=\"text-align: right;\">\n",
       "      <th></th>\n",
       "      <th>id</th>\n",
       "      <th>type_of_contract</th>\n",
       "      <th>type_of_contract2</th>\n",
       "      <th>channel</th>\n",
       "      <th>datetime</th>\n",
       "      <th>Term</th>\n",
       "      <th>payment_type</th>\n",
       "      <th>product</th>\n",
       "      <th>amount</th>\n",
       "      <th>state</th>\n",
       "      <th>overdue_count</th>\n",
       "      <th>overdue</th>\n",
       "      <th>credit rating</th>\n",
       "      <th>bank</th>\n",
       "      <th>cancellation</th>\n",
       "      <th>age</th>\n",
       "      <th>Mileage</th>\n",
       "    </tr>\n",
       "  </thead>\n",
       "  <tbody>\n",
       "  </tbody>\n",
       "</table>\n",
       "</div>"
      ],
      "text/plain": [
       "Empty DataFrame\n",
       "Columns: [id, type_of_contract, type_of_contract2, channel, datetime, Term, payment_type, product, amount, state, overdue_count, overdue, credit rating, bank, cancellation, age, Mileage]\n",
       "Index: []"
      ]
     },
     "execution_count": 11,
     "metadata": {},
     "output_type": "execute_result"
    }
   ],
   "source": [
    "bank_df = data_df[\n",
    "    data_df['age'].notna() & \n",
    "    data_df['credit rating'].isna()\n",
    "]\n",
    "bank_df"
   ]
  },
  {
   "cell_type": "code",
   "execution_count": 12,
   "metadata": {},
   "outputs": [
    {
     "data": {
      "text/plain": [
       "state\n",
       "계약확정    24\n",
       "기간만료     1\n",
       "Name: count, dtype: int64"
      ]
     },
     "execution_count": 12,
     "metadata": {},
     "output_type": "execute_result"
    }
   ],
   "source": [
    "temp = data_df[data_df['cancellation'].isna()]\n",
    "temp['state'].value_counts()"
   ]
  },
  {
   "cell_type": "code",
   "execution_count": 13,
   "metadata": {},
   "outputs": [
    {
     "data": {
      "text/plain": [
       "cancellation\n",
       "정상    50372\n",
       "해약      907\n",
       "Name: count, dtype: int64"
      ]
     },
     "execution_count": 13,
     "metadata": {},
     "output_type": "execute_result"
    }
   ],
   "source": [
    "data_df['cancellation'].value_counts()"
   ]
  },
  {
   "cell_type": "code",
   "execution_count": 14,
   "metadata": {},
   "outputs": [
    {
     "data": {
      "text/plain": [
       "state\n",
       "계약확정     50350\n",
       "해약확정       907\n",
       "기간만료        33\n",
       "해약진행중       14\n",
       "Name: count, dtype: int64"
      ]
     },
     "execution_count": 14,
     "metadata": {},
     "output_type": "execute_result"
    }
   ],
   "source": [
    "data_df['state'].value_counts()"
   ]
  },
  {
   "cell_type": "code",
   "execution_count": 15,
   "metadata": {},
   "outputs": [
    {
     "data": {
      "text/plain": [
       "cancellation\n",
       "정상    50326\n",
       "Name: count, dtype: int64"
      ]
     },
     "execution_count": 15,
     "metadata": {},
     "output_type": "execute_result"
    }
   ],
   "source": [
    "condition_state = 'state == \"계약확정\"'\n",
    "condition_cancellation = 'cancellation == \"기간만료\"'\n",
    "temp = data_df.query(\n",
    "    f\"{condition_state}\"\n",
    ")\n",
    "temp['cancellation'].value_counts()"
   ]
  },
  {
   "cell_type": "code",
   "execution_count": 16,
   "metadata": {},
   "outputs": [
    {
     "data": {
      "text/plain": [
       "overdue\n",
       "없음    17\n",
       "Name: count, dtype: int64"
      ]
     },
     "execution_count": 16,
     "metadata": {},
     "output_type": "execute_result"
    }
   ],
   "source": [
    "condition_overdue_count = 'overdue_count == -1'\n",
    "temp = data_df.query(\n",
    "    f\"{condition_overdue_count}\"\n",
    ")\n",
    "temp['overdue'].value_counts()"
   ]
  },
  {
   "cell_type": "code",
   "execution_count": 17,
   "metadata": {},
   "outputs": [
    {
     "data": {
      "text/html": [
       "<div>\n",
       "<style scoped>\n",
       "    .dataframe tbody tr th:only-of-type {\n",
       "        vertical-align: middle;\n",
       "    }\n",
       "\n",
       "    .dataframe tbody tr th {\n",
       "        vertical-align: top;\n",
       "    }\n",
       "\n",
       "    .dataframe thead th {\n",
       "        text-align: right;\n",
       "    }\n",
       "</style>\n",
       "<table border=\"1\" class=\"dataframe\">\n",
       "  <thead>\n",
       "    <tr style=\"text-align: right;\">\n",
       "      <th></th>\n",
       "      <th>id</th>\n",
       "      <th>type_of_contract</th>\n",
       "      <th>type_of_contract2</th>\n",
       "      <th>channel</th>\n",
       "      <th>datetime</th>\n",
       "      <th>Term</th>\n",
       "      <th>payment_type</th>\n",
       "      <th>product</th>\n",
       "      <th>amount</th>\n",
       "      <th>state</th>\n",
       "      <th>overdue_count</th>\n",
       "      <th>overdue</th>\n",
       "      <th>credit rating</th>\n",
       "      <th>bank</th>\n",
       "      <th>cancellation</th>\n",
       "      <th>age</th>\n",
       "      <th>Mileage</th>\n",
       "    </tr>\n",
       "  </thead>\n",
       "  <tbody>\n",
       "    <tr>\n",
       "      <th>1789</th>\n",
       "      <td>66760179</td>\n",
       "      <td>렌탈</td>\n",
       "      <td>Promotion</td>\n",
       "      <td>홈쇼핑/방송</td>\n",
       "      <td>2019-10-23</td>\n",
       "      <td>60</td>\n",
       "      <td>카드이체</td>\n",
       "      <td>K1</td>\n",
       "      <td>96900</td>\n",
       "      <td>계약확정</td>\n",
       "      <td>-1</td>\n",
       "      <td>없음</td>\n",
       "      <td>1.0</td>\n",
       "      <td>롯데카드</td>\n",
       "      <td>정상</td>\n",
       "      <td>50.0</td>\n",
       "      <td>2107.0</td>\n",
       "    </tr>\n",
       "    <tr>\n",
       "      <th>1795</th>\n",
       "      <td>66674030</td>\n",
       "      <td>렌탈</td>\n",
       "      <td>Promotion</td>\n",
       "      <td>서비스 방문</td>\n",
       "      <td>2019-10-23</td>\n",
       "      <td>60</td>\n",
       "      <td>CMS</td>\n",
       "      <td>K2</td>\n",
       "      <td>90900</td>\n",
       "      <td>계약확정</td>\n",
       "      <td>-1</td>\n",
       "      <td>없음</td>\n",
       "      <td>1.0</td>\n",
       "      <td>신한은행</td>\n",
       "      <td>정상</td>\n",
       "      <td>46.0</td>\n",
       "      <td>1946.0</td>\n",
       "    </tr>\n",
       "    <tr>\n",
       "      <th>1816</th>\n",
       "      <td>66759728</td>\n",
       "      <td>렌탈</td>\n",
       "      <td>Normal</td>\n",
       "      <td>영업방판</td>\n",
       "      <td>2019-10-23</td>\n",
       "      <td>60</td>\n",
       "      <td>CMS</td>\n",
       "      <td>K1</td>\n",
       "      <td>87900</td>\n",
       "      <td>계약확정</td>\n",
       "      <td>-1</td>\n",
       "      <td>없음</td>\n",
       "      <td>NaN</td>\n",
       "      <td>국민은행</td>\n",
       "      <td>정상</td>\n",
       "      <td>NaN</td>\n",
       "      <td>NaN</td>\n",
       "    </tr>\n",
       "    <tr>\n",
       "      <th>1859</th>\n",
       "      <td>66757586</td>\n",
       "      <td>렌탈</td>\n",
       "      <td>Normal</td>\n",
       "      <td>서비스 방문</td>\n",
       "      <td>2019-10-23</td>\n",
       "      <td>60</td>\n",
       "      <td>CMS</td>\n",
       "      <td>K1</td>\n",
       "      <td>96900</td>\n",
       "      <td>계약확정</td>\n",
       "      <td>-1</td>\n",
       "      <td>없음</td>\n",
       "      <td>2.0</td>\n",
       "      <td>농협은행</td>\n",
       "      <td>정상</td>\n",
       "      <td>65.0</td>\n",
       "      <td>2511.0</td>\n",
       "    </tr>\n",
       "    <tr>\n",
       "      <th>1901</th>\n",
       "      <td>66759913</td>\n",
       "      <td>렌탈</td>\n",
       "      <td>Promotion</td>\n",
       "      <td>홈쇼핑/방송</td>\n",
       "      <td>2019-10-23</td>\n",
       "      <td>60</td>\n",
       "      <td>카드이체</td>\n",
       "      <td>K1</td>\n",
       "      <td>96900</td>\n",
       "      <td>계약확정</td>\n",
       "      <td>-1</td>\n",
       "      <td>없음</td>\n",
       "      <td>1.0</td>\n",
       "      <td>롯데카드</td>\n",
       "      <td>정상</td>\n",
       "      <td>48.0</td>\n",
       "      <td>2151.0</td>\n",
       "    </tr>\n",
       "  </tbody>\n",
       "</table>\n",
       "</div>"
      ],
      "text/plain": [
       "            id type_of_contract type_of_contract2 channel    datetime  Term  \\\n",
       "1789  66760179               렌탈         Promotion  홈쇼핑/방송  2019-10-23    60   \n",
       "1795  66674030               렌탈         Promotion  서비스 방문  2019-10-23    60   \n",
       "1816  66759728               렌탈            Normal    영업방판  2019-10-23    60   \n",
       "1859  66757586               렌탈            Normal  서비스 방문  2019-10-23    60   \n",
       "1901  66759913               렌탈         Promotion  홈쇼핑/방송  2019-10-23    60   \n",
       "\n",
       "     payment_type product  amount state  overdue_count overdue  credit rating  \\\n",
       "1789         카드이체      K1   96900  계약확정             -1      없음            1.0   \n",
       "1795          CMS      K2   90900  계약확정             -1      없음            1.0   \n",
       "1816          CMS      K1   87900  계약확정             -1      없음            NaN   \n",
       "1859          CMS      K1   96900  계약확정             -1      없음            2.0   \n",
       "1901         카드이체      K1   96900  계약확정             -1      없음            1.0   \n",
       "\n",
       "      bank cancellation   age  Mileage  \n",
       "1789  롯데카드           정상  50.0   2107.0  \n",
       "1795  신한은행           정상  46.0   1946.0  \n",
       "1816  국민은행           정상   NaN      NaN  \n",
       "1859  농협은행           정상  65.0   2511.0  \n",
       "1901  롯데카드           정상  48.0   2151.0  "
      ]
     },
     "execution_count": 17,
     "metadata": {},
     "output_type": "execute_result"
    }
   ],
   "source": [
    "condition_overdue_count = 'overdue_count != 0'\n",
    "condition_overdue = 'overdue == \"없음\"'\n",
    "temp = data_df.query(\n",
    "    f\"{condition_overdue_count} and \"\n",
    "    f\"{condition_overdue}\"\n",
    ")\n",
    "temp['overdue'].value_counts()\n",
    "temp.head()"
   ]
  },
  {
   "cell_type": "code",
   "execution_count": 18,
   "metadata": {},
   "outputs": [
    {
     "data": {
      "text/html": [
       "<div>\n",
       "<style scoped>\n",
       "    .dataframe tbody tr th:only-of-type {\n",
       "        vertical-align: middle;\n",
       "    }\n",
       "\n",
       "    .dataframe tbody tr th {\n",
       "        vertical-align: top;\n",
       "    }\n",
       "\n",
       "    .dataframe thead th {\n",
       "        text-align: right;\n",
       "    }\n",
       "</style>\n",
       "<table border=\"1\" class=\"dataframe\">\n",
       "  <thead>\n",
       "    <tr style=\"text-align: right;\">\n",
       "      <th></th>\n",
       "      <th>id</th>\n",
       "      <th>type_of_contract</th>\n",
       "      <th>type_of_contract2</th>\n",
       "      <th>channel</th>\n",
       "      <th>datetime</th>\n",
       "      <th>Term</th>\n",
       "      <th>payment_type</th>\n",
       "      <th>product</th>\n",
       "      <th>amount</th>\n",
       "      <th>state</th>\n",
       "      <th>overdue_count</th>\n",
       "      <th>overdue</th>\n",
       "      <th>credit rating</th>\n",
       "      <th>bank</th>\n",
       "      <th>cancellation</th>\n",
       "      <th>age</th>\n",
       "      <th>Mileage</th>\n",
       "    </tr>\n",
       "  </thead>\n",
       "  <tbody>\n",
       "    <tr>\n",
       "      <th>31</th>\n",
       "      <td>66758778</td>\n",
       "      <td>렌탈</td>\n",
       "      <td>Normal</td>\n",
       "      <td>홈쇼핑/방송</td>\n",
       "      <td>2019-10-21</td>\n",
       "      <td>60</td>\n",
       "      <td>CMS</td>\n",
       "      <td>K1</td>\n",
       "      <td>96900</td>\n",
       "      <td>계약확정</td>\n",
       "      <td>0</td>\n",
       "      <td>없음</td>\n",
       "      <td>5.0</td>\n",
       "      <td>우리은행</td>\n",
       "      <td>정상</td>\n",
       "      <td>64.0</td>\n",
       "      <td>2409.0</td>\n",
       "    </tr>\n",
       "    <tr>\n",
       "      <th>35</th>\n",
       "      <td>66528773</td>\n",
       "      <td>렌탈</td>\n",
       "      <td>Normal</td>\n",
       "      <td>홈쇼핑/방송</td>\n",
       "      <td>2019-10-21</td>\n",
       "      <td>60</td>\n",
       "      <td>CMS</td>\n",
       "      <td>K1</td>\n",
       "      <td>96900</td>\n",
       "      <td>계약확정</td>\n",
       "      <td>0</td>\n",
       "      <td>없음</td>\n",
       "      <td>3.0</td>\n",
       "      <td>국민은행</td>\n",
       "      <td>정상</td>\n",
       "      <td>65.0</td>\n",
       "      <td>2375.0</td>\n",
       "    </tr>\n",
       "    <tr>\n",
       "      <th>43</th>\n",
       "      <td>66758431</td>\n",
       "      <td>렌탈</td>\n",
       "      <td>Normal</td>\n",
       "      <td>홈쇼핑/방송</td>\n",
       "      <td>2019-10-21</td>\n",
       "      <td>60</td>\n",
       "      <td>카드이체</td>\n",
       "      <td>K1</td>\n",
       "      <td>96900</td>\n",
       "      <td>계약확정</td>\n",
       "      <td>0</td>\n",
       "      <td>없음</td>\n",
       "      <td>1.0</td>\n",
       "      <td>국민카드</td>\n",
       "      <td>정상</td>\n",
       "      <td>52.0</td>\n",
       "      <td>2131.0</td>\n",
       "    </tr>\n",
       "    <tr>\n",
       "      <th>91</th>\n",
       "      <td>66758611</td>\n",
       "      <td>렌탈</td>\n",
       "      <td>Normal</td>\n",
       "      <td>홈쇼핑/방송</td>\n",
       "      <td>2019-10-21</td>\n",
       "      <td>60</td>\n",
       "      <td>카드이체</td>\n",
       "      <td>K1</td>\n",
       "      <td>96900</td>\n",
       "      <td>계약확정</td>\n",
       "      <td>0</td>\n",
       "      <td>없음</td>\n",
       "      <td>1.0</td>\n",
       "      <td>신한카드</td>\n",
       "      <td>정상</td>\n",
       "      <td>32.0</td>\n",
       "      <td>1551.0</td>\n",
       "    </tr>\n",
       "    <tr>\n",
       "      <th>107</th>\n",
       "      <td>66758509</td>\n",
       "      <td>렌탈</td>\n",
       "      <td>Normal</td>\n",
       "      <td>홈쇼핑/방송</td>\n",
       "      <td>2019-10-21</td>\n",
       "      <td>60</td>\n",
       "      <td>카드이체</td>\n",
       "      <td>K1</td>\n",
       "      <td>96900</td>\n",
       "      <td>계약확정</td>\n",
       "      <td>0</td>\n",
       "      <td>없음</td>\n",
       "      <td>1.0</td>\n",
       "      <td>신한카드</td>\n",
       "      <td>정상</td>\n",
       "      <td>76.0</td>\n",
       "      <td>2925.0</td>\n",
       "    </tr>\n",
       "  </tbody>\n",
       "</table>\n",
       "</div>"
      ],
      "text/plain": [
       "           id type_of_contract type_of_contract2 channel    datetime  Term  \\\n",
       "31   66758778               렌탈            Normal  홈쇼핑/방송  2019-10-21    60   \n",
       "35   66528773               렌탈            Normal  홈쇼핑/방송  2019-10-21    60   \n",
       "43   66758431               렌탈            Normal  홈쇼핑/방송  2019-10-21    60   \n",
       "91   66758611               렌탈            Normal  홈쇼핑/방송  2019-10-21    60   \n",
       "107  66758509               렌탈            Normal  홈쇼핑/방송  2019-10-21    60   \n",
       "\n",
       "    payment_type product  amount state  overdue_count overdue  credit rating  \\\n",
       "31           CMS      K1   96900  계약확정              0      없음            5.0   \n",
       "35           CMS      K1   96900  계약확정              0      없음            3.0   \n",
       "43          카드이체      K1   96900  계약확정              0      없음            1.0   \n",
       "91          카드이체      K1   96900  계약확정              0      없음            1.0   \n",
       "107         카드이체      K1   96900  계약확정              0      없음            1.0   \n",
       "\n",
       "     bank cancellation   age  Mileage  \n",
       "31   우리은행           정상  64.0   2409.0  \n",
       "35   국민은행           정상  65.0   2375.0  \n",
       "43   국민카드           정상  52.0   2131.0  \n",
       "91   신한카드           정상  32.0   1551.0  \n",
       "107  신한카드           정상  76.0   2925.0  "
      ]
     },
     "execution_count": 18,
     "metadata": {},
     "output_type": "execute_result"
    }
   ],
   "source": [
    "condition_type_of_contract = 'type_of_contract == \"렌탈\"'\n",
    "condition_type_of_contract2 = 'type_of_contract2 == \"Normal\"'\n",
    "condition_channel = 'channel == \"홈쇼핑/방송\"'\n",
    "condition_product = 'product == \"K2\"'\n",
    "condition_amount = 'amount == 96900'\n",
    "condition_datetime = 'datetime == \"2019-10-21\"'\n",
    "\n",
    "temp = data_df.query(\n",
    "    f\"{condition_channel} and \"\n",
    "    f\"{condition_type_of_contract2} and \"\n",
    "    f\"{condition_amount} and \"\n",
    "    f\"{condition_datetime}\"\n",
    ")\n",
    "temp.head()\n"
   ]
  },
  {
   "cell_type": "code",
   "execution_count": 19,
   "metadata": {},
   "outputs": [],
   "source": [
    "def split_categorical_numerical(df, unique_threshold=0.001):\n",
    "    \"\"\"\n",
    "    데이터프레임을 범주형과 수치형으로 분리\n",
    "    \n",
    "    Parameters:\n",
    "    - df: 입력 데이터프레임\n",
    "    - unique_threshold: unique 값 비율 임계값 (기본값 0.05 = 5%)\n",
    "    \n",
    "    Returns:\n",
    "    - categorical_df: 범주형 컬럼만 있는 데이터프레임\n",
    "    - numerical_df: 수치형 컬럼만 있는 데이터프레임\n",
    "    \"\"\"\n",
    "    \n",
    "    categorical_cols = []\n",
    "    numerical_cols = []\n",
    "    \n",
    "    n_rows = len(df)\n",
    "    \n",
    "    for col in df.columns:\n",
    "        # unique 값의 비율 계산\n",
    "        unique_ratio = len(df[col].unique()) / n_rows\n",
    "        n_unique = df[col].nunique()\n",
    "        # object 타입이거나, unique 값 비율이 임계값보다 작으면 범주형으로 분류\n",
    "        # df[col].dtype == 'object' or\n",
    "        # if unique_ratio < unique_threshold:\n",
    "        if n_unique < 30:  \n",
    "            # print(f'cat - {col} : {n_unique}, {unique_ratio}')\n",
    "            categorical_cols.append(col)\n",
    "        else:\n",
    "            # print(f'num - {col} : {n_unique}, {unique_ratio}')\n",
    "            numerical_cols.append(col)\n",
    "            \n",
    "    return df[categorical_cols], df[numerical_cols]"
   ]
  },
  {
   "cell_type": "markdown",
   "metadata": {},
   "source": [
    "##### label 선택 추가 고려 사항\n",
    "- label은 feature들에 대해 종속적이야 한다.\n",
    "- feature 들 간에 관계는 독립적이여야 한다.\n",
    "- ex) 두 feature 가 종속 관계 라면 한 feature를 빼는 것이 좋다. 가중치가 높아지기 때문\n",
    "- ex2) label 과 feature 간에는 종속적이여도 상관 없다. 다른 독립적 feature 의 영향에 따라 label에 대한 예측이 달라질 수 있기 때문. \n",
    "- 다만 해당 feature에 대해 의도적으로 가중치를 줄이는 방법이 필요한 지에 대해 고려 필요 \n"
   ]
  },
  {
   "cell_type": "code",
   "execution_count": 20,
   "metadata": {},
   "outputs": [
    {
     "name": "stdout",
     "output_type": "stream",
     "text": [
      "<class 'pandas.core.frame.DataFrame'>\n",
      "RangeIndex: 51304 entries, 0 to 51303\n",
      "Data columns (total 11 columns):\n",
      " #   Column             Non-Null Count  Dtype  \n",
      "---  ------             --------------  -----  \n",
      " 0   type_of_contract   51300 non-null  object \n",
      " 1   type_of_contract2  51303 non-null  object \n",
      " 2   channel            51304 non-null  object \n",
      " 3   Term               51304 non-null  int64  \n",
      " 4   payment_type       51304 non-null  object \n",
      " 5   product            51303 non-null  object \n",
      " 6   state              51304 non-null  object \n",
      " 7   overdue_count      51304 non-null  int64  \n",
      " 8   overdue            51302 non-null  object \n",
      " 9   credit rating      42521 non-null  float64\n",
      " 10  cancellation       51279 non-null  object \n",
      "dtypes: float64(1), int64(2), object(8)\n",
      "memory usage: 4.3+ MB\n"
     ]
    }
   ],
   "source": [
    "cat_df, num_df = split_categorical_numerical(data_df)\n",
    "cat_df.info()"
   ]
  },
  {
   "cell_type": "markdown",
   "metadata": {},
   "source": [
    "##### 강한 관계 쌍 \n",
    "- 아주 강한 쌍 (거의 1)\n",
    "+ type_of_contract - type_of_contract2\n",
    "+ overdue - overdue_count\n",
    "+ state - cancellation\n",
    "- 약간 강한 쌍 (0.8~0.9)\n",
    "+ type_of_contract - Term\n",
    "+ type_of_contract - channel"
   ]
  },
  {
   "cell_type": "code",
   "execution_count": 21,
   "metadata": {},
   "outputs": [
    {
     "name": "stdout",
     "output_type": "stream",
     "text": [
      "Cramer's V correlation: 0.9999999999999999\n"
     ]
    }
   ],
   "source": [
    "from scipy.stats import chi2_contingency\n",
    "import numpy as np\n",
    "\n",
    "def cramers_v(x, y):\n",
    "    confusion_matrix = pd.crosstab(x, y)\n",
    "    chi2 = chi2_contingency(confusion_matrix)[0]\n",
    "    n = confusion_matrix.sum().sum()\n",
    "    min_dim = min(confusion_matrix.shape) - 1\n",
    "    return np.sqrt(chi2 / (n * min_dim))\n",
    "\n",
    "# 사용 예시\n",
    "correlation = cramers_v(data_df['state'], data_df['cancellation'])\n",
    "print(f\"Cramer's V correlation: {correlation}\")"
   ]
  },
  {
   "cell_type": "code",
   "execution_count": 22,
   "metadata": {},
   "outputs": [
    {
     "name": "stdout",
     "output_type": "stream",
     "text": [
      "Cramer's V correlation: 1.0\n"
     ]
    }
   ],
   "source": [
    "correlation = cramers_v(data_df['type_of_contract'], data_df['type_of_contract2'])\n",
    "print(f\"Cramer's V correlation: {correlation}\")"
   ]
  },
  {
   "cell_type": "code",
   "execution_count": 23,
   "metadata": {},
   "outputs": [],
   "source": [
    "# data_df['overdue_count'] = data_df['overdue_count'].astype(str)\n",
    "# correlation = cramers_v(data_df['overdue'], data_df['overdue_count'])\n",
    "# print(f\"Cramer's V correlation: {correlation}\")"
   ]
  },
  {
   "cell_type": "code",
   "execution_count": 24,
   "metadata": {},
   "outputs": [
    {
     "name": "stdout",
     "output_type": "stream",
     "text": [
      "Cramer's V correlation: 0.033128307757429136\n"
     ]
    }
   ],
   "source": [
    "correlation = cramers_v(data_df['type_of_contract'], data_df['overdue'])\n",
    "print(f\"Cramer's V correlation: {correlation}\")"
   ]
  },
  {
   "cell_type": "code",
   "execution_count": 25,
   "metadata": {},
   "outputs": [
    {
     "name": "stdout",
     "output_type": "stream",
     "text": [
      "Cramer's V correlation: 0.8572452417492489\n"
     ]
    }
   ],
   "source": [
    "correlation = cramers_v(data_df['type_of_contract'], data_df['channel'])\n",
    "print(f\"Cramer's V correlation: {correlation}\")"
   ]
  },
  {
   "cell_type": "code",
   "execution_count": 26,
   "metadata": {},
   "outputs": [
    {
     "name": "stdout",
     "output_type": "stream",
     "text": [
      "Cramer's V correlation: 0.6033790432502193\n"
     ]
    }
   ],
   "source": [
    "correlation = cramers_v(data_df['type_of_contract2'], data_df['channel'])\n",
    "print(f\"Cramer's V correlation: {correlation}\")"
   ]
  },
  {
   "cell_type": "code",
   "execution_count": 27,
   "metadata": {},
   "outputs": [
    {
     "name": "stdout",
     "output_type": "stream",
     "text": [
      "Cramer's V correlation: 0.7438052367165258\n"
     ]
    }
   ],
   "source": [
    "correlation = cramers_v(data_df['type_of_contract2'], data_df['Term'])\n",
    "print(f\"Cramer's V correlation: {correlation}\")"
   ]
  },
  {
   "cell_type": "code",
   "execution_count": 28,
   "metadata": {},
   "outputs": [
    {
     "name": "stdout",
     "output_type": "stream",
     "text": [
      "Cramer's V correlation: 0.9080832573638685\n"
     ]
    }
   ],
   "source": [
    "correlation = cramers_v(data_df['type_of_contract'], data_df['Term'])\n",
    "print(f\"Cramer's V correlation: {correlation}\")"
   ]
  },
  {
   "cell_type": "code",
   "execution_count": 29,
   "metadata": {},
   "outputs": [],
   "source": [
    "def correlation_ratio(categorical_var, numerical_var):\n",
    "    categories = categorical_var.unique()\n",
    "    n = len(numerical_var)\n",
    "    \n",
    "    # 전체 평균\n",
    "    mean_all = numerical_var.mean()\n",
    "    \n",
    "    # 범주별 평균\n",
    "    categories_means = numerical_var.groupby(categorical_var).mean()\n",
    "    \n",
    "    # 범주별 크기\n",
    "    categories_counts = numerical_var.groupby(categorical_var).count()\n",
    "    \n",
    "    # 상관비 계산\n",
    "    numerator = np.sum(categories_counts * (categories_means - mean_all)**2)\n",
    "    denominator = np.sum((numerical_var - mean_all)**2)\n",
    "    \n",
    "    correlation_ratio = np.sqrt(numerator/denominator)\n",
    "    return correlation_ratio"
   ]
  },
  {
   "cell_type": "code",
   "execution_count": 30,
   "metadata": {},
   "outputs": [],
   "source": [
    "# correlation = correlation_ratio(data_df['category'], data_df['numeric_value'])\n",
    "# correlation = correlation_ratio(data_df['overdue'], data_df['overdue_count'])\n",
    "# print(f\"Correlation ratio: {correlation}\")"
   ]
  },
  {
   "cell_type": "markdown",
   "metadata": {},
   "source": [
    "##### 뺄거 \n",
    "- id는 너무 유니크함.\n",
    "- bank는 범주인데 46개 클래스로 너무 많아서 제외\n",
    "- datetime은 시계열 다루는 법 잘 모르겠어서 제외, 범주로 보기에 너무 클래스 많고 연속으로 어떻게 다룰지 잘 모르겠음. 추가 공부 필요 \n",
    "- amount, age, mileage 도 범주로 볼 수 있겠으나 연속형으로 시도 해보기 "
   ]
  },
  {
   "cell_type": "markdown",
   "metadata": {},
   "source": [
    "##### label 후보\n",
    "- 연속형 amount : 결측치 없으므로 지도학습 가능\n",
    "- 범주형 multi state : 결측치 없었음\n",
    "- 범주형 binary overdue : 결측치 사실상 없었음"
   ]
  },
  {
   "cell_type": "code",
   "execution_count": 31,
   "metadata": {},
   "outputs": [
    {
     "name": "stdout",
     "output_type": "stream",
     "text": [
      "<class 'pandas.core.frame.DataFrame'>\n",
      "RangeIndex: 51304 entries, 0 to 51303\n",
      "Data columns (total 6 columns):\n",
      " #   Column    Non-Null Count  Dtype  \n",
      "---  ------    --------------  -----  \n",
      " 0   id        51304 non-null  int64  \n",
      " 1   datetime  51304 non-null  object \n",
      " 2   amount    51304 non-null  int64  \n",
      " 3   bank      48544 non-null  object \n",
      " 4   age       40509 non-null  float64\n",
      " 5   Mileage   40509 non-null  float64\n",
      "dtypes: float64(2), int64(2), object(2)\n",
      "memory usage: 2.3+ MB\n"
     ]
    }
   ],
   "source": [
    "num_df.info()"
   ]
  },
  {
   "cell_type": "markdown",
   "metadata": {},
   "source": [
    "## 데이터 전처리 "
   ]
  },
  {
   "cell_type": "markdown",
   "metadata": {},
   "source": [
    "### 결측치 처리 : 직접 처리 \n",
    "- 유추가 가능하거나 어느정도 오차 있어도 결측 갯수 적은 것은 직접 채움\n",
    "- type_of_contract : \"렌탈\" 로 채우면 됨\n",
    "- overdue : overdue_count == 0 이면 \"없음\", overdue_count == 2 면 \"있음\"\n",
    "- cancellation : \"정상\"으로 채우면 될듯\n",
    "- type_of_contract2 : 'channel == \"홈쇼핑/방송\"''amount == 81900''datetime == \"2019-10-21\"''product == \"K2\"' 면 전부 Packge 였음\n",
    "- product : 더 조건 필요 K1 > K2 많았음"
   ]
  },
  {
   "cell_type": "markdown",
   "metadata": {},
   "source": [
    "##### 다른 방법 강구 필요\n",
    "- bank : credit rating : 3.0 1 1.0 1, age : 20.0 1 51.0 1, Mileage\n",
    "1217.0 1 2217.0 1\n",
    "- credit rating : 없으면 age, Mileage 없다\n",
    "- age : Mileage랑 같이 없다\n",
    "- Mileage : age랑 같이 없다"
   ]
  },
  {
   "cell_type": "code",
   "execution_count": 32,
   "metadata": {},
   "outputs": [],
   "source": [
    "mask = data_df['overdue'].isna()\n",
    "data_df.loc[mask & (data_df['overdue_count'] == 0), 'overdue'] = '없음'\n",
    "data_df.loc[mask & (data_df['overdue_count'] == 2), 'overdue'] = '있음'"
   ]
  },
  {
   "cell_type": "code",
   "execution_count": 33,
   "metadata": {},
   "outputs": [],
   "source": [
    "data_df['type_of_contract'] = data_df['type_of_contract'].fillna('렌탈')\n",
    "data_df['cancellation'] = data_df['cancellation'].fillna('정상')\n",
    "data_df['type_of_contract2'] = data_df['type_of_contract2'].fillna('Packge')\n",
    "data_df['product'] = data_df['product'].fillna('K1')"
   ]
  },
  {
   "cell_type": "code",
   "execution_count": 34,
   "metadata": {},
   "outputs": [
    {
     "data": {
      "text/html": [
       "<div>\n",
       "<style scoped>\n",
       "    .dataframe tbody tr th:only-of-type {\n",
       "        vertical-align: middle;\n",
       "    }\n",
       "\n",
       "    .dataframe tbody tr th {\n",
       "        vertical-align: top;\n",
       "    }\n",
       "\n",
       "    .dataframe thead th {\n",
       "        text-align: right;\n",
       "    }\n",
       "</style>\n",
       "<table border=\"1\" class=\"dataframe\">\n",
       "  <thead>\n",
       "    <tr style=\"text-align: right;\">\n",
       "      <th></th>\n",
       "      <th>id</th>\n",
       "      <th>type_of_contract</th>\n",
       "      <th>type_of_contract2</th>\n",
       "      <th>channel</th>\n",
       "      <th>datetime</th>\n",
       "      <th>Term</th>\n",
       "      <th>payment_type</th>\n",
       "      <th>product</th>\n",
       "      <th>amount</th>\n",
       "      <th>state</th>\n",
       "      <th>overdue_count</th>\n",
       "      <th>overdue</th>\n",
       "      <th>credit rating</th>\n",
       "      <th>bank</th>\n",
       "      <th>cancellation</th>\n",
       "      <th>age</th>\n",
       "      <th>Mileage</th>\n",
       "    </tr>\n",
       "  </thead>\n",
       "  <tbody>\n",
       "  </tbody>\n",
       "</table>\n",
       "</div>"
      ],
      "text/plain": [
       "Empty DataFrame\n",
       "Columns: [id, type_of_contract, type_of_contract2, channel, datetime, Term, payment_type, product, amount, state, overdue_count, overdue, credit rating, bank, cancellation, age, Mileage]\n",
       "Index: []"
      ]
     },
     "execution_count": 34,
     "metadata": {},
     "output_type": "execute_result"
    }
   ],
   "source": [
    "columns_to_check = [\n",
    "    'type_of_contract', \n",
    "    'type_of_contract2', \n",
    "    'cancellation', \n",
    "    'product', \n",
    "    'overdue'\n",
    "]\n",
    "data_df[data_df[columns_to_check].isna().any(axis=1)]"
   ]
  },
  {
   "cell_type": "markdown",
   "metadata": {},
   "source": [
    "### 이상치 처리"
   ]
  },
  {
   "cell_type": "code",
   "execution_count": 35,
   "metadata": {},
   "outputs": [
    {
     "data": {
      "image/png": "[encoded data removed]",
      "text/plain": [
       "<Figure size 640x480 with 1 Axes>"
      ]
     },
     "metadata": {},
     "output_type": "display_data"
    }
   ],
   "source": [
    "sns.boxplot(data=data_df, x='age')\n",
    "plt.show()"
   ]
  },
  {
   "cell_type": "markdown",
   "metadata": {},
   "source": [
    "### 범주형 처리"
   ]
  },
  {
   "cell_type": "markdown",
   "metadata": {},
   "source": [
    "제외 columns\n",
    "- id\n",
    "- bank\n",
    "- datetime"
   ]
  },
  {
   "cell_type": "code",
   "execution_count": 36,
   "metadata": {},
   "outputs": [],
   "source": [
    "remove_columns = ['id', 'bank', 'datetime']\n",
    "missing_columns = ['credit rating', 'age', 'Mileage'] # 'bank'\n",
    "final_lable_columns = ['amount', 'state', 'overdue']"
   ]
  },
  {
   "cell_type": "code",
   "execution_count": 37,
   "metadata": {},
   "outputs": [
    {
     "name": "stdout",
     "output_type": "stream",
     "text": [
      "<class 'pandas.core.frame.DataFrame'>\n",
      "RangeIndex: 51304 entries, 0 to 51303\n",
      "Data columns (total 14 columns):\n",
      " #   Column             Non-Null Count  Dtype  \n",
      "---  ------             --------------  -----  \n",
      " 0   type_of_contract   51304 non-null  object \n",
      " 1   type_of_contract2  51304 non-null  object \n",
      " 2   channel            51304 non-null  object \n",
      " 3   Term               51304 non-null  int64  \n",
      " 4   payment_type       51304 non-null  object \n",
      " 5   product            51304 non-null  object \n",
      " 6   amount             51304 non-null  int64  \n",
      " 7   state              51304 non-null  object \n",
      " 8   overdue_count      51304 non-null  int64  \n",
      " 9   overdue            51304 non-null  object \n",
      " 10  credit rating      42521 non-null  float64\n",
      " 11  cancellation       51304 non-null  object \n",
      " 12  age                40509 non-null  float64\n",
      " 13  Mileage            40509 non-null  float64\n",
      "dtypes: float64(3), int64(3), object(8)\n",
      "memory usage: 5.5+ MB\n"
     ]
    }
   ],
   "source": [
    "remove_df = data_df.drop(columns=remove_columns)\n",
    "remove_df.info()"
   ]
  },
  {
   "cell_type": "code",
   "execution_count": 38,
   "metadata": {},
   "outputs": [
    {
     "name": "stdout",
     "output_type": "stream",
     "text": [
      "<class 'pandas.core.frame.DataFrame'>\n",
      "RangeIndex: 51304 entries, 0 to 51303\n",
      "Data columns (total 11 columns):\n",
      " #   Column             Non-Null Count  Dtype \n",
      "---  ------             --------------  ----- \n",
      " 0   type_of_contract   51304 non-null  object\n",
      " 1   type_of_contract2  51304 non-null  object\n",
      " 2   channel            51304 non-null  object\n",
      " 3   Term               51304 non-null  int64 \n",
      " 4   payment_type       51304 non-null  object\n",
      " 5   product            51304 non-null  object\n",
      " 6   amount             51304 non-null  int64 \n",
      " 7   state              51304 non-null  object\n",
      " 8   overdue_count      51304 non-null  int64 \n",
      " 9   overdue            51304 non-null  object\n",
      " 10  cancellation       51304 non-null  object\n",
      "dtypes: int64(3), object(8)\n",
      "memory usage: 4.3+ MB\n"
     ]
    }
   ],
   "source": [
    "missing_df = remove_df.drop(columns=missing_columns)\n",
    "missing_df.info()"
   ]
  },
  {
   "cell_type": "code",
   "execution_count": 39,
   "metadata": {},
   "outputs": [
    {
     "name": "stdout",
     "output_type": "stream",
     "text": [
      "<class 'pandas.core.frame.DataFrame'>\n",
      "RangeIndex: 51304 entries, 0 to 51303\n",
      "Data columns (total 10 columns):\n",
      " #   Column             Non-Null Count  Dtype \n",
      "---  ------             --------------  ----- \n",
      " 0   type_of_contract   51304 non-null  object\n",
      " 1   type_of_contract2  51304 non-null  object\n",
      " 2   channel            51304 non-null  object\n",
      " 3   Term               51304 non-null  int64 \n",
      " 4   payment_type       51304 non-null  object\n",
      " 5   product            51304 non-null  object\n",
      " 6   state              51304 non-null  object\n",
      " 7   overdue_count      51304 non-null  int64 \n",
      " 8   overdue            51304 non-null  object\n",
      " 9   cancellation       51304 non-null  object\n",
      "dtypes: int64(2), object(8)\n",
      "memory usage: 3.9+ MB\n"
     ]
    }
   ],
   "source": [
    "cat_df, num_df = split_categorical_numerical(missing_df)\n",
    "cat_df.info()"
   ]
  },
  {
   "cell_type": "code",
   "execution_count": 40,
   "metadata": {},
   "outputs": [
    {
     "name": "stdout",
     "output_type": "stream",
     "text": [
      "<class 'pandas.core.frame.DataFrame'>\n",
      "RangeIndex: 51304 entries, 0 to 51303\n",
      "Data columns (total 1 columns):\n",
      " #   Column  Non-Null Count  Dtype\n",
      "---  ------  --------------  -----\n",
      " 0   amount  51304 non-null  int64\n",
      "dtypes: int64(1)\n",
      "memory usage: 400.9 KB\n"
     ]
    }
   ],
   "source": [
    "num_df.info()"
   ]
  },
  {
   "cell_type": "code",
   "execution_count": 41,
   "metadata": {},
   "outputs": [],
   "source": [
    "def run_onehotencode(data_df, model=OneHotEncoder()):\n",
    "\n",
    "    columns = data_df.columns\n",
    "    model_list = []\n",
    "    for col in columns :\n",
    "        model.fit(X=data_df[[col]])\n",
    "        model_list.append(deepcopy(model))\n",
    "        encoded_pclass = model.transform(X=data_df[[col]]).toarray()\n",
    "        pclass_name_list = model.get_feature_names_out(input_features=[col])\n",
    "        pclass_df = pd.DataFrame(data=encoded_pclass, columns=pclass_name_list, index=data_df.index)\n",
    "        # 원본 자르는거 추가 \n",
    "\n",
    "        data_df = pd.concat([data_df.drop(columns=[col]), pclass_df], axis=1)\n",
    "\n",
    "    return data_df, model_list"
   ]
  },
  {
   "cell_type": "code",
   "execution_count": 42,
   "metadata": {},
   "outputs": [
    {
     "data": {
      "text/html": [
       "<div>\n",
       "<style scoped>\n",
       "    .dataframe tbody tr th:only-of-type {\n",
       "        vertical-align: middle;\n",
       "    }\n",
       "\n",
       "    .dataframe tbody tr th {\n",
       "        vertical-align: top;\n",
       "    }\n",
       "\n",
       "    .dataframe thead th {\n",
       "        text-align: right;\n",
       "    }\n",
       "</style>\n",
       "<table border=\"1\" class=\"dataframe\">\n",
       "  <thead>\n",
       "    <tr style=\"text-align: right;\">\n",
       "      <th></th>\n",
       "      <th>type_of_contract_렌탈</th>\n",
       "      <th>type_of_contract_멤버십</th>\n",
       "      <th>type_of_contract2_Extension_Rental</th>\n",
       "      <th>type_of_contract2_Group</th>\n",
       "      <th>type_of_contract2_Normal</th>\n",
       "      <th>type_of_contract2_Package</th>\n",
       "      <th>type_of_contract2_Packge</th>\n",
       "      <th>type_of_contract2_Promotion</th>\n",
       "      <th>type_of_contract2_TA1</th>\n",
       "      <th>type_of_contract2_TA2</th>\n",
       "      <th>...</th>\n",
       "      <th>overdue_count_11</th>\n",
       "      <th>overdue_count_12</th>\n",
       "      <th>overdue_count_13</th>\n",
       "      <th>overdue_count_14</th>\n",
       "      <th>overdue_count_15</th>\n",
       "      <th>overdue_없음</th>\n",
       "      <th>overdue_있음</th>\n",
       "      <th>cancellation_정상</th>\n",
       "      <th>cancellation_해약</th>\n",
       "      <th>amount</th>\n",
       "    </tr>\n",
       "  </thead>\n",
       "  <tbody>\n",
       "    <tr>\n",
       "      <th>0</th>\n",
       "      <td>1.0</td>\n",
       "      <td>0.0</td>\n",
       "      <td>0.0</td>\n",
       "      <td>0.0</td>\n",
       "      <td>1.0</td>\n",
       "      <td>0.0</td>\n",
       "      <td>0.0</td>\n",
       "      <td>0.0</td>\n",
       "      <td>0.0</td>\n",
       "      <td>0.0</td>\n",
       "      <td>...</td>\n",
       "      <td>0.0</td>\n",
       "      <td>0.0</td>\n",
       "      <td>0.0</td>\n",
       "      <td>0.0</td>\n",
       "      <td>0.0</td>\n",
       "      <td>1.0</td>\n",
       "      <td>0.0</td>\n",
       "      <td>1.0</td>\n",
       "      <td>0.0</td>\n",
       "      <td>96900</td>\n",
       "    </tr>\n",
       "    <tr>\n",
       "      <th>1</th>\n",
       "      <td>1.0</td>\n",
       "      <td>0.0</td>\n",
       "      <td>1.0</td>\n",
       "      <td>0.0</td>\n",
       "      <td>0.0</td>\n",
       "      <td>0.0</td>\n",
       "      <td>0.0</td>\n",
       "      <td>0.0</td>\n",
       "      <td>0.0</td>\n",
       "      <td>0.0</td>\n",
       "      <td>...</td>\n",
       "      <td>0.0</td>\n",
       "      <td>0.0</td>\n",
       "      <td>0.0</td>\n",
       "      <td>0.0</td>\n",
       "      <td>0.0</td>\n",
       "      <td>1.0</td>\n",
       "      <td>0.0</td>\n",
       "      <td>1.0</td>\n",
       "      <td>0.0</td>\n",
       "      <td>102900</td>\n",
       "    </tr>\n",
       "    <tr>\n",
       "      <th>2</th>\n",
       "      <td>1.0</td>\n",
       "      <td>0.0</td>\n",
       "      <td>0.0</td>\n",
       "      <td>0.0</td>\n",
       "      <td>1.0</td>\n",
       "      <td>0.0</td>\n",
       "      <td>0.0</td>\n",
       "      <td>0.0</td>\n",
       "      <td>0.0</td>\n",
       "      <td>0.0</td>\n",
       "      <td>...</td>\n",
       "      <td>0.0</td>\n",
       "      <td>0.0</td>\n",
       "      <td>0.0</td>\n",
       "      <td>0.0</td>\n",
       "      <td>0.0</td>\n",
       "      <td>1.0</td>\n",
       "      <td>0.0</td>\n",
       "      <td>1.0</td>\n",
       "      <td>0.0</td>\n",
       "      <td>96900</td>\n",
       "    </tr>\n",
       "    <tr>\n",
       "      <th>3</th>\n",
       "      <td>0.0</td>\n",
       "      <td>1.0</td>\n",
       "      <td>0.0</td>\n",
       "      <td>0.0</td>\n",
       "      <td>0.0</td>\n",
       "      <td>0.0</td>\n",
       "      <td>0.0</td>\n",
       "      <td>0.0</td>\n",
       "      <td>0.0</td>\n",
       "      <td>0.0</td>\n",
       "      <td>...</td>\n",
       "      <td>0.0</td>\n",
       "      <td>0.0</td>\n",
       "      <td>0.0</td>\n",
       "      <td>0.0</td>\n",
       "      <td>0.0</td>\n",
       "      <td>1.0</td>\n",
       "      <td>0.0</td>\n",
       "      <td>1.0</td>\n",
       "      <td>0.0</td>\n",
       "      <td>66900</td>\n",
       "    </tr>\n",
       "    <tr>\n",
       "      <th>4</th>\n",
       "      <td>0.0</td>\n",
       "      <td>1.0</td>\n",
       "      <td>0.0</td>\n",
       "      <td>0.0</td>\n",
       "      <td>0.0</td>\n",
       "      <td>0.0</td>\n",
       "      <td>0.0</td>\n",
       "      <td>0.0</td>\n",
       "      <td>0.0</td>\n",
       "      <td>0.0</td>\n",
       "      <td>...</td>\n",
       "      <td>0.0</td>\n",
       "      <td>1.0</td>\n",
       "      <td>0.0</td>\n",
       "      <td>0.0</td>\n",
       "      <td>0.0</td>\n",
       "      <td>0.0</td>\n",
       "      <td>1.0</td>\n",
       "      <td>0.0</td>\n",
       "      <td>1.0</td>\n",
       "      <td>66900</td>\n",
       "    </tr>\n",
       "  </tbody>\n",
       "</table>\n",
       "<p>5 rows × 73 columns</p>\n",
       "</div>"
      ],
      "text/plain": [
       "   type_of_contract_렌탈  type_of_contract_멤버십  \\\n",
       "0                  1.0                   0.0   \n",
       "1                  1.0                   0.0   \n",
       "2                  1.0                   0.0   \n",
       "3                  0.0                   1.0   \n",
       "4                  0.0                   1.0   \n",
       "\n",
       "   type_of_contract2_Extension_Rental  type_of_contract2_Group  \\\n",
       "0                                 0.0                      0.0   \n",
       "1                                 1.0                      0.0   \n",
       "2                                 0.0                      0.0   \n",
       "3                                 0.0                      0.0   \n",
       "4                                 0.0                      0.0   \n",
       "\n",
       "   type_of_contract2_Normal  type_of_contract2_Package  \\\n",
       "0                       1.0                        0.0   \n",
       "1                       0.0                        0.0   \n",
       "2                       1.0                        0.0   \n",
       "3                       0.0                        0.0   \n",
       "4                       0.0                        0.0   \n",
       "\n",
       "   type_of_contract2_Packge  type_of_contract2_Promotion  \\\n",
       "0                       0.0                          0.0   \n",
       "1                       0.0                          0.0   \n",
       "2                       0.0                          0.0   \n",
       "3                       0.0                          0.0   \n",
       "4                       0.0                          0.0   \n",
       "\n",
       "   type_of_contract2_TA1  type_of_contract2_TA2  ...  overdue_count_11  \\\n",
       "0                    0.0                    0.0  ...               0.0   \n",
       "1                    0.0                    0.0  ...               0.0   \n",
       "2                    0.0                    0.0  ...               0.0   \n",
       "3                    0.0                    0.0  ...               0.0   \n",
       "4                    0.0                    0.0  ...               0.0   \n",
       "\n",
       "   overdue_count_12  overdue_count_13  overdue_count_14  overdue_count_15  \\\n",
       "0               0.0               0.0               0.0               0.0   \n",
       "1               0.0               0.0               0.0               0.0   \n",
       "2               0.0               0.0               0.0               0.0   \n",
       "3               0.0               0.0               0.0               0.0   \n",
       "4               1.0               0.0               0.0               0.0   \n",
       "\n",
       "   overdue_없음  overdue_있음  cancellation_정상  cancellation_해약  amount  \n",
       "0         1.0         0.0              1.0              0.0   96900  \n",
       "1         1.0         0.0              1.0              0.0  102900  \n",
       "2         1.0         0.0              1.0              0.0   96900  \n",
       "3         1.0         0.0              1.0              0.0   66900  \n",
       "4         0.0         1.0              0.0              1.0   66900  \n",
       "\n",
       "[5 rows x 73 columns]"
      ]
     },
     "execution_count": 42,
     "metadata": {},
     "output_type": "execute_result"
    }
   ],
   "source": [
    "onehot_df, model_list = run_onehotencode(cat_df)\n",
    "missing_df = pd.concat([onehot_df, num_df], axis=1)\n",
    "missing_df.head()"
   ]
  },
  {
   "cell_type": "code",
   "execution_count": 43,
   "metadata": {},
   "outputs": [
    {
     "name": "stdout",
     "output_type": "stream",
     "text": [
      "<class 'pandas.core.frame.DataFrame'>\n",
      "RangeIndex: 51304 entries, 0 to 51303\n",
      "Data columns (total 73 columns):\n",
      " #   Column                              Non-Null Count  Dtype  \n",
      "---  ------                              --------------  -----  \n",
      " 0   type_of_contract_렌탈                 51304 non-null  float64\n",
      " 1   type_of_contract_멤버십                51304 non-null  float64\n",
      " 2   type_of_contract2_Extension_Rental  51304 non-null  float64\n",
      " 3   type_of_contract2_Group             51304 non-null  float64\n",
      " 4   type_of_contract2_Normal            51304 non-null  float64\n",
      " 5   type_of_contract2_Package           51304 non-null  float64\n",
      " 6   type_of_contract2_Packge            51304 non-null  float64\n",
      " 7   type_of_contract2_Promotion         51304 non-null  float64\n",
      " 8   type_of_contract2_TA1               51304 non-null  float64\n",
      " 9   type_of_contract2_TA2               51304 non-null  float64\n",
      " 10  type_of_contract2_TA3               51304 non-null  float64\n",
      " 11  type_of_contract2_TAS               51304 non-null  float64\n",
      " 12  channel_R관리방판                       51304 non-null  float64\n",
      " 13  channel_R농협                         51304 non-null  float64\n",
      " 14  channel_R농협인터넷몰                     51304 non-null  float64\n",
      " 15  channel_R렌탈운영                       51304 non-null  float64\n",
      " 16  channel_R법인                         51304 non-null  float64\n",
      " 17  channel_R법인그룹                       51304 non-null  float64\n",
      " 18  channel_R빌리미                        51304 non-null  float64\n",
      " 19  channel_R유통사                        51304 non-null  float64\n",
      " 20  channel_R인터넷                        51304 non-null  float64\n",
      " 21  channel_렌탈재계약                       51304 non-null  float64\n",
      " 22  channel_렌탈총판                        51304 non-null  float64\n",
      " 23  channel_서비스 방문                      51304 non-null  float64\n",
      " 24  channel_영업방판                        51304 non-null  float64\n",
      " 25  channel_이마트                         51304 non-null  float64\n",
      " 26  channel_일반                          51304 non-null  float64\n",
      " 27  channel_전자랜드                        51304 non-null  float64\n",
      " 28  channel_하이마트                        51304 non-null  float64\n",
      " 29  channel_홈쇼핑/방송                      51304 non-null  float64\n",
      " 30  channel_홈쇼핑/인터넷                     51304 non-null  float64\n",
      " 31  channel_홈플러스                        51304 non-null  float64\n",
      " 32  Term_12                             51304 non-null  float64\n",
      " 33  Term_36                             51304 non-null  float64\n",
      " 34  Term_39                             51304 non-null  float64\n",
      " 35  Term_60                             51304 non-null  float64\n",
      " 36  payment_type_CMS                    51304 non-null  float64\n",
      " 37  payment_type_가상계좌                   51304 non-null  float64\n",
      " 38  payment_type_무통장                    51304 non-null  float64\n",
      " 39  payment_type_지로                     51304 non-null  float64\n",
      " 40  payment_type_카드이체                   51304 non-null  float64\n",
      " 41  product_K1                          51304 non-null  float64\n",
      " 42  product_K2                          51304 non-null  float64\n",
      " 43  product_K3                          51304 non-null  float64\n",
      " 44  product_K4                          51304 non-null  float64\n",
      " 45  product_K5                          51304 non-null  float64\n",
      " 46  product_K6                          51304 non-null  float64\n",
      " 47  state_계약확정                          51304 non-null  float64\n",
      " 48  state_기간만료                          51304 non-null  float64\n",
      " 49  state_해약진행중                         51304 non-null  float64\n",
      " 50  state_해약확정                          51304 non-null  float64\n",
      " 51  overdue_count_-1                    51304 non-null  float64\n",
      " 52  overdue_count_0                     51304 non-null  float64\n",
      " 53  overdue_count_1                     51304 non-null  float64\n",
      " 54  overdue_count_2                     51304 non-null  float64\n",
      " 55  overdue_count_3                     51304 non-null  float64\n",
      " 56  overdue_count_4                     51304 non-null  float64\n",
      " 57  overdue_count_5                     51304 non-null  float64\n",
      " 58  overdue_count_6                     51304 non-null  float64\n",
      " 59  overdue_count_7                     51304 non-null  float64\n",
      " 60  overdue_count_8                     51304 non-null  float64\n",
      " 61  overdue_count_9                     51304 non-null  float64\n",
      " 62  overdue_count_10                    51304 non-null  float64\n",
      " 63  overdue_count_11                    51304 non-null  float64\n",
      " 64  overdue_count_12                    51304 non-null  float64\n",
      " 65  overdue_count_13                    51304 non-null  float64\n",
      " 66  overdue_count_14                    51304 non-null  float64\n",
      " 67  overdue_count_15                    51304 non-null  float64\n",
      " 68  overdue_없음                          51304 non-null  float64\n",
      " 69  overdue_있음                          51304 non-null  float64\n",
      " 70  cancellation_정상                     51304 non-null  float64\n",
      " 71  cancellation_해약                     51304 non-null  float64\n",
      " 72  amount                              51304 non-null  int64  \n",
      "dtypes: float64(72), int64(1)\n",
      "memory usage: 28.6 MB\n"
     ]
    }
   ],
   "source": [
    "missing_df.info()"
   ]
  },
  {
   "cell_type": "markdown",
   "metadata": {},
   "source": [
    "### 스케일링"
   ]
  },
  {
   "cell_type": "code",
   "execution_count": 44,
   "metadata": {},
   "outputs": [
    {
     "data": {
      "text/html": [
       "<style>#sk-container-id-1 {color: black;}#sk-container-id-1 pre{padding: 0;}#sk-container-id-1 div.sk-toggleable {background-color: white;}#sk-container-id-1 label.sk-toggleable__label {cursor: pointer;display: block;width: 100%;margin-bottom: 0;padding: 0.3em;box-sizing: border-box;text-align: center;}#sk-container-id-1 label.sk-toggleable__label-arrow:before {content: \"▸\";float: left;margin-right: 0.25em;color: #696969;}#sk-container-id-1 label.sk-toggleable__label-arrow:hover:before {color: black;}#sk-container-id-1 div.sk-estimator:hover label.sk-toggleable__label-arrow:before {color: black;}#sk-container-id-1 div.sk-toggleable__content {max-height: 0;max-width: 0;overflow: hidden;text-align: left;background-color: #f0f8ff;}#sk-container-id-1 div.sk-toggleable__content pre {margin: 0.2em;color: black;border-radius: 0.25em;background-color: #f0f8ff;}#sk-container-id-1 input.sk-toggleable__control:checked~div.sk-toggleable__content {max-height: 200px;max-width: 100%;overflow: auto;}#sk-container-id-1 input.sk-toggleable__control:checked~label.sk-toggleable__label-arrow:before {content: \"▾\";}#sk-container-id-1 div.sk-estimator input.sk-toggleable__control:checked~label.sk-toggleable__label {background-color: #d4ebff;}#sk-container-id-1 div.sk-label input.sk-toggleable__control:checked~label.sk-toggleable__label {background-color: #d4ebff;}#sk-container-id-1 input.sk-hidden--visually {border: 0;clip: rect(1px 1px 1px 1px);clip: rect(1px, 1px, 1px, 1px);height: 1px;margin: -1px;overflow: hidden;padding: 0;position: absolute;width: 1px;}#sk-container-id-1 div.sk-estimator {font-family: monospace;background-color: #f0f8ff;border: 1px dotted black;border-radius: 0.25em;box-sizing: border-box;margin-bottom: 0.5em;}#sk-container-id-1 div.sk-estimator:hover {background-color: #d4ebff;}#sk-container-id-1 div.sk-parallel-item::after {content: \"\";width: 100%;border-bottom: 1px solid gray;flex-grow: 1;}#sk-container-id-1 div.sk-label:hover label.sk-toggleable__label {background-color: #d4ebff;}#sk-container-id-1 div.sk-serial::before {content: \"\";position: absolute;border-left: 1px solid gray;box-sizing: border-box;top: 0;bottom: 0;left: 50%;z-index: 0;}#sk-container-id-1 div.sk-serial {display: flex;flex-direction: column;align-items: center;background-color: white;padding-right: 0.2em;padding-left: 0.2em;position: relative;}#sk-container-id-1 div.sk-item {position: relative;z-index: 1;}#sk-container-id-1 div.sk-parallel {display: flex;align-items: stretch;justify-content: center;background-color: white;position: relative;}#sk-container-id-1 div.sk-item::before, #sk-container-id-1 div.sk-parallel-item::before {content: \"\";position: absolute;border-left: 1px solid gray;box-sizing: border-box;top: 0;bottom: 0;left: 50%;z-index: -1;}#sk-container-id-1 div.sk-parallel-item {display: flex;flex-direction: column;z-index: 1;position: relative;background-color: white;}#sk-container-id-1 div.sk-parallel-item:first-child::after {align-self: flex-end;width: 50%;}#sk-container-id-1 div.sk-parallel-item:last-child::after {align-self: flex-start;width: 50%;}#sk-container-id-1 div.sk-parallel-item:only-child::after {width: 0;}#sk-container-id-1 div.sk-dashed-wrapped {border: 1px dashed gray;margin: 0 0.4em 0.5em 0.4em;box-sizing: border-box;padding-bottom: 0.4em;background-color: white;}#sk-container-id-1 div.sk-label label {font-family: monospace;font-weight: bold;display: inline-block;line-height: 1.2em;}#sk-container-id-1 div.sk-label-container {text-align: center;}#sk-container-id-1 div.sk-container {/* jupyter's `normalize.less` sets `[hidden] { display: none; }` but bootstrap.min.css set `[hidden] { display: none !important; }` so we also need the `!important` here to be able to override the default hidden behavior on the sphinx rendered scikit-learn.org. See: https://github.com/scikit-learn/scikit-learn/issues/21755 */display: inline-block !important;position: relative;}#sk-container-id-1 div.sk-text-repr-fallback {display: none;}</style><div id=\"sk-container-id-1\" class=\"sk-top-container\"><div class=\"sk-text-repr-fallback\"><pre>StandardScaler()</pre><b>In a Jupyter environment, please rerun this cell to show the HTML representation or trust the notebook. <br />On GitHub, the HTML representation is unable to render, please try loading this page with nbviewer.org.</b></div><div class=\"sk-container\" hidden><div class=\"sk-item\"><div class=\"sk-estimator sk-toggleable\"><input class=\"sk-toggleable__control sk-hidden--visually\" id=\"sk-estimator-id-1\" type=\"checkbox\" checked><label for=\"sk-estimator-id-1\" class=\"sk-toggleable__label sk-toggleable__label-arrow\">StandardScaler</label><div class=\"sk-toggleable__content\"><pre>StandardScaler()</pre></div></div></div></div></div>"
      ],
      "text/plain": [
       "StandardScaler()"
      ]
     },
     "execution_count": 44,
     "metadata": {},
     "output_type": "execute_result"
    }
   ],
   "source": [
    "# 일단 통짜로 돌려보고 데이터 특성에 따라 따로 돌리는 거를 고려해 보아야 할 듯?\n",
    "standardscaler = StandardScaler()\n",
    "standardscaler.fit(missing_df)"
   ]
  },
  {
   "cell_type": "code",
   "execution_count": 45,
   "metadata": {},
   "outputs": [
    {
     "data": {
      "text/html": [
       "<div>\n",
       "<style scoped>\n",
       "    .dataframe tbody tr th:only-of-type {\n",
       "        vertical-align: middle;\n",
       "    }\n",
       "\n",
       "    .dataframe tbody tr th {\n",
       "        vertical-align: top;\n",
       "    }\n",
       "\n",
       "    .dataframe thead th {\n",
       "        text-align: right;\n",
       "    }\n",
       "</style>\n",
       "<table border=\"1\" class=\"dataframe\">\n",
       "  <thead>\n",
       "    <tr style=\"text-align: right;\">\n",
       "      <th></th>\n",
       "      <th>type_of_contract_렌탈</th>\n",
       "      <th>type_of_contract_멤버십</th>\n",
       "      <th>type_of_contract2_Extension_Rental</th>\n",
       "      <th>type_of_contract2_Group</th>\n",
       "      <th>type_of_contract2_Normal</th>\n",
       "      <th>type_of_contract2_Package</th>\n",
       "      <th>type_of_contract2_Packge</th>\n",
       "      <th>type_of_contract2_Promotion</th>\n",
       "      <th>type_of_contract2_TA1</th>\n",
       "      <th>type_of_contract2_TA2</th>\n",
       "      <th>...</th>\n",
       "      <th>overdue_count_11</th>\n",
       "      <th>overdue_count_12</th>\n",
       "      <th>overdue_count_13</th>\n",
       "      <th>overdue_count_14</th>\n",
       "      <th>overdue_count_15</th>\n",
       "      <th>overdue_없음</th>\n",
       "      <th>overdue_있음</th>\n",
       "      <th>cancellation_정상</th>\n",
       "      <th>cancellation_해약</th>\n",
       "      <th>amount</th>\n",
       "    </tr>\n",
       "  </thead>\n",
       "  <tbody>\n",
       "    <tr>\n",
       "      <th>0</th>\n",
       "      <td>0.321975</td>\n",
       "      <td>-0.321975</td>\n",
       "      <td>-0.327695</td>\n",
       "      <td>-0.060969</td>\n",
       "      <td>1.532302</td>\n",
       "      <td>-0.49766</td>\n",
       "      <td>-0.004415</td>\n",
       "      <td>-0.667434</td>\n",
       "      <td>-0.01592</td>\n",
       "      <td>-0.205922</td>\n",
       "      <td>...</td>\n",
       "      <td>-0.033056</td>\n",
       "      <td>-0.046983</td>\n",
       "      <td>-0.029298</td>\n",
       "      <td>-0.029629</td>\n",
       "      <td>-0.014644</td>\n",
       "      <td>0.211214</td>\n",
       "      <td>-0.211214</td>\n",
       "      <td>0.134153</td>\n",
       "      <td>-0.134153</td>\n",
       "      <td>0.189809</td>\n",
       "    </tr>\n",
       "    <tr>\n",
       "      <th>1</th>\n",
       "      <td>0.321975</td>\n",
       "      <td>-0.321975</td>\n",
       "      <td>3.051616</td>\n",
       "      <td>-0.060969</td>\n",
       "      <td>-0.652613</td>\n",
       "      <td>-0.49766</td>\n",
       "      <td>-0.004415</td>\n",
       "      <td>-0.667434</td>\n",
       "      <td>-0.01592</td>\n",
       "      <td>-0.205922</td>\n",
       "      <td>...</td>\n",
       "      <td>-0.033056</td>\n",
       "      <td>-0.046983</td>\n",
       "      <td>-0.029298</td>\n",
       "      <td>-0.029629</td>\n",
       "      <td>-0.014644</td>\n",
       "      <td>0.211214</td>\n",
       "      <td>-0.211214</td>\n",
       "      <td>0.134153</td>\n",
       "      <td>-0.134153</td>\n",
       "      <td>0.581837</td>\n",
       "    </tr>\n",
       "    <tr>\n",
       "      <th>2</th>\n",
       "      <td>0.321975</td>\n",
       "      <td>-0.321975</td>\n",
       "      <td>-0.327695</td>\n",
       "      <td>-0.060969</td>\n",
       "      <td>1.532302</td>\n",
       "      <td>-0.49766</td>\n",
       "      <td>-0.004415</td>\n",
       "      <td>-0.667434</td>\n",
       "      <td>-0.01592</td>\n",
       "      <td>-0.205922</td>\n",
       "      <td>...</td>\n",
       "      <td>-0.033056</td>\n",
       "      <td>-0.046983</td>\n",
       "      <td>-0.029298</td>\n",
       "      <td>-0.029629</td>\n",
       "      <td>-0.014644</td>\n",
       "      <td>0.211214</td>\n",
       "      <td>-0.211214</td>\n",
       "      <td>0.134153</td>\n",
       "      <td>-0.134153</td>\n",
       "      <td>0.189809</td>\n",
       "    </tr>\n",
       "    <tr>\n",
       "      <th>3</th>\n",
       "      <td>-3.105832</td>\n",
       "      <td>3.105832</td>\n",
       "      <td>-0.327695</td>\n",
       "      <td>-0.060969</td>\n",
       "      <td>-0.652613</td>\n",
       "      <td>-0.49766</td>\n",
       "      <td>-0.004415</td>\n",
       "      <td>-0.667434</td>\n",
       "      <td>-0.01592</td>\n",
       "      <td>-0.205922</td>\n",
       "      <td>...</td>\n",
       "      <td>-0.033056</td>\n",
       "      <td>-0.046983</td>\n",
       "      <td>-0.029298</td>\n",
       "      <td>-0.029629</td>\n",
       "      <td>-0.014644</td>\n",
       "      <td>0.211214</td>\n",
       "      <td>-0.211214</td>\n",
       "      <td>0.134153</td>\n",
       "      <td>-0.134153</td>\n",
       "      <td>-1.770335</td>\n",
       "    </tr>\n",
       "    <tr>\n",
       "      <th>4</th>\n",
       "      <td>-3.105832</td>\n",
       "      <td>3.105832</td>\n",
       "      <td>-0.327695</td>\n",
       "      <td>-0.060969</td>\n",
       "      <td>-0.652613</td>\n",
       "      <td>-0.49766</td>\n",
       "      <td>-0.004415</td>\n",
       "      <td>-0.667434</td>\n",
       "      <td>-0.01592</td>\n",
       "      <td>-0.205922</td>\n",
       "      <td>...</td>\n",
       "      <td>-0.033056</td>\n",
       "      <td>21.284212</td>\n",
       "      <td>-0.029298</td>\n",
       "      <td>-0.029629</td>\n",
       "      <td>-0.014644</td>\n",
       "      <td>-4.734532</td>\n",
       "      <td>4.734532</td>\n",
       "      <td>-7.454160</td>\n",
       "      <td>7.454160</td>\n",
       "      <td>-1.770335</td>\n",
       "    </tr>\n",
       "  </tbody>\n",
       "</table>\n",
       "<p>5 rows × 73 columns</p>\n",
       "</div>"
      ],
      "text/plain": [
       "   type_of_contract_렌탈  type_of_contract_멤버십  \\\n",
       "0             0.321975             -0.321975   \n",
       "1             0.321975             -0.321975   \n",
       "2             0.321975             -0.321975   \n",
       "3            -3.105832              3.105832   \n",
       "4            -3.105832              3.105832   \n",
       "\n",
       "   type_of_contract2_Extension_Rental  type_of_contract2_Group  \\\n",
       "0                           -0.327695                -0.060969   \n",
       "1                            3.051616                -0.060969   \n",
       "2                           -0.327695                -0.060969   \n",
       "3                           -0.327695                -0.060969   \n",
       "4                           -0.327695                -0.060969   \n",
       "\n",
       "   type_of_contract2_Normal  type_of_contract2_Package  \\\n",
       "0                  1.532302                   -0.49766   \n",
       "1                 -0.652613                   -0.49766   \n",
       "2                  1.532302                   -0.49766   \n",
       "3                 -0.652613                   -0.49766   \n",
       "4                 -0.652613                   -0.49766   \n",
       "\n",
       "   type_of_contract2_Packge  type_of_contract2_Promotion  \\\n",
       "0                 -0.004415                    -0.667434   \n",
       "1                 -0.004415                    -0.667434   \n",
       "2                 -0.004415                    -0.667434   \n",
       "3                 -0.004415                    -0.667434   \n",
       "4                 -0.004415                    -0.667434   \n",
       "\n",
       "   type_of_contract2_TA1  type_of_contract2_TA2  ...  overdue_count_11  \\\n",
       "0               -0.01592              -0.205922  ...         -0.033056   \n",
       "1               -0.01592              -0.205922  ...         -0.033056   \n",
       "2               -0.01592              -0.205922  ...         -0.033056   \n",
       "3               -0.01592              -0.205922  ...         -0.033056   \n",
       "4               -0.01592              -0.205922  ...         -0.033056   \n",
       "\n",
       "   overdue_count_12  overdue_count_13  overdue_count_14  overdue_count_15  \\\n",
       "0         -0.046983         -0.029298         -0.029629         -0.014644   \n",
       "1         -0.046983         -0.029298         -0.029629         -0.014644   \n",
       "2         -0.046983         -0.029298         -0.029629         -0.014644   \n",
       "3         -0.046983         -0.029298         -0.029629         -0.014644   \n",
       "4         21.284212         -0.029298         -0.029629         -0.014644   \n",
       "\n",
       "   overdue_없음  overdue_있음  cancellation_정상  cancellation_해약    amount  \n",
       "0    0.211214   -0.211214         0.134153        -0.134153  0.189809  \n",
       "1    0.211214   -0.211214         0.134153        -0.134153  0.581837  \n",
       "2    0.211214   -0.211214         0.134153        -0.134153  0.189809  \n",
       "3    0.211214   -0.211214         0.134153        -0.134153 -1.770335  \n",
       "4   -4.734532    4.734532        -7.454160         7.454160 -1.770335  \n",
       "\n",
       "[5 rows x 73 columns]"
      ]
     },
     "execution_count": 45,
     "metadata": {},
     "output_type": "execute_result"
    }
   ],
   "source": [
    "# 스케일링 적용\n",
    "scaling_array = standardscaler.transform(missing_df)\n",
    "# 스케일링된 데이터를 DataFrame으로 변환\n",
    "scaling_df = pd.DataFrame(scaling_array, columns=missing_df.columns)\n",
    "scaling_df.head()"
   ]
  },
  {
   "cell_type": "markdown",
   "metadata": {},
   "source": [
    "##### 결측치 ML 로 채우기\n",
    "- 일단 credit rating 은 범주로 채우고\n",
    "- age, Mileage 는 연속으로 채우자\n",
    "- 범주로 채우면, class가 늘어나지 않음.\n",
    "- 연속으로 채우면, class가 늘어남. 이 경우를 염두에 두어야함."
   ]
  },
  {
   "cell_type": "code",
   "execution_count": 46,
   "metadata": {},
   "outputs": [
    {
     "name": "stdout",
     "output_type": "stream",
     "text": [
      "<class 'pandas.core.frame.DataFrame'>\n",
      "RangeIndex: 51304 entries, 0 to 51303\n",
      "Data columns (total 3 columns):\n",
      " #   Column         Non-Null Count  Dtype  \n",
      "---  ------         --------------  -----  \n",
      " 0   credit rating  42521 non-null  float64\n",
      " 1   age            40509 non-null  float64\n",
      " 2   Mileage        40509 non-null  float64\n",
      "dtypes: float64(3)\n",
      "memory usage: 1.2 MB\n"
     ]
    }
   ],
   "source": [
    "data_df[missing_columns].info()"
   ]
  },
  {
   "cell_type": "code",
   "execution_count": 47,
   "metadata": {},
   "outputs": [
    {
     "data": {
      "text/plain": [
       "Index(['type_of_contract_렌탈', 'type_of_contract_멤버십',\n",
       "       'type_of_contract2_Extension_Rental', 'type_of_contract2_Group',\n",
       "       'type_of_contract2_Normal', 'type_of_contract2_Package',\n",
       "       'type_of_contract2_Packge', 'type_of_contract2_Promotion',\n",
       "       'type_of_contract2_TA1', 'type_of_contract2_TA2',\n",
       "       'type_of_contract2_TA3', 'type_of_contract2_TAS', 'channel_R관리방판',\n",
       "       'channel_R농협', 'channel_R농협인터넷몰', 'channel_R렌탈운영', 'channel_R법인',\n",
       "       'channel_R법인그룹', 'channel_R빌리미', 'channel_R유통사', 'channel_R인터넷',\n",
       "       'channel_렌탈재계약', 'channel_렌탈총판', 'channel_서비스 방문', 'channel_영업방판',\n",
       "       'channel_이마트', 'channel_일반', 'channel_전자랜드', 'channel_하이마트',\n",
       "       'channel_홈쇼핑/방송', 'channel_홈쇼핑/인터넷', 'channel_홈플러스', 'Term_12',\n",
       "       'Term_36', 'Term_39', 'Term_60', 'payment_type_CMS',\n",
       "       'payment_type_가상계좌', 'payment_type_무통장', 'payment_type_지로',\n",
       "       'payment_type_카드이체', 'product_K1', 'product_K2', 'product_K3',\n",
       "       'product_K4', 'product_K5', 'product_K6', 'state_계약확정', 'state_기간만료',\n",
       "       'state_해약진행중', 'state_해약확정', 'overdue_count_-1', 'overdue_count_0',\n",
       "       'overdue_count_1', 'overdue_count_2', 'overdue_count_3',\n",
       "       'overdue_count_4', 'overdue_count_5', 'overdue_count_6',\n",
       "       'overdue_count_7', 'overdue_count_8', 'overdue_count_9',\n",
       "       'overdue_count_10', 'overdue_count_11', 'overdue_count_12',\n",
       "       'overdue_count_13', 'overdue_count_14', 'overdue_count_15',\n",
       "       'overdue_없음', 'overdue_있음', 'cancellation_정상', 'cancellation_해약',\n",
       "       'amount'],\n",
       "      dtype='object')"
      ]
     },
     "execution_count": 47,
     "metadata": {},
     "output_type": "execute_result"
    }
   ],
   "source": [
    "# label에서 NaN을 제거한 후 인덱스를 가져옵니다.\n",
    "label = data_df[missing_columns[0]].dropna()\n",
    "features = scaling_df.loc[label.index]\n",
    "features.columns"
   ]
  },
  {
   "cell_type": "code",
   "execution_count": 48,
   "metadata": {},
   "outputs": [
    {
     "data": {
      "text/plain": [
       "array([9, 2, 8, ..., 1, 2, 8])"
      ]
     },
     "execution_count": 48,
     "metadata": {},
     "output_type": "execute_result"
    }
   ],
   "source": [
    "labelencoder = LabelEncoder()\n",
    "labelencoder.fit(label)\n",
    "encoded_label = labelencoder.transform(label)\n",
    "encoded_label"
   ]
  },
  {
   "cell_type": "code",
   "execution_count": 49,
   "metadata": {},
   "outputs": [
    {
     "data": {
      "text/html": [
       "<style>#sk-container-id-2 {color: black;}#sk-container-id-2 pre{padding: 0;}#sk-container-id-2 div.sk-toggleable {background-color: white;}#sk-container-id-2 label.sk-toggleable__label {cursor: pointer;display: block;width: 100%;margin-bottom: 0;padding: 0.3em;box-sizing: border-box;text-align: center;}#sk-container-id-2 label.sk-toggleable__label-arrow:before {content: \"▸\";float: left;margin-right: 0.25em;color: #696969;}#sk-container-id-2 label.sk-toggleable__label-arrow:hover:before {color: black;}#sk-container-id-2 div.sk-estimator:hover label.sk-toggleable__label-arrow:before {color: black;}#sk-container-id-2 div.sk-toggleable__content {max-height: 0;max-width: 0;overflow: hidden;text-align: left;background-color: #f0f8ff;}#sk-container-id-2 div.sk-toggleable__content pre {margin: 0.2em;color: black;border-radius: 0.25em;background-color: #f0f8ff;}#sk-container-id-2 input.sk-toggleable__control:checked~div.sk-toggleable__content {max-height: 200px;max-width: 100%;overflow: auto;}#sk-container-id-2 input.sk-toggleable__control:checked~label.sk-toggleable__label-arrow:before {content: \"▾\";}#sk-container-id-2 div.sk-estimator input.sk-toggleable__control:checked~label.sk-toggleable__label {background-color: #d4ebff;}#sk-container-id-2 div.sk-label input.sk-toggleable__control:checked~label.sk-toggleable__label {background-color: #d4ebff;}#sk-container-id-2 input.sk-hidden--visually {border: 0;clip: rect(1px 1px 1px 1px);clip: rect(1px, 1px, 1px, 1px);height: 1px;margin: -1px;overflow: hidden;padding: 0;position: absolute;width: 1px;}#sk-container-id-2 div.sk-estimator {font-family: monospace;background-color: #f0f8ff;border: 1px dotted black;border-radius: 0.25em;box-sizing: border-box;margin-bottom: 0.5em;}#sk-container-id-2 div.sk-estimator:hover {background-color: #d4ebff;}#sk-container-id-2 div.sk-parallel-item::after {content: \"\";width: 100%;border-bottom: 1px solid gray;flex-grow: 1;}#sk-container-id-2 div.sk-label:hover label.sk-toggleable__label {background-color: #d4ebff;}#sk-container-id-2 div.sk-serial::before {content: \"\";position: absolute;border-left: 1px solid gray;box-sizing: border-box;top: 0;bottom: 0;left: 50%;z-index: 0;}#sk-container-id-2 div.sk-serial {display: flex;flex-direction: column;align-items: center;background-color: white;padding-right: 0.2em;padding-left: 0.2em;position: relative;}#sk-container-id-2 div.sk-item {position: relative;z-index: 1;}#sk-container-id-2 div.sk-parallel {display: flex;align-items: stretch;justify-content: center;background-color: white;position: relative;}#sk-container-id-2 div.sk-item::before, #sk-container-id-2 div.sk-parallel-item::before {content: \"\";position: absolute;border-left: 1px solid gray;box-sizing: border-box;top: 0;bottom: 0;left: 50%;z-index: -1;}#sk-container-id-2 div.sk-parallel-item {display: flex;flex-direction: column;z-index: 1;position: relative;background-color: white;}#sk-container-id-2 div.sk-parallel-item:first-child::after {align-self: flex-end;width: 50%;}#sk-container-id-2 div.sk-parallel-item:last-child::after {align-self: flex-start;width: 50%;}#sk-container-id-2 div.sk-parallel-item:only-child::after {width: 0;}#sk-container-id-2 div.sk-dashed-wrapped {border: 1px dashed gray;margin: 0 0.4em 0.5em 0.4em;box-sizing: border-box;padding-bottom: 0.4em;background-color: white;}#sk-container-id-2 div.sk-label label {font-family: monospace;font-weight: bold;display: inline-block;line-height: 1.2em;}#sk-container-id-2 div.sk-label-container {text-align: center;}#sk-container-id-2 div.sk-container {/* jupyter's `normalize.less` sets `[hidden] { display: none; }` but bootstrap.min.css set `[hidden] { display: none !important; }` so we also need the `!important` here to be able to override the default hidden behavior on the sphinx rendered scikit-learn.org. See: https://github.com/scikit-learn/scikit-learn/issues/21755 */display: inline-block !important;position: relative;}#sk-container-id-2 div.sk-text-repr-fallback {display: none;}</style><div id=\"sk-container-id-2\" class=\"sk-top-container\"><div class=\"sk-text-repr-fallback\"><pre>RandomForestClassifier(random_state=32)</pre><b>In a Jupyter environment, please rerun this cell to show the HTML representation or trust the notebook. <br />On GitHub, the HTML representation is unable to render, please try loading this page with nbviewer.org.</b></div><div class=\"sk-container\" hidden><div class=\"sk-item\"><div class=\"sk-estimator sk-toggleable\"><input class=\"sk-toggleable__control sk-hidden--visually\" id=\"sk-estimator-id-2\" type=\"checkbox\" checked><label for=\"sk-estimator-id-2\" class=\"sk-toggleable__label sk-toggleable__label-arrow\">RandomForestClassifier</label><div class=\"sk-toggleable__content\"><pre>RandomForestClassifier(random_state=32)</pre></div></div></div></div></div>"
      ],
      "text/plain": [
       "RandomForestClassifier(random_state=32)"
      ]
     },
     "execution_count": 49,
     "metadata": {},
     "output_type": "execute_result"
    }
   ],
   "source": [
    "model_randomforestclassifier = RandomForestClassifier(random_state=32)\n",
    "model_randomforestclassifier.fit(X=features,y=label)"
   ]
  },
  {
   "cell_type": "code",
   "execution_count": 50,
   "metadata": {},
   "outputs": [
    {
     "name": "stdout",
     "output_type": "stream",
     "text": [
      "              precision    recall  f1-score   support\n",
      "\n",
      "         0.0       1.00      0.13      0.24        60\n",
      "         1.0       0.29      0.86      0.44     10778\n",
      "         2.0       0.24      0.18      0.21      8228\n",
      "         3.0       0.29      0.06      0.10      4997\n",
      "         4.0       0.32      0.06      0.11      5379\n",
      "         5.0       0.40      0.05      0.09      4317\n",
      "         6.0       0.41      0.08      0.13      3818\n",
      "         7.0       0.57      0.11      0.18      2717\n",
      "         8.0       0.58      0.15      0.24      1542\n",
      "         9.0       0.67      0.15      0.24       639\n",
      "        10.0       0.50      0.11      0.18        46\n",
      "\n",
      "    accuracy                           0.30     42521\n",
      "   macro avg       0.48      0.18      0.20     42521\n",
      "weighted avg       0.34      0.30      0.22     42521\n",
      "\n"
     ]
    },
    {
     "data": {
      "text/plain": [
       "0.297006185179088"
      ]
     },
     "execution_count": 50,
     "metadata": {},
     "output_type": "execute_result"
    }
   ],
   "source": [
    "predictions = model_randomforestclassifier.predict(features)\n",
    "print(classification_report(y_true=label, y_pred=predictions))\n",
    "accuracy_score(y_true=label,y_pred=predictions)"
   ]
  },
  {
   "cell_type": "code",
   "execution_count": 51,
   "metadata": {},
   "outputs": [
    {
     "data": {
      "text/plain": [
       "(2.075374520825004, 1.8482867289104208)"
      ]
     },
     "execution_count": 51,
     "metadata": {},
     "output_type": "execute_result"
    }
   ],
   "source": [
    "diff = label - predictions\n",
    "diff.abs().mean(), diff.mean()"
   ]
  },
  {
   "cell_type": "code",
   "execution_count": 52,
   "metadata": {},
   "outputs": [
    {
     "data": {
      "text/plain": [
       "0.7180297057357219"
      ]
     },
     "execution_count": 52,
     "metadata": {},
     "output_type": "execute_result"
    }
   ],
   "source": [
    "predict_score = model_randomforestclassifier.predict_proba(X=features) # 주로 수가 많은 쪽 class를 양성으로 정함\n",
    "AUC_score = roc_auc_score(y_true=label, y_score=predict_score, multi_class='ovr')\n",
    "AUC_score"
   ]
  },
  {
   "cell_type": "code",
   "execution_count": 53,
   "metadata": {},
   "outputs": [],
   "source": [
    "smote = SMOTE()\n",
    "feature_smote, label_smote = smote.fit_resample(X=features, y=label)"
   ]
  },
  {
   "cell_type": "code",
   "execution_count": 54,
   "metadata": {},
   "outputs": [
    {
     "data": {
      "text/plain": [
       "(42521, 118558, 42521, 118558)"
      ]
     },
     "execution_count": 54,
     "metadata": {},
     "output_type": "execute_result"
    }
   ],
   "source": [
    "len(features), len(feature_smote), len(label), len(label_smote)\n"
   ]
  },
  {
   "cell_type": "code",
   "execution_count": 55,
   "metadata": {},
   "outputs": [
    {
     "data": {
      "text/html": [
       "<style>#sk-container-id-3 {color: black;}#sk-container-id-3 pre{padding: 0;}#sk-container-id-3 div.sk-toggleable {background-color: white;}#sk-container-id-3 label.sk-toggleable__label {cursor: pointer;display: block;width: 100%;margin-bottom: 0;padding: 0.3em;box-sizing: border-box;text-align: center;}#sk-container-id-3 label.sk-toggleable__label-arrow:before {content: \"▸\";float: left;margin-right: 0.25em;color: #696969;}#sk-container-id-3 label.sk-toggleable__label-arrow:hover:before {color: black;}#sk-container-id-3 div.sk-estimator:hover label.sk-toggleable__label-arrow:before {color: black;}#sk-container-id-3 div.sk-toggleable__content {max-height: 0;max-width: 0;overflow: hidden;text-align: left;background-color: #f0f8ff;}#sk-container-id-3 div.sk-toggleable__content pre {margin: 0.2em;color: black;border-radius: 0.25em;background-color: #f0f8ff;}#sk-container-id-3 input.sk-toggleable__control:checked~div.sk-toggleable__content {max-height: 200px;max-width: 100%;overflow: auto;}#sk-container-id-3 input.sk-toggleable__control:checked~label.sk-toggleable__label-arrow:before {content: \"▾\";}#sk-container-id-3 div.sk-estimator input.sk-toggleable__control:checked~label.sk-toggleable__label {background-color: #d4ebff;}#sk-container-id-3 div.sk-label input.sk-toggleable__control:checked~label.sk-toggleable__label {background-color: #d4ebff;}#sk-container-id-3 input.sk-hidden--visually {border: 0;clip: rect(1px 1px 1px 1px);clip: rect(1px, 1px, 1px, 1px);height: 1px;margin: -1px;overflow: hidden;padding: 0;position: absolute;width: 1px;}#sk-container-id-3 div.sk-estimator {font-family: monospace;background-color: #f0f8ff;border: 1px dotted black;border-radius: 0.25em;box-sizing: border-box;margin-bottom: 0.5em;}#sk-container-id-3 div.sk-estimator:hover {background-color: #d4ebff;}#sk-container-id-3 div.sk-parallel-item::after {content: \"\";width: 100%;border-bottom: 1px solid gray;flex-grow: 1;}#sk-container-id-3 div.sk-label:hover label.sk-toggleable__label {background-color: #d4ebff;}#sk-container-id-3 div.sk-serial::before {content: \"\";position: absolute;border-left: 1px solid gray;box-sizing: border-box;top: 0;bottom: 0;left: 50%;z-index: 0;}#sk-container-id-3 div.sk-serial {display: flex;flex-direction: column;align-items: center;background-color: white;padding-right: 0.2em;padding-left: 0.2em;position: relative;}#sk-container-id-3 div.sk-item {position: relative;z-index: 1;}#sk-container-id-3 div.sk-parallel {display: flex;align-items: stretch;justify-content: center;background-color: white;position: relative;}#sk-container-id-3 div.sk-item::before, #sk-container-id-3 div.sk-parallel-item::before {content: \"\";position: absolute;border-left: 1px solid gray;box-sizing: border-box;top: 0;bottom: 0;left: 50%;z-index: -1;}#sk-container-id-3 div.sk-parallel-item {display: flex;flex-direction: column;z-index: 1;position: relative;background-color: white;}#sk-container-id-3 div.sk-parallel-item:first-child::after {align-self: flex-end;width: 50%;}#sk-container-id-3 div.sk-parallel-item:last-child::after {align-self: flex-start;width: 50%;}#sk-container-id-3 div.sk-parallel-item:only-child::after {width: 0;}#sk-container-id-3 div.sk-dashed-wrapped {border: 1px dashed gray;margin: 0 0.4em 0.5em 0.4em;box-sizing: border-box;padding-bottom: 0.4em;background-color: white;}#sk-container-id-3 div.sk-label label {font-family: monospace;font-weight: bold;display: inline-block;line-height: 1.2em;}#sk-container-id-3 div.sk-label-container {text-align: center;}#sk-container-id-3 div.sk-container {/* jupyter's `normalize.less` sets `[hidden] { display: none; }` but bootstrap.min.css set `[hidden] { display: none !important; }` so we also need the `!important` here to be able to override the default hidden behavior on the sphinx rendered scikit-learn.org. See: https://github.com/scikit-learn/scikit-learn/issues/21755 */display: inline-block !important;position: relative;}#sk-container-id-3 div.sk-text-repr-fallback {display: none;}</style><div id=\"sk-container-id-3\" class=\"sk-top-container\"><div class=\"sk-text-repr-fallback\"><pre>RandomForestClassifier(random_state=32)</pre><b>In a Jupyter environment, please rerun this cell to show the HTML representation or trust the notebook. <br />On GitHub, the HTML representation is unable to render, please try loading this page with nbviewer.org.</b></div><div class=\"sk-container\" hidden><div class=\"sk-item\"><div class=\"sk-estimator sk-toggleable\"><input class=\"sk-toggleable__control sk-hidden--visually\" id=\"sk-estimator-id-3\" type=\"checkbox\" checked><label for=\"sk-estimator-id-3\" class=\"sk-toggleable__label sk-toggleable__label-arrow\">RandomForestClassifier</label><div class=\"sk-toggleable__content\"><pre>RandomForestClassifier(random_state=32)</pre></div></div></div></div></div>"
      ],
      "text/plain": [
       "RandomForestClassifier(random_state=32)"
      ]
     },
     "execution_count": 55,
     "metadata": {},
     "output_type": "execute_result"
    }
   ],
   "source": [
    "model_randomforestclassifier_smote = RandomForestClassifier(random_state=32)\n",
    "model_randomforestclassifier_smote.fit(X=feature_smote,y=label_smote)"
   ]
  },
  {
   "cell_type": "code",
   "execution_count": 56,
   "metadata": {},
   "outputs": [
    {
     "name": "stdout",
     "output_type": "stream",
     "text": [
      "              precision    recall  f1-score   support\n",
      "\n",
      "         0.0       0.53      0.89      0.66     10778\n",
      "         1.0       0.21      0.44      0.29     10778\n",
      "         2.0       0.38      0.06      0.10     10778\n",
      "         3.0       0.27      0.22      0.25     10778\n",
      "         4.0       0.45      0.11      0.17     10778\n",
      "         5.0       0.32      0.19      0.24     10778\n",
      "         6.0       0.46      0.18      0.26     10778\n",
      "         7.0       0.41      0.27      0.33     10778\n",
      "         8.0       0.34      0.53      0.41     10778\n",
      "         9.0       0.45      0.54      0.49     10778\n",
      "        10.0       0.59      0.97      0.73     10778\n",
      "\n",
      "    accuracy                           0.40    118558\n",
      "   macro avg       0.40      0.40      0.36    118558\n",
      "weighted avg       0.40      0.40      0.36    118558\n",
      "\n"
     ]
    },
    {
     "data": {
      "text/plain": [
       "0.3996103173130451"
      ]
     },
     "execution_count": 56,
     "metadata": {},
     "output_type": "execute_result"
    }
   ],
   "source": [
    "predictions = model_randomforestclassifier_smote.predict(feature_smote)\n",
    "print(classification_report(y_true=label_smote, y_pred=predictions))\n",
    "accuracy_score(y_true=label_smote,y_pred=predictions)"
   ]
  },
  {
   "cell_type": "code",
   "execution_count": 57,
   "metadata": {},
   "outputs": [
    {
     "data": {
      "text/plain": [
       "(2.2762361038479058, -0.03532448253175661)"
      ]
     },
     "execution_count": 57,
     "metadata": {},
     "output_type": "execute_result"
    }
   ],
   "source": [
    "diff = label_smote - predictions\n",
    "diff.abs().mean(), diff.mean()"
   ]
  },
  {
   "cell_type": "code",
   "execution_count": 58,
   "metadata": {},
   "outputs": [
    {
     "data": {
      "text/plain": [
       "0.8055690451296182"
      ]
     },
     "execution_count": 58,
     "metadata": {},
     "output_type": "execute_result"
    }
   ],
   "source": [
    "predict_score = model_randomforestclassifier_smote.predict_proba(X=feature_smote) # 주로 수가 많은 쪽 class를 양성으로 정함\n",
    "AUC_score = roc_auc_score(y_true=label_smote, y_score=predict_score, multi_class='ovr')\n",
    "AUC_score"
   ]
  },
  {
   "cell_type": "code",
   "execution_count": 59,
   "metadata": {},
   "outputs": [],
   "source": [
    "missing_mask = data_df[missing_columns[0]].isna()\n",
    "missing_records = scaling_df.loc[missing_mask.index]\n",
    "predictions_smote = model_randomforestclassifier_smote.predict(missing_records)"
   ]
  },
  {
   "cell_type": "code",
   "execution_count": 60,
   "metadata": {},
   "outputs": [],
   "source": [
    "missing_mask = data_df[missing_columns[0]].isna()\n",
    "missing_records = scaling_df.loc[missing_mask.index]\n",
    "predictions = model_randomforestclassifier.predict(missing_records)"
   ]
  },
  {
   "cell_type": "code",
   "execution_count": 61,
   "metadata": {},
   "outputs": [
    {
     "data": {
      "text/plain": [
       "(2.523857788866365, 2.818142834866677)"
      ]
     },
     "execution_count": 61,
     "metadata": {},
     "output_type": "execute_result"
    }
   ],
   "source": [
    "diff = predictions_smote - predictions\n",
    "abs_array = np.abs(diff)\n",
    "diff.mean(), abs_array.mean()"
   ]
  },
  {
   "cell_type": "code",
   "execution_count": 62,
   "metadata": {},
   "outputs": [
    {
     "data": {
      "text/plain": [
       "array([0., 1., 9., ..., 1., 3., 8.])"
      ]
     },
     "execution_count": 62,
     "metadata": {},
     "output_type": "execute_result"
    }
   ],
   "source": [
    "predictions_smote"
   ]
  },
  {
   "cell_type": "code",
   "execution_count": 63,
   "metadata": {},
   "outputs": [],
   "source": [
    "data_df.loc[missing_mask.index, missing_columns[0]] = predictions_smote"
   ]
  },
  {
   "cell_type": "code",
   "execution_count": 64,
   "metadata": {},
   "outputs": [],
   "source": [
    "data_df.loc[missing_mask.index, missing_columns[0]] = predictions"
   ]
  },
  {
   "cell_type": "code",
   "execution_count": 65,
   "metadata": {},
   "outputs": [
    {
     "data": {
      "text/plain": [
       "credit rating\n",
       "1.0     35166\n",
       "2.0      7847\n",
       "3.0      3378\n",
       "4.0      1478\n",
       "6.0       947\n",
       "7.0       897\n",
       "5.0       790\n",
       "8.0       533\n",
       "9.0       173\n",
       "0.0        84\n",
       "10.0       11\n",
       "Name: count, dtype: int64"
      ]
     },
     "execution_count": 65,
     "metadata": {},
     "output_type": "execute_result"
    }
   ],
   "source": [
    "data_df[missing_columns[0]].value_counts() "
   ]
  },
  {
   "cell_type": "code",
   "execution_count": 66,
   "metadata": {},
   "outputs": [],
   "source": [
    "# label에서 NaN을 제거한 후 인덱스를 가져옵니다.\n",
    "label = data_df[missing_columns[1]].dropna()\n",
    "features = scaling_df.loc[label.index]"
   ]
  },
  {
   "cell_type": "code",
   "execution_count": 67,
   "metadata": {},
   "outputs": [
    {
     "data": {
      "text/html": [
       "<style>#sk-container-id-4 {color: black;}#sk-container-id-4 pre{padding: 0;}#sk-container-id-4 div.sk-toggleable {background-color: white;}#sk-container-id-4 label.sk-toggleable__label {cursor: pointer;display: block;width: 100%;margin-bottom: 0;padding: 0.3em;box-sizing: border-box;text-align: center;}#sk-container-id-4 label.sk-toggleable__label-arrow:before {content: \"▸\";float: left;margin-right: 0.25em;color: #696969;}#sk-container-id-4 label.sk-toggleable__label-arrow:hover:before {color: black;}#sk-container-id-4 div.sk-estimator:hover label.sk-toggleable__label-arrow:before {color: black;}#sk-container-id-4 div.sk-toggleable__content {max-height: 0;max-width: 0;overflow: hidden;text-align: left;background-color: #f0f8ff;}#sk-container-id-4 div.sk-toggleable__content pre {margin: 0.2em;color: black;border-radius: 0.25em;background-color: #f0f8ff;}#sk-container-id-4 input.sk-toggleable__control:checked~div.sk-toggleable__content {max-height: 200px;max-width: 100%;overflow: auto;}#sk-container-id-4 input.sk-toggleable__control:checked~label.sk-toggleable__label-arrow:before {content: \"▾\";}#sk-container-id-4 div.sk-estimator input.sk-toggleable__control:checked~label.sk-toggleable__label {background-color: #d4ebff;}#sk-container-id-4 div.sk-label input.sk-toggleable__control:checked~label.sk-toggleable__label {background-color: #d4ebff;}#sk-container-id-4 input.sk-hidden--visually {border: 0;clip: rect(1px 1px 1px 1px);clip: rect(1px, 1px, 1px, 1px);height: 1px;margin: -1px;overflow: hidden;padding: 0;position: absolute;width: 1px;}#sk-container-id-4 div.sk-estimator {font-family: monospace;background-color: #f0f8ff;border: 1px dotted black;border-radius: 0.25em;box-sizing: border-box;margin-bottom: 0.5em;}#sk-container-id-4 div.sk-estimator:hover {background-color: #d4ebff;}#sk-container-id-4 div.sk-parallel-item::after {content: \"\";width: 100%;border-bottom: 1px solid gray;flex-grow: 1;}#sk-container-id-4 div.sk-label:hover label.sk-toggleable__label {background-color: #d4ebff;}#sk-container-id-4 div.sk-serial::before {content: \"\";position: absolute;border-left: 1px solid gray;box-sizing: border-box;top: 0;bottom: 0;left: 50%;z-index: 0;}#sk-container-id-4 div.sk-serial {display: flex;flex-direction: column;align-items: center;background-color: white;padding-right: 0.2em;padding-left: 0.2em;position: relative;}#sk-container-id-4 div.sk-item {position: relative;z-index: 1;}#sk-container-id-4 div.sk-parallel {display: flex;align-items: stretch;justify-content: center;background-color: white;position: relative;}#sk-container-id-4 div.sk-item::before, #sk-container-id-4 div.sk-parallel-item::before {content: \"\";position: absolute;border-left: 1px solid gray;box-sizing: border-box;top: 0;bottom: 0;left: 50%;z-index: -1;}#sk-container-id-4 div.sk-parallel-item {display: flex;flex-direction: column;z-index: 1;position: relative;background-color: white;}#sk-container-id-4 div.sk-parallel-item:first-child::after {align-self: flex-end;width: 50%;}#sk-container-id-4 div.sk-parallel-item:last-child::after {align-self: flex-start;width: 50%;}#sk-container-id-4 div.sk-parallel-item:only-child::after {width: 0;}#sk-container-id-4 div.sk-dashed-wrapped {border: 1px dashed gray;margin: 0 0.4em 0.5em 0.4em;box-sizing: border-box;padding-bottom: 0.4em;background-color: white;}#sk-container-id-4 div.sk-label label {font-family: monospace;font-weight: bold;display: inline-block;line-height: 1.2em;}#sk-container-id-4 div.sk-label-container {text-align: center;}#sk-container-id-4 div.sk-container {/* jupyter's `normalize.less` sets `[hidden] { display: none; }` but bootstrap.min.css set `[hidden] { display: none !important; }` so we also need the `!important` here to be able to override the default hidden behavior on the sphinx rendered scikit-learn.org. See: https://github.com/scikit-learn/scikit-learn/issues/21755 */display: inline-block !important;position: relative;}#sk-container-id-4 div.sk-text-repr-fallback {display: none;}</style><div id=\"sk-container-id-4\" class=\"sk-top-container\"><div class=\"sk-text-repr-fallback\"><pre>RandomForestRegressor(random_state=32)</pre><b>In a Jupyter environment, please rerun this cell to show the HTML representation or trust the notebook. <br />On GitHub, the HTML representation is unable to render, please try loading this page with nbviewer.org.</b></div><div class=\"sk-container\" hidden><div class=\"sk-item\"><div class=\"sk-estimator sk-toggleable\"><input class=\"sk-toggleable__control sk-hidden--visually\" id=\"sk-estimator-id-4\" type=\"checkbox\" checked><label for=\"sk-estimator-id-4\" class=\"sk-toggleable__label sk-toggleable__label-arrow\">RandomForestRegressor</label><div class=\"sk-toggleable__content\"><pre>RandomForestRegressor(random_state=32)</pre></div></div></div></div></div>"
      ],
      "text/plain": [
       "RandomForestRegressor(random_state=32)"
      ]
     },
     "execution_count": 67,
     "metadata": {},
     "output_type": "execute_result"
    }
   ],
   "source": [
    "model_randomforestregressor = RandomForestRegressor(random_state=32)\n",
    "model_randomforestregressor.fit(X=features,y=label)"
   ]
  },
  {
   "cell_type": "code",
   "execution_count": 68,
   "metadata": {},
   "outputs": [
    {
     "data": {
      "text/plain": [
       "0.033399120477535904"
      ]
     },
     "execution_count": 68,
     "metadata": {},
     "output_type": "execute_result"
    }
   ],
   "source": [
    "predictions = model_randomforestregressor.predict(features)\n",
    "r2 = r2_score(y_true=label,y_pred=predictions)\n",
    "# rmse = root_mean_squared_error(y_true=label, y_pred=predictions)\n",
    "# r2, rmse\n",
    "r2"
   ]
  },
  {
   "cell_type": "code",
   "execution_count": 69,
   "metadata": {},
   "outputs": [
    {
     "data": {
      "text/plain": [
       "(10.72840166443053, -0.015954786499592363)"
      ]
     },
     "execution_count": 69,
     "metadata": {},
     "output_type": "execute_result"
    }
   ],
   "source": [
    "diff = label - predictions\n",
    "diff.abs().mean(), diff.mean()"
   ]
  },
  {
   "cell_type": "code",
   "execution_count": 70,
   "metadata": {},
   "outputs": [],
   "source": [
    "missing_mask = data_df[missing_columns[1]].isna()\n",
    "missing_records = scaling_df.loc[missing_mask.index]\n",
    "predictions = model_randomforestregressor.predict(missing_records)\n",
    "data_df.loc[missing_mask.index, missing_columns[1]] = predictions"
   ]
  },
  {
   "cell_type": "code",
   "execution_count": 71,
   "metadata": {},
   "outputs": [
    {
     "data": {
      "text/plain": [
       "0        46.0\n",
       "1        47.0\n",
       "2        47.0\n",
       "3        47.0\n",
       "4        46.0\n",
       "         ... \n",
       "51299    47.0\n",
       "51300    40.0\n",
       "51301    48.0\n",
       "51302    48.0\n",
       "51303    47.0\n",
       "Name: age, Length: 51304, dtype: float64"
      ]
     },
     "execution_count": 71,
     "metadata": {},
     "output_type": "execute_result"
    }
   ],
   "source": [
    "data_df.loc[missing_mask.index, missing_columns[1]] = data_df.loc[missing_mask.index, missing_columns[1]].astype(float).round(0).astype(int)\n",
    "data_df.loc[missing_mask.index, missing_columns[1]]"
   ]
  },
  {
   "cell_type": "code",
   "execution_count": 72,
   "metadata": {},
   "outputs": [],
   "source": [
    "label = data_df[missing_columns[2]].dropna()\n",
    "features = scaling_df.loc[label.index]"
   ]
  },
  {
   "cell_type": "code",
   "execution_count": 73,
   "metadata": {},
   "outputs": [
    {
     "data": {
      "text/html": [
       "<style>#sk-container-id-5 {color: black;}#sk-container-id-5 pre{padding: 0;}#sk-container-id-5 div.sk-toggleable {background-color: white;}#sk-container-id-5 label.sk-toggleable__label {cursor: pointer;display: block;width: 100%;margin-bottom: 0;padding: 0.3em;box-sizing: border-box;text-align: center;}#sk-container-id-5 label.sk-toggleable__label-arrow:before {content: \"▸\";float: left;margin-right: 0.25em;color: #696969;}#sk-container-id-5 label.sk-toggleable__label-arrow:hover:before {color: black;}#sk-container-id-5 div.sk-estimator:hover label.sk-toggleable__label-arrow:before {color: black;}#sk-container-id-5 div.sk-toggleable__content {max-height: 0;max-width: 0;overflow: hidden;text-align: left;background-color: #f0f8ff;}#sk-container-id-5 div.sk-toggleable__content pre {margin: 0.2em;color: black;border-radius: 0.25em;background-color: #f0f8ff;}#sk-container-id-5 input.sk-toggleable__control:checked~div.sk-toggleable__content {max-height: 200px;max-width: 100%;overflow: auto;}#sk-container-id-5 input.sk-toggleable__control:checked~label.sk-toggleable__label-arrow:before {content: \"▾\";}#sk-container-id-5 div.sk-estimator input.sk-toggleable__control:checked~label.sk-toggleable__label {background-color: #d4ebff;}#sk-container-id-5 div.sk-label input.sk-toggleable__control:checked~label.sk-toggleable__label {background-color: #d4ebff;}#sk-container-id-5 input.sk-hidden--visually {border: 0;clip: rect(1px 1px 1px 1px);clip: rect(1px, 1px, 1px, 1px);height: 1px;margin: -1px;overflow: hidden;padding: 0;position: absolute;width: 1px;}#sk-container-id-5 div.sk-estimator {font-family: monospace;background-color: #f0f8ff;border: 1px dotted black;border-radius: 0.25em;box-sizing: border-box;margin-bottom: 0.5em;}#sk-container-id-5 div.sk-estimator:hover {background-color: #d4ebff;}#sk-container-id-5 div.sk-parallel-item::after {content: \"\";width: 100%;border-bottom: 1px solid gray;flex-grow: 1;}#sk-container-id-5 div.sk-label:hover label.sk-toggleable__label {background-color: #d4ebff;}#sk-container-id-5 div.sk-serial::before {content: \"\";position: absolute;border-left: 1px solid gray;box-sizing: border-box;top: 0;bottom: 0;left: 50%;z-index: 0;}#sk-container-id-5 div.sk-serial {display: flex;flex-direction: column;align-items: center;background-color: white;padding-right: 0.2em;padding-left: 0.2em;position: relative;}#sk-container-id-5 div.sk-item {position: relative;z-index: 1;}#sk-container-id-5 div.sk-parallel {display: flex;align-items: stretch;justify-content: center;background-color: white;position: relative;}#sk-container-id-5 div.sk-item::before, #sk-container-id-5 div.sk-parallel-item::before {content: \"\";position: absolute;border-left: 1px solid gray;box-sizing: border-box;top: 0;bottom: 0;left: 50%;z-index: -1;}#sk-container-id-5 div.sk-parallel-item {display: flex;flex-direction: column;z-index: 1;position: relative;background-color: white;}#sk-container-id-5 div.sk-parallel-item:first-child::after {align-self: flex-end;width: 50%;}#sk-container-id-5 div.sk-parallel-item:last-child::after {align-self: flex-start;width: 50%;}#sk-container-id-5 div.sk-parallel-item:only-child::after {width: 0;}#sk-container-id-5 div.sk-dashed-wrapped {border: 1px dashed gray;margin: 0 0.4em 0.5em 0.4em;box-sizing: border-box;padding-bottom: 0.4em;background-color: white;}#sk-container-id-5 div.sk-label label {font-family: monospace;font-weight: bold;display: inline-block;line-height: 1.2em;}#sk-container-id-5 div.sk-label-container {text-align: center;}#sk-container-id-5 div.sk-container {/* jupyter's `normalize.less` sets `[hidden] { display: none; }` but bootstrap.min.css set `[hidden] { display: none !important; }` so we also need the `!important` here to be able to override the default hidden behavior on the sphinx rendered scikit-learn.org. See: https://github.com/scikit-learn/scikit-learn/issues/21755 */display: inline-block !important;position: relative;}#sk-container-id-5 div.sk-text-repr-fallback {display: none;}</style><div id=\"sk-container-id-5\" class=\"sk-top-container\"><div class=\"sk-text-repr-fallback\"><pre>RandomForestRegressor(random_state=32)</pre><b>In a Jupyter environment, please rerun this cell to show the HTML representation or trust the notebook. <br />On GitHub, the HTML representation is unable to render, please try loading this page with nbviewer.org.</b></div><div class=\"sk-container\" hidden><div class=\"sk-item\"><div class=\"sk-estimator sk-toggleable\"><input class=\"sk-toggleable__control sk-hidden--visually\" id=\"sk-estimator-id-5\" type=\"checkbox\" checked><label for=\"sk-estimator-id-5\" class=\"sk-toggleable__label sk-toggleable__label-arrow\">RandomForestRegressor</label><div class=\"sk-toggleable__content\"><pre>RandomForestRegressor(random_state=32)</pre></div></div></div></div></div>"
      ],
      "text/plain": [
       "RandomForestRegressor(random_state=32)"
      ]
     },
     "execution_count": 73,
     "metadata": {},
     "output_type": "execute_result"
    }
   ],
   "source": [
    "model_randomforestregressor = RandomForestRegressor(random_state=32)\n",
    "model_randomforestregressor.fit(X=features,y=label)"
   ]
  },
  {
   "cell_type": "code",
   "execution_count": 74,
   "metadata": {},
   "outputs": [
    {
     "data": {
      "text/plain": [
       "0.03341281456041556"
      ]
     },
     "execution_count": 74,
     "metadata": {},
     "output_type": "execute_result"
    }
   ],
   "source": [
    "predictions = model_randomforestregressor.predict(features)\n",
    "r2 = r2_score(y_true=label,y_pred=predictions)\n",
    "# rmse = root_mean_squared_error(y_true=label, y_pred=predictions)\n",
    "r2 # , rmse"
   ]
  },
  {
   "cell_type": "code",
   "execution_count": 75,
   "metadata": {},
   "outputs": [
    {
     "data": {
      "text/plain": [
       "(346.8522727913435, -0.5592174592914608)"
      ]
     },
     "execution_count": 75,
     "metadata": {},
     "output_type": "execute_result"
    }
   ],
   "source": [
    "diff = label - predictions\n",
    "diff.abs().mean(), diff.mean()"
   ]
  },
  {
   "cell_type": "code",
   "execution_count": 76,
   "metadata": {},
   "outputs": [],
   "source": [
    "missing_mask = data_df[missing_columns[2]].isna()\n",
    "missing_records = scaling_df.loc[missing_mask.index]\n",
    "predictions = model_randomforestregressor.predict(missing_records)\n",
    "data_df.loc[missing_mask.index, missing_columns[2]] = predictions"
   ]
  },
  {
   "cell_type": "code",
   "execution_count": 77,
   "metadata": {},
   "outputs": [
    {
     "data": {
      "text/plain": [
       "0        1956.0\n",
       "1        1976.0\n",
       "2        1971.0\n",
       "3        1993.0\n",
       "4        1896.0\n",
       "          ...  \n",
       "51299    1988.0\n",
       "51300    1794.0\n",
       "51301    2078.0\n",
       "51302    2011.0\n",
       "51303    1995.0\n",
       "Name: Mileage, Length: 51304, dtype: float64"
      ]
     },
     "execution_count": 77,
     "metadata": {},
     "output_type": "execute_result"
    }
   ],
   "source": [
    "data_df.loc[missing_mask.index, missing_columns[2]] = data_df.loc[missing_mask.index, missing_columns[2]].astype(float).round(0).astype(int)\n",
    "data_df.loc[missing_mask.index, missing_columns[2]]"
   ]
  },
  {
   "cell_type": "code",
   "execution_count": 78,
   "metadata": {},
   "outputs": [
    {
     "name": "stdout",
     "output_type": "stream",
     "text": [
      "<class 'pandas.core.frame.DataFrame'>\n",
      "RangeIndex: 51304 entries, 0 to 51303\n",
      "Data columns (total 17 columns):\n",
      " #   Column             Non-Null Count  Dtype  \n",
      "---  ------             --------------  -----  \n",
      " 0   id                 51304 non-null  int64  \n",
      " 1   type_of_contract   51304 non-null  object \n",
      " 2   type_of_contract2  51304 non-null  object \n",
      " 3   channel            51304 non-null  object \n",
      " 4   datetime           51304 non-null  object \n",
      " 5   Term               51304 non-null  int64  \n",
      " 6   payment_type       51304 non-null  object \n",
      " 7   product            51304 non-null  object \n",
      " 8   amount             51304 non-null  int64  \n",
      " 9   state              51304 non-null  object \n",
      " 10  overdue_count      51304 non-null  int64  \n",
      " 11  overdue            51304 non-null  object \n",
      " 12  credit rating      51304 non-null  float64\n",
      " 13  bank               48544 non-null  object \n",
      " 14  cancellation       51304 non-null  object \n",
      " 15  age                51304 non-null  float64\n",
      " 16  Mileage            51304 non-null  float64\n",
      "dtypes: float64(3), int64(4), object(10)\n",
      "memory usage: 6.7+ MB\n"
     ]
    }
   ],
   "source": [
    "data_df.info()"
   ]
  },
  {
   "cell_type": "code",
   "execution_count": 79,
   "metadata": {},
   "outputs": [
    {
     "data": {
      "image/png": "[encoded data removed]",
      "text/plain": [
       "<Figure size 640x480 with 1 Axes>"
      ]
     },
     "metadata": {},
     "output_type": "display_data"
    },
    {
     "data": {
      "image/png": "[encoded data removed]",
      "text/plain": [
       "<Figure size 640x480 with 1 Axes>"
      ]
     },
     "metadata": {},
     "output_type": "display_data"
    }
   ],
   "source": [
    "sns.boxplot(data=data_df, x='age')\n",
    "plt.show()\n",
    "sns.boxplot(data=data_df, x='Mileage')\n",
    "plt.show()"
   ]
  },
  {
   "cell_type": "markdown",
   "metadata": {},
   "source": [
    "##### 최종 encode 와 scaling 수행"
   ]
  },
  {
   "cell_type": "markdown",
   "metadata": {},
   "source": [
    "- 아얘 나눠야 되\n",
    "- amount 용 이랑, state 용 이랑, overdue 용으로 dataset 분리 필요 "
   ]
  },
  {
   "cell_type": "code",
   "execution_count": 80,
   "metadata": {},
   "outputs": [
    {
     "name": "stdout",
     "output_type": "stream",
     "text": [
      "<class 'pandas.core.frame.DataFrame'>\n",
      "RangeIndex: 51304 entries, 0 to 51303\n",
      "Data columns (total 14 columns):\n",
      " #   Column             Non-Null Count  Dtype  \n",
      "---  ------             --------------  -----  \n",
      " 0   type_of_contract   51304 non-null  object \n",
      " 1   type_of_contract2  51304 non-null  object \n",
      " 2   channel            51304 non-null  object \n",
      " 3   Term               51304 non-null  int64  \n",
      " 4   payment_type       51304 non-null  object \n",
      " 5   product            51304 non-null  object \n",
      " 6   amount             51304 non-null  int64  \n",
      " 7   state              51304 non-null  object \n",
      " 8   overdue_count      51304 non-null  int64  \n",
      " 9   overdue            51304 non-null  object \n",
      " 10  credit rating      51304 non-null  float64\n",
      " 11  cancellation       51304 non-null  object \n",
      " 12  age                51304 non-null  float64\n",
      " 13  Mileage            51304 non-null  float64\n",
      "dtypes: float64(3), int64(3), object(8)\n",
      "memory usage: 5.5+ MB\n"
     ]
    }
   ],
   "source": [
    "remove_df = data_df.drop(columns=remove_columns)\n",
    "remove_df.info()"
   ]
  },
  {
   "cell_type": "code",
   "execution_count": 81,
   "metadata": {},
   "outputs": [],
   "source": [
    "data_df_list = [remove_df.drop(columns=label) for label in final_lable_columns]"
   ]
  },
  {
   "cell_type": "code",
   "execution_count": 82,
   "metadata": {},
   "outputs": [],
   "source": [
    "scaling_df_list = []\n",
    "encode_model_list_list = []\n",
    "scaler_model_list = []\n",
    "for df in data_df_list:\n",
    "    cat_df, num_df = split_categorical_numerical(df)\n",
    "    \n",
    "    onehot_df, model_list = run_onehotencode(cat_df)\n",
    "    encode_df = pd.concat([onehot_df, num_df], axis=1)\n",
    "    \n",
    "    standardscaler = StandardScaler()\n",
    "    standardscaler.fit(encode_df)\n",
    "\n",
    "    scaling_array = standardscaler.transform(encode_df)\n",
    "    scaling_df = pd.DataFrame(scaling_array, columns=encode_df.columns)\n",
    "\n",
    "    scaling_df_list.append(scaling_df)\n",
    "    scaler_model_list.append(standardscaler)\n",
    "    encode_model_list_list.append(model_list)\n"
   ]
  },
  {
   "cell_type": "code",
   "execution_count": 83,
   "metadata": {},
   "outputs": [],
   "source": [
    "label_encode_model_list = []\n",
    "label_encode_list = []\n",
    "for col in final_lable_columns:\n",
    "    labelencoder = LabelEncoder()\n",
    "    labelencoder.fit(data_df[col])\n",
    "    encoded_label = labelencoder.transform(data_df[col])\n",
    "    label_encode_list.append(encoded_label)\n",
    "    label_encode_model_list.append(labelencoder)"
   ]
  },
  {
   "cell_type": "markdown",
   "metadata": {},
   "source": [
    "### 리샘플링 "
   ]
  },
  {
   "cell_type": "markdown",
   "metadata": {},
   "source": [
    "## 데이터 분할"
   ]
  },
  {
   "cell_type": "code",
   "execution_count": 84,
   "metadata": {},
   "outputs": [],
   "source": [
    "test_size = 0.2\n",
    "random_state = 42\n",
    "\n",
    "train_features_list = []\n",
    "test_features_list = []\n",
    "train_label_list = []\n",
    "test_label_list = []\n",
    "\n",
    "for num, df in enumerate(scaling_df_list):\n",
    "    train_features, test_features, train_label, test_label =\\\n",
    "        train_test_split(df, label_encode_list[num], test_size=test_size, random_state=random_state)\n",
    "    train_features_list.append(train_features)\n",
    "    test_features_list.append(test_features)\n",
    "    train_label_list.append(train_label)\n",
    "    test_label_list.append(test_label)"
   ]
  },
  {
   "cell_type": "markdown",
   "metadata": {},
   "source": [
    "## 모델 학습 "
   ]
  },
  {
   "cell_type": "code",
   "execution_count": 85,
   "metadata": {},
   "outputs": [],
   "source": [
    "def train_model(X_train, y_train, model):\n",
    "    \"\"\"\n",
    "    모델 학습을 수행하는 함수\n",
    "    \n",
    "    Parameters:\n",
    "    - X_train: 학습 데이터\n",
    "    - y_train: 학습 레이블\n",
    "    - model: 학습할 모델 객체\n",
    "    \n",
    "    Returns:\n",
    "    - trained_model: 학습된 모델\n",
    "    \"\"\"\n",
    "    trained_model = model.fit(X_train, y_train)\n",
    "    return trained_model"
   ]
  },
  {
   "cell_type": "code",
   "execution_count": 128,
   "metadata": {},
   "outputs": [],
   "source": [
    "def evaluate_model(trained_model, X_test, y_test, task_type='regression'):\n",
    "    \"\"\"\n",
    "    학습된 모델을 평가하는 함수\n",
    "    \n",
    "    Parameters:\n",
    "    - trained_model: 학습된 모델\n",
    "    - X_test: 테스트 데이터\n",
    "    - y_test: 테스트 레이블\n",
    "    - task_type: 'regression' 또는 'classification'\n",
    "    \n",
    "    Returns:\n",
    "    - results: 평가 결과 딕셔너리\n",
    "    \"\"\"\n",
    "    y_pred = trained_model.predict(X_test)\n",
    "    results = {}\n",
    "    \n",
    "    if task_type == 'regression':\n",
    "        results['mse'] = mean_squared_error(y_test, y_pred)\n",
    "        results['rmse'] = np.sqrt(results['mse'])\n",
    "        results['r2'] = r2_score(y_test, y_pred)\n",
    "    else:  # classification\n",
    "        results['accuracy'] = accuracy_score(y_test, y_pred)\n",
    "        results['classification_report'] = classification_report(y_test, y_pred)\n",
    "        y_pred_proba = trained_model.predict_proba(X_test)\n",
    "        if task_type == 'binary':\n",
    "            FPR, TPR, threshold = roc_curve(y_true=y_test, y_score=y_pred_proba[:, 0])\n",
    "            results['auc_score'] = auc(FPR, TPR)\n",
    "        else:  # multiclass\n",
    "            results['auc_score'] = roc_auc_score(y_true=y_test, y_score=y_pred_proba, multi_class='ovr')\n",
    "    \n",
    "    return results"
   ]
  },
  {
   "cell_type": "code",
   "execution_count": 109,
   "metadata": {},
   "outputs": [],
   "source": [
    "def run_model_comparison(X_train, X_test, y_train, y_test, models, task_type='regression'):\n",
    "    \"\"\"\n",
    "    여러 모델을 학습하고 평가하는 통합 함수\n",
    "    \n",
    "    Parameters:\n",
    "    - X_train, X_test: 학습/테스트 데이터\n",
    "    - y_train, y_test: 학습/테스트 레이블\n",
    "    - models: 모델 딕셔너리\n",
    "    - task_type: 'regression', 'binary' 또는 'multiclass'\n",
    "    \n",
    "    Returns:\n",
    "    - all_results: 모든 모델의 평가 결과\n",
    "    - trained_models: 학습된 모델들\n",
    "    \"\"\"\n",
    "    all_results = {}\n",
    "    trained_models = {}\n",
    "    \n",
    "    # 다중 분류인 경우 클래스 수 계산\n",
    "    # n_classes = len(np.unique(y_train)) if task_type == 'multiclass' else None\n",
    "    \n",
    "    for model_name, model in models.items():\n",
    "        print(f\"\\nTraining {model_name}...\")\n",
    "        \n",
    "        # 모델 학습\n",
    "        trained_model = train_model(X_train, y_train, model)\n",
    "        trained_models[model_name] = trained_model\n",
    "        \n",
    "        # 모델 평가\n",
    "        results = evaluate_model(trained_model, X_test, y_test, task_type)\n",
    "        all_results[model_name] = results\n",
    "        \n",
    "        # 결과 출력\n",
    "        print(f\"\\n{model_name} Results:\")\n",
    "        for metric, value in results.items():\n",
    "            if isinstance(value, str):  # classification_report의 경우\n",
    "                print(f\"\\n{metric}:\\n{value}\")\n",
    "            else:\n",
    "                print(f\"{metric}: {value:.4f}\")\n",
    "    \n",
    "    return all_results, trained_models\n"
   ]
  },
  {
   "cell_type": "code",
   "execution_count": 100,
   "metadata": {},
   "outputs": [
    {
     "data": {
      "text/plain": [
       "state\n",
       "계약확정     50350\n",
       "해약확정       907\n",
       "기간만료        33\n",
       "해약진행중       14\n",
       "Name: count, dtype: int64"
      ]
     },
     "execution_count": 100,
     "metadata": {},
     "output_type": "execute_result"
    }
   ],
   "source": [
    "data_df[final_lable_columns[1]].value_counts()"
   ]
  },
  {
   "cell_type": "code",
   "execution_count": 99,
   "metadata": {},
   "outputs": [
    {
     "data": {
      "text/plain": [
       "array([0, 0, 0, 0, 0, 0, 0, 0, 0, 0, 0, 0, 0, 0, 0, 0, 0, 0, 0, 0, 3, 0,\n",
       "       0, 0, 0, 0, 0, 0, 0, 0, 0, 0, 0, 0, 0, 0, 0, 0, 0, 0, 0, 0, 0, 0,\n",
       "       0, 0, 0, 0, 0, 0, 0, 0, 0, 0, 3, 0, 0, 0, 0, 0, 0, 0, 0, 0, 0, 0,\n",
       "       0, 0, 0, 0, 0, 0, 0, 0, 0, 0, 0, 0, 0, 0, 0, 0, 0, 0, 0, 0, 0, 0,\n",
       "       0, 0, 0, 0, 0, 0, 0, 0, 0, 0, 0, 0])"
      ]
     },
     "execution_count": 99,
     "metadata": {},
     "output_type": "execute_result"
    }
   ],
   "source": [
    "train_label_list[1][:100]"
   ]
  },
  {
   "cell_type": "code",
   "execution_count": 101,
   "metadata": {},
   "outputs": [
    {
     "data": {
      "text/plain": [
       "array(['계약확정', '기간만료', '해약진행중', '해약확정'], dtype=object)"
      ]
     },
     "execution_count": 101,
     "metadata": {},
     "output_type": "execute_result"
    }
   ],
   "source": [
    "label_encode_model_list[1].classes_\n"
   ]
  },
  {
   "cell_type": "code",
   "execution_count": 102,
   "metadata": {},
   "outputs": [
    {
     "data": {
      "text/html": [
       "<style>#sk-container-id-6 {color: black;}#sk-container-id-6 pre{padding: 0;}#sk-container-id-6 div.sk-toggleable {background-color: white;}#sk-container-id-6 label.sk-toggleable__label {cursor: pointer;display: block;width: 100%;margin-bottom: 0;padding: 0.3em;box-sizing: border-box;text-align: center;}#sk-container-id-6 label.sk-toggleable__label-arrow:before {content: \"▸\";float: left;margin-right: 0.25em;color: #696969;}#sk-container-id-6 label.sk-toggleable__label-arrow:hover:before {color: black;}#sk-container-id-6 div.sk-estimator:hover label.sk-toggleable__label-arrow:before {color: black;}#sk-container-id-6 div.sk-toggleable__content {max-height: 0;max-width: 0;overflow: hidden;text-align: left;background-color: #f0f8ff;}#sk-container-id-6 div.sk-toggleable__content pre {margin: 0.2em;color: black;border-radius: 0.25em;background-color: #f0f8ff;}#sk-container-id-6 input.sk-toggleable__control:checked~div.sk-toggleable__content {max-height: 200px;max-width: 100%;overflow: auto;}#sk-container-id-6 input.sk-toggleable__control:checked~label.sk-toggleable__label-arrow:before {content: \"▾\";}#sk-container-id-6 div.sk-estimator input.sk-toggleable__control:checked~label.sk-toggleable__label {background-color: #d4ebff;}#sk-container-id-6 div.sk-label input.sk-toggleable__control:checked~label.sk-toggleable__label {background-color: #d4ebff;}#sk-container-id-6 input.sk-hidden--visually {border: 0;clip: rect(1px 1px 1px 1px);clip: rect(1px, 1px, 1px, 1px);height: 1px;margin: -1px;overflow: hidden;padding: 0;position: absolute;width: 1px;}#sk-container-id-6 div.sk-estimator {font-family: monospace;background-color: #f0f8ff;border: 1px dotted black;border-radius: 0.25em;box-sizing: border-box;margin-bottom: 0.5em;}#sk-container-id-6 div.sk-estimator:hover {background-color: #d4ebff;}#sk-container-id-6 div.sk-parallel-item::after {content: \"\";width: 100%;border-bottom: 1px solid gray;flex-grow: 1;}#sk-container-id-6 div.sk-label:hover label.sk-toggleable__label {background-color: #d4ebff;}#sk-container-id-6 div.sk-serial::before {content: \"\";position: absolute;border-left: 1px solid gray;box-sizing: border-box;top: 0;bottom: 0;left: 50%;z-index: 0;}#sk-container-id-6 div.sk-serial {display: flex;flex-direction: column;align-items: center;background-color: white;padding-right: 0.2em;padding-left: 0.2em;position: relative;}#sk-container-id-6 div.sk-item {position: relative;z-index: 1;}#sk-container-id-6 div.sk-parallel {display: flex;align-items: stretch;justify-content: center;background-color: white;position: relative;}#sk-container-id-6 div.sk-item::before, #sk-container-id-6 div.sk-parallel-item::before {content: \"\";position: absolute;border-left: 1px solid gray;box-sizing: border-box;top: 0;bottom: 0;left: 50%;z-index: -1;}#sk-container-id-6 div.sk-parallel-item {display: flex;flex-direction: column;z-index: 1;position: relative;background-color: white;}#sk-container-id-6 div.sk-parallel-item:first-child::after {align-self: flex-end;width: 50%;}#sk-container-id-6 div.sk-parallel-item:last-child::after {align-self: flex-start;width: 50%;}#sk-container-id-6 div.sk-parallel-item:only-child::after {width: 0;}#sk-container-id-6 div.sk-dashed-wrapped {border: 1px dashed gray;margin: 0 0.4em 0.5em 0.4em;box-sizing: border-box;padding-bottom: 0.4em;background-color: white;}#sk-container-id-6 div.sk-label label {font-family: monospace;font-weight: bold;display: inline-block;line-height: 1.2em;}#sk-container-id-6 div.sk-label-container {text-align: center;}#sk-container-id-6 div.sk-container {/* jupyter's `normalize.less` sets `[hidden] { display: none; }` but bootstrap.min.css set `[hidden] { display: none !important; }` so we also need the `!important` here to be able to override the default hidden behavior on the sphinx rendered scikit-learn.org. See: https://github.com/scikit-learn/scikit-learn/issues/21755 */display: inline-block !important;position: relative;}#sk-container-id-6 div.sk-text-repr-fallback {display: none;}</style><div id=\"sk-container-id-6\" class=\"sk-top-container\"><div class=\"sk-text-repr-fallback\"><pre>RandomForestClassifier()</pre><b>In a Jupyter environment, please rerun this cell to show the HTML representation or trust the notebook. <br />On GitHub, the HTML representation is unable to render, please try loading this page with nbviewer.org.</b></div><div class=\"sk-container\" hidden><div class=\"sk-item\"><div class=\"sk-estimator sk-toggleable\"><input class=\"sk-toggleable__control sk-hidden--visually\" id=\"sk-estimator-id-6\" type=\"checkbox\" checked><label for=\"sk-estimator-id-6\" class=\"sk-toggleable__label sk-toggleable__label-arrow\">RandomForestClassifier</label><div class=\"sk-toggleable__content\"><pre>RandomForestClassifier()</pre></div></div></div></div></div>"
      ],
      "text/plain": [
       "RandomForestClassifier()"
      ]
     },
     "execution_count": 102,
     "metadata": {},
     "output_type": "execute_result"
    }
   ],
   "source": [
    "model_svc = RandomForestClassifier()\n",
    "model_svc.fit(X=train_features_list[1],y=train_label_list[1])"
   ]
  },
  {
   "cell_type": "code",
   "execution_count": 103,
   "metadata": {},
   "outputs": [
    {
     "data": {
      "text/plain": [
       "array([[1., 0., 0., 0.],\n",
       "       [1., 0., 0., 0.],\n",
       "       [1., 0., 0., 0.]])"
      ]
     },
     "execution_count": 103,
     "metadata": {},
     "output_type": "execute_result"
    }
   ],
   "source": [
    "predict_score = model_svc.predict_proba(X=train_features_list[1]) # 주로 수가 많은 쪽 class를 양성으로 정함\n",
    "predict_score[:3]"
   ]
  },
  {
   "cell_type": "code",
   "execution_count": 104,
   "metadata": {},
   "outputs": [
    {
     "data": {
      "text/plain": [
       "1.0"
      ]
     },
     "execution_count": 104,
     "metadata": {},
     "output_type": "execute_result"
    }
   ],
   "source": [
    "AUC_score = roc_auc_score(y_true=train_label_list[1], y_score=predict_score, multi_class='ovr')\n",
    "AUC_score"
   ]
  },
  {
   "cell_type": "code",
   "execution_count": 111,
   "metadata": {},
   "outputs": [
    {
     "name": "stdout",
     "output_type": "stream",
     "text": [
      "\n",
      "Regression Task Results:\n",
      "\n",
      "Training RandomForestRegressor...\n",
      "\n",
      "RandomForestRegressor Results:\n",
      "mse: 0.7590\n",
      "rmse: 0.8712\n",
      "r2: 0.9966\n",
      "\n",
      "Training LinearRegression...\n",
      "\n",
      "LinearRegression Results:\n",
      "mse: 56.6662\n",
      "rmse: 7.5277\n",
      "r2: 0.7459\n"
     ]
    }
   ],
   "source": [
    "# 모델 정의\n",
    "models = {\n",
    "    'regression': {\n",
    "        'RandomForestRegressor': RandomForestRegressor(),\n",
    "        # 'SVR': SVR(),\n",
    "        'LinearRegression': LinearRegression()\n",
    "    },\n",
    "    'binary': {\n",
    "        'RandomForestClassifier': RandomForestClassifier(),\n",
    "        # 'SVC': SVC(probability=True),\n",
    "        'LogisticRegression': LogisticRegression()\n",
    "    },\n",
    "    'multiclass': {\n",
    "        'RandomForestClassifier': RandomForestClassifier(),\n",
    "        # 'SVC': SVC(probability=True, decision_function_shape='ovr'),\n",
    "        'LogisticRegression': LogisticRegression()\n",
    "    }\n",
    "}\n",
    "\n",
    "# 연속형 레이블에 대한 모델 학습 및 평가\n",
    "print(\"\\nRegression Task Results:\")\n",
    "reg_results, reg_models = run_model_comparison(\n",
    "    train_features_list[0], \n",
    "    train_features_list[0], \n",
    "    train_label_list[0], \n",
    "    train_label_list[0], \n",
    "    models['regression'],\n",
    "    'regression'\n",
    ")\n"
   ]
  },
  {
   "cell_type": "code",
   "execution_count": null,
   "metadata": {},
   "outputs": [],
   "source": [
    "# 이진 분류에 대한 모델 학습 및 평가\n",
    "print(\"\\nBinary Classification Task Results:\")\n",
    "binary_results, binary_models = run_model_comparison(\n",
    "    train_features_list[2], \n",
    "    train_features_list[2], \n",
    "    train_label_list[2], \n",
    "    train_label_list[2], \n",
    "    models['binary'],\n",
    "    'binary'\n",
    ")"
   ]
  },
  {
   "cell_type": "code",
   "execution_count": 129,
   "metadata": {},
   "outputs": [
    {
     "name": "stdout",
     "output_type": "stream",
     "text": [
      "\n",
      "Multiclass Classification Task Results:\n",
      "\n",
      "Training RandomForestClassifier...\n",
      "\n",
      "RandomForestClassifier Results:\n",
      "accuracy: 1.0000\n",
      "\n",
      "classification_report:\n",
      "              precision    recall  f1-score   support\n",
      "\n",
      "           0       1.00      1.00      1.00     40280\n",
      "           1       1.00      1.00      1.00        26\n",
      "           2       1.00      1.00      1.00        12\n",
      "           3       1.00      1.00      1.00       725\n",
      "\n",
      "    accuracy                           1.00     41043\n",
      "   macro avg       1.00      1.00      1.00     41043\n",
      "weighted avg       1.00      1.00      1.00     41043\n",
      "\n",
      "auc_score: 1.0000\n",
      "\n",
      "Training LogisticRegression...\n",
      "\n",
      "LogisticRegression Results:\n",
      "accuracy: 0.9997\n",
      "\n",
      "classification_report:\n",
      "              precision    recall  f1-score   support\n",
      "\n",
      "           0       1.00      1.00      1.00     40280\n",
      "           1       0.96      0.96      0.96        26\n",
      "           2       0.75      0.25      0.38        12\n",
      "           3       1.00      1.00      1.00       725\n",
      "\n",
      "    accuracy                           1.00     41043\n",
      "   macro avg       0.93      0.80      0.83     41043\n",
      "weighted avg       1.00      1.00      1.00     41043\n",
      "\n",
      "auc_score: 0.9992\n"
     ]
    },
    {
     "name": "stderr",
     "output_type": "stream",
     "text": [
      "/usr/local/lib/python3.8/dist-packages/sklearn/linear_model/_logistic.py:460: ConvergenceWarning: lbfgs failed to converge (status=1):\n",
      "STOP: TOTAL NO. of ITERATIONS REACHED LIMIT.\n",
      "\n",
      "Increase the number of iterations (max_iter) or scale the data as shown in:\n",
      "    https://scikit-learn.org/stable/modules/preprocessing.html\n",
      "Please also refer to the documentation for alternative solver options:\n",
      "    https://scikit-learn.org/stable/modules/linear_model.html#logistic-regression\n",
      "  n_iter_i = _check_optimize_result(\n"
     ]
    }
   ],
   "source": [
    "# 다중 분류에 대한 모델 학습 및 평가\n",
    "print(\"\\nMulticlass Classification Task Results:\")\n",
    "multi_results, multi_models = run_model_comparison(\n",
    "    train_features_list[1], \n",
    "    train_features_list[1], \n",
    "    train_label_list[1], \n",
    "    train_label_list[1], \n",
    "    models['multiclass'],\n",
    "    'multiclass'\n",
    ")"
   ]
  },
  {
   "cell_type": "markdown",
   "metadata": {},
   "source": [
    "## 모델 평가 "
   ]
  },
  {
   "cell_type": "markdown",
   "metadata": {},
   "source": [
    "#### 결과 평가\n",
    "- Classification이 지나치게 결과 좋다, 아마 강한 상관관계 있는 컬럼의 data leakage 문제 인듯 하다.\n"
   ]
  },
  {
   "cell_type": "code",
   "execution_count": 121,
   "metadata": {},
   "outputs": [],
   "source": [
    "def eval_model_comparison( X_test, y_test, models, task_type='regression'):\n",
    "    \"\"\"\n",
    "    여러 모델을 학습하고 평가하는 통합 함수\n",
    "    \n",
    "    Parameters:\n",
    "    - X_train, X_test: 학습/테스트 데이터\n",
    "    - y_train, y_test: 학습/테스트 레이블\n",
    "    - models: 모델 딕셔너리\n",
    "    - task_type: 'regression', 'binary' 또는 'multiclass'\n",
    "    \n",
    "    Returns:\n",
    "    - all_results: 모든 모델의 평가 결과\n",
    "    - trained_models: 학습된 모델들\n",
    "    \"\"\"\n",
    "    all_results = {}\n",
    "    trained_models = {}\n",
    "    \n",
    "    # 다중 분류인 경우 클래스 수 계산\n",
    "    # n_classes = len(np.unique(y_train)) if task_type == 'multiclass' else None\n",
    "    \n",
    "    for model_name, model in models.items():\n",
    "        print(f\"\\nEvaluating {model_name}...\")\n",
    "\n",
    "        # 모델 평가\n",
    "        results = evaluate_model(model, X_test, y_test, task_type)\n",
    "        all_results[model_name] = results\n",
    "        \n",
    "        # 결과 출력\n",
    "        print(f\"\\n{model_name} Results:\")\n",
    "        for metric, value in results.items():\n",
    "            if isinstance(value, str):  # classification_report의 경우\n",
    "                print(f\"\\n{metric}:\\n{value}\")\n",
    "            else:\n",
    "                print(f\"{metric}: {value:.4f}\")\n",
    "    \n",
    "    return all_results\n"
   ]
  },
  {
   "cell_type": "code",
   "execution_count": 122,
   "metadata": {},
   "outputs": [
    {
     "name": "stdout",
     "output_type": "stream",
     "text": [
      "\n",
      "Regression Task Results:\n",
      "\n",
      "Evaluating RandomForestRegressor...\n",
      "\n",
      "RandomForestRegressor Results:\n",
      "mse: 4.7653\n",
      "rmse: 2.1830\n",
      "r2: 0.9790\n",
      "\n",
      "Evaluating LinearRegression...\n",
      "\n",
      "LinearRegression Results:\n",
      "mse: 57.6130\n",
      "rmse: 7.5903\n",
      "r2: 0.7456\n"
     ]
    }
   ],
   "source": [
    "# 연속형 레이블에 대한 모델 학습 및 평가\n",
    "print(\"\\nRegression Task Results:\")\n",
    "reg_eval_results = eval_model_comparison(\n",
    "    test_features_list[0], \n",
    "    test_label_list[0], \n",
    "    reg_models,\n",
    "    'regression'\n",
    ")"
   ]
  },
  {
   "cell_type": "code",
   "execution_count": 123,
   "metadata": {},
   "outputs": [
    {
     "name": "stdout",
     "output_type": "stream",
     "text": [
      "\n",
      "Binary Classification Task Results:\n",
      "\n",
      "Evaluating RandomForestClassifier...\n",
      "\n",
      "RandomForestClassifier Results:\n",
      "accuracy: 1.0000\n",
      "\n",
      "classification_report:\n",
      "              precision    recall  f1-score   support\n",
      "\n",
      "           0       1.00      1.00      1.00      9796\n",
      "           1       1.00      1.00      1.00       465\n",
      "\n",
      "    accuracy                           1.00     10261\n",
      "   macro avg       1.00      1.00      1.00     10261\n",
      "weighted avg       1.00      1.00      1.00     10261\n",
      "\n",
      "auc_score: 0.0000\n",
      "\n",
      "Evaluating LogisticRegression...\n",
      "\n",
      "LogisticRegression Results:\n",
      "accuracy: 1.0000\n",
      "\n",
      "classification_report:\n",
      "              precision    recall  f1-score   support\n",
      "\n",
      "           0       1.00      1.00      1.00      9796\n",
      "           1       1.00      1.00      1.00       465\n",
      "\n",
      "    accuracy                           1.00     10261\n",
      "   macro avg       1.00      1.00      1.00     10261\n",
      "weighted avg       1.00      1.00      1.00     10261\n",
      "\n",
      "auc_score: 0.0000\n"
     ]
    }
   ],
   "source": [
    "# 이진 분류에 대한 모델 학습 및 평가\n",
    "print(\"\\nBinary Classification Task Results:\")\n",
    "binary_eval_results = eval_model_comparison(\n",
    "    test_features_list[2], \n",
    "    test_label_list[2], \n",
    "    binary_models,\n",
    "    'binary'\n",
    ")"
   ]
  },
  {
   "cell_type": "code",
   "execution_count": 130,
   "metadata": {},
   "outputs": [
    {
     "name": "stdout",
     "output_type": "stream",
     "text": [
      "\n",
      "Multiclass Classification Task Results:\n",
      "\n",
      "Evaluating RandomForestClassifier...\n",
      "\n",
      "RandomForestClassifier Results:\n",
      "accuracy: 0.9996\n",
      "\n",
      "classification_report:\n",
      "              precision    recall  f1-score   support\n",
      "\n",
      "           0       1.00      1.00      1.00     10070\n",
      "           1       1.00      0.57      0.73         7\n",
      "           2       1.00      0.50      0.67         2\n",
      "           3       1.00      1.00      1.00       182\n",
      "\n",
      "    accuracy                           1.00     10261\n",
      "   macro avg       1.00      0.77      0.85     10261\n",
      "weighted avg       1.00      1.00      1.00     10261\n",
      "\n",
      "auc_score: 1.0000\n",
      "\n",
      "Evaluating LogisticRegression...\n",
      "\n",
      "LogisticRegression Results:\n",
      "accuracy: 0.9995\n",
      "\n",
      "classification_report:\n",
      "              precision    recall  f1-score   support\n",
      "\n",
      "           0       1.00      1.00      1.00     10070\n",
      "           1       0.83      0.71      0.77         7\n",
      "           2       0.00      0.00      0.00         2\n",
      "           3       1.00      1.00      1.00       182\n",
      "\n",
      "    accuracy                           1.00     10261\n",
      "   macro avg       0.71      0.68      0.69     10261\n",
      "weighted avg       1.00      1.00      1.00     10261\n",
      "\n",
      "auc_score: 1.0000\n"
     ]
    },
    {
     "name": "stderr",
     "output_type": "stream",
     "text": [
      "/usr/local/lib/python3.8/dist-packages/sklearn/metrics/_classification.py:1471: UndefinedMetricWarning: Precision and F-score are ill-defined and being set to 0.0 in labels with no predicted samples. Use `zero_division` parameter to control this behavior.\n",
      "  _warn_prf(average, modifier, msg_start, len(result))\n",
      "/usr/local/lib/python3.8/dist-packages/sklearn/metrics/_classification.py:1471: UndefinedMetricWarning: Precision and F-score are ill-defined and being set to 0.0 in labels with no predicted samples. Use `zero_division` parameter to control this behavior.\n",
      "  _warn_prf(average, modifier, msg_start, len(result))\n",
      "/usr/local/lib/python3.8/dist-packages/sklearn/metrics/_classification.py:1471: UndefinedMetricWarning: Precision and F-score are ill-defined and being set to 0.0 in labels with no predicted samples. Use `zero_division` parameter to control this behavior.\n",
      "  _warn_prf(average, modifier, msg_start, len(result))\n"
     ]
    }
   ],
   "source": [
    "# 다중 분류에 대한 모델 학습 및 평가\n",
    "print(\"\\nMulticlass Classification Task Results:\")\n",
    "multi_eval_results = eval_model_comparison(\n",
    "    test_features_list[1], \n",
    "    test_label_list[1], \n",
    "    multi_models,\n",
    "    'multiclass'\n",
    ")"
   ]
  },
  {
   "cell_type": "markdown",
   "metadata": {},
   "source": [
    "## 모델 배포"
   ]
  }
 ],
 "metadata": {
  "kernelspec": {
   "display_name": "Python 3",
   "language": "python",
   "name": "python3"
  },
  "language_info": {
   "codemirror_mode": {
    "name": "ipython",
    "version": 3
   },
   "file_extension": ".py",
   "mimetype": "text/x-python",
   "name": "python",
   "nbconvert_exporter": "python",
   "pygments_lexer": "ipython3",
   "version": "3.8.10"
  }
 },
 "nbformat": 4,
 "nbformat_minor": 2
}
