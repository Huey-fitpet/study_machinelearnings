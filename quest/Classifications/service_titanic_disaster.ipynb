{
 "cells": [
  {
   "cell_type": "markdown",
   "metadata": {},
   "source": [
    "### 모델 로드"
   ]
  },
  {
   "cell_type": "markdown",
   "metadata": {},
   "source": [
    "### 로드할 모델들\n",
    "- onehotencode 모델 : 사용자 입력 받은 category 데이터 변환\n",
    "- sampling 모델 : 사용자 입력 받은 continue 데이터 변환 (onehotencode 결과 포함)\n",
    "- predict 모델 : 변환한 데이터 입력으로 label 예측값 리턴\n",
    "- labelencode 모델 : predict한 데이터를 원래 label 형태로 변환 후 리턴 (encode 자체를 로드 할 필요보다는 매핑 순서만 받아도 될 듯?)"
   ]
  },
  {
   "cell_type": "code",
   "execution_count": 1,
   "metadata": {},
   "outputs": [
    {
     "name": "stdout",
     "output_type": "stream",
     "text": [
      "모델과 선택된 특성이 로드되었습니다.\n"
     ]
    }
   ],
   "source": [
    "import pickle \n",
    "load_file_name = f'../../models/titanic_disaster.pkl'\n",
    "\n",
    "# 모델과 선택된 특성을 로드\n",
    "with open(load_file_name, 'rb') as load_file:\n",
    "    model_info = pickle.load(load_file)\n",
    "\n",
    "onehotencoders = model_info['onehotencoders']\n",
    "standardscaler = model_info['standardscaler']\n",
    "logisticregression = model_info['logisticregression']\n",
    "labelencoder = model_info['labelencoder']\n",
    "\n",
    "print(\"모델과 선택된 특성이 로드되었습니다.\")"
   ]
  },
  {
   "cell_type": "code",
   "execution_count": 2,
   "metadata": {},
   "outputs": [
    {
     "data": {
      "text/plain": [
       "5"
      ]
     },
     "execution_count": 2,
     "metadata": {},
     "output_type": "execute_result"
    }
   ],
   "source": [
    "len(onehotencoders)"
   ]
  },
  {
   "cell_type": "code",
   "execution_count": 3,
   "metadata": {},
   "outputs": [
    {
     "data": {
      "text/plain": [
       "(sklearn.preprocessing._encoders.OneHotEncoder,\n",
       " sklearn.preprocessing._data.StandardScaler,\n",
       " sklearn.linear_model._logistic.LogisticRegression,\n",
       " sklearn.preprocessing._label.LabelEncoder)"
      ]
     },
     "execution_count": 3,
     "metadata": {},
     "output_type": "execute_result"
    }
   ],
   "source": [
    "type(onehotencoders[0]), type(standardscaler), type(logisticregression), type(labelencoder), "
   ]
  },
  {
   "cell_type": "code",
   "execution_count": 4,
   "metadata": {},
   "outputs": [
    {
     "name": "stdout",
     "output_type": "stream",
     "text": [
      "[array([1, 2, 3])]\n",
      "[array(['female', 'male'], dtype=object)]\n",
      "[array([0, 1, 2, 3, 4, 5, 8])]\n",
      "[array([0, 1, 2, 3, 4, 5, 6])]\n",
      "[array(['C', 'Q', 'S'], dtype=object)]\n"
     ]
    }
   ],
   "source": [
    "for model in onehotencoders:\n",
    "    print(model.categories_)"
   ]
  },
  {
   "cell_type": "markdown",
   "metadata": {},
   "source": [
    "### 모델 테스트 "
   ]
  },
  {
   "cell_type": "markdown",
   "metadata": {},
   "source": [
    "##### 테스트 입력 셋\n",
    "- Pclass\tSex\tSibSp\tParch\tEmbarked\tAge\tFare\tSurvived\n",
    "- 3\tmale\t1\t0\tS\t22.0\t7.2500\t0\n",
    "- 1\tfemale\t1\t0\tC\t38.0\t71.2833\t1\n",
    "- 3\tfemale\t0\t0\tS\t26.0\t7.9250\t1\n",
    "- 1\tfemale\t1\t0\tS\t35.0\t53.1000\t1\n",
    "- 3\tmale\t0\t0\tS\t35.0\t8.0500\t0"
   ]
  },
  {
   "cell_type": "code",
   "execution_count": 5,
   "metadata": {},
   "outputs": [],
   "source": [
    "import pandas as pd"
   ]
  },
  {
   "cell_type": "code",
   "execution_count": 6,
   "metadata": {},
   "outputs": [],
   "source": [
    "def transform_with_onehot(input_values, onehot_encoders):\n",
    "    \"\"\"\n",
    "    입력값을 순서대로 원핫인코딩 변환\n",
    "    \n",
    "    Parameters:\n",
    "    input_values : list - 변환할 입력값들 [Pclass, Sex, SibSp, Parch, Embarked]\n",
    "    onehot_encoders : list - 순서대로 매칭되는 원핫인코더 모델들\n",
    "    \n",
    "    Returns:\n",
    "    DataFrame - 원핫인코딩된 결과를 담은 데이터프레임\n",
    "    \"\"\"\n",
    "    # 컬럼명들 (원핫인코딩 시 사용했던 순서대로)\n",
    "    columns = ['Pclass', 'Sex', 'SibSp', 'Parch', 'Embarked']\n",
    "    \n",
    "    # 입력값을 DataFrame으로 변환\n",
    "    input_df = pd.DataFrame([input_values], columns=columns)\n",
    "    \n",
    "    # 결과를 저장할 빈 데이터프레임\n",
    "    result_df = pd.DataFrame()\n",
    "    \n",
    "    for col, encoder in zip(columns, onehot_encoders):\n",
    "        # DataFrame의 컬럼을 사용하여 변환\n",
    "        encoded = encoder.transform(input_df[[col]]).toarray()\n",
    "        # 특성 이름 가져오기\n",
    "        feature_names = encoder.get_feature_names_out(input_features=[col])\n",
    "        # 결과를 DataFrame으로 변환하여 추가\n",
    "        encoded_df = pd.DataFrame(\n",
    "            data=encoded, \n",
    "            columns=feature_names, \n",
    "            index=input_df.index\n",
    "        )\n",
    "        # 결과 데이터프레임에 추가\n",
    "        result_df = pd.concat([result_df, encoded_df], axis=1)\n",
    "    \n",
    "    return result_df"
   ]
  },
  {
   "cell_type": "code",
   "execution_count": 7,
   "metadata": {},
   "outputs": [
    {
     "data": {
      "text/html": [
       "<div>\n",
       "<style scoped>\n",
       "    .dataframe tbody tr th:only-of-type {\n",
       "        vertical-align: middle;\n",
       "    }\n",
       "\n",
       "    .dataframe tbody tr th {\n",
       "        vertical-align: top;\n",
       "    }\n",
       "\n",
       "    .dataframe thead th {\n",
       "        text-align: right;\n",
       "    }\n",
       "</style>\n",
       "<table border=\"1\" class=\"dataframe\">\n",
       "  <thead>\n",
       "    <tr style=\"text-align: right;\">\n",
       "      <th></th>\n",
       "      <th>Pclass_1</th>\n",
       "      <th>Pclass_2</th>\n",
       "      <th>Pclass_3</th>\n",
       "      <th>Sex_female</th>\n",
       "      <th>Sex_male</th>\n",
       "      <th>SibSp_0</th>\n",
       "      <th>SibSp_1</th>\n",
       "      <th>SibSp_2</th>\n",
       "      <th>SibSp_3</th>\n",
       "      <th>SibSp_4</th>\n",
       "      <th>...</th>\n",
       "      <th>Parch_0</th>\n",
       "      <th>Parch_1</th>\n",
       "      <th>Parch_2</th>\n",
       "      <th>Parch_3</th>\n",
       "      <th>Parch_4</th>\n",
       "      <th>Parch_5</th>\n",
       "      <th>Parch_6</th>\n",
       "      <th>Embarked_C</th>\n",
       "      <th>Embarked_Q</th>\n",
       "      <th>Embarked_S</th>\n",
       "    </tr>\n",
       "  </thead>\n",
       "  <tbody>\n",
       "    <tr>\n",
       "      <th>0</th>\n",
       "      <td>0.0</td>\n",
       "      <td>0.0</td>\n",
       "      <td>1.0</td>\n",
       "      <td>0.0</td>\n",
       "      <td>1.0</td>\n",
       "      <td>0.0</td>\n",
       "      <td>1.0</td>\n",
       "      <td>0.0</td>\n",
       "      <td>0.0</td>\n",
       "      <td>0.0</td>\n",
       "      <td>...</td>\n",
       "      <td>1.0</td>\n",
       "      <td>0.0</td>\n",
       "      <td>0.0</td>\n",
       "      <td>0.0</td>\n",
       "      <td>0.0</td>\n",
       "      <td>0.0</td>\n",
       "      <td>0.0</td>\n",
       "      <td>0.0</td>\n",
       "      <td>0.0</td>\n",
       "      <td>1.0</td>\n",
       "    </tr>\n",
       "  </tbody>\n",
       "</table>\n",
       "<p>1 rows × 22 columns</p>\n",
       "</div>"
      ],
      "text/plain": [
       "   Pclass_1  Pclass_2  Pclass_3  Sex_female  Sex_male  SibSp_0  SibSp_1  \\\n",
       "0       0.0       0.0       1.0         0.0       1.0      0.0      1.0   \n",
       "\n",
       "   SibSp_2  SibSp_3  SibSp_4  ...  Parch_0  Parch_1  Parch_2  Parch_3  \\\n",
       "0      0.0      0.0      0.0  ...      1.0      0.0      0.0      0.0   \n",
       "\n",
       "   Parch_4  Parch_5  Parch_6  Embarked_C  Embarked_Q  Embarked_S  \n",
       "0      0.0      0.0      0.0         0.0         0.0         1.0  \n",
       "\n",
       "[1 rows x 22 columns]"
      ]
     },
     "execution_count": 7,
     "metadata": {},
     "output_type": "execute_result"
    }
   ],
   "source": [
    "input_values = [3, 'male', 1, 0, 'S']\n",
    "encoded_df = transform_with_onehot(input_values, onehotencoders)\n",
    "encoded_df"
   ]
  },
  {
   "cell_type": "code",
   "execution_count": 8,
   "metadata": {},
   "outputs": [],
   "source": [
    "def transform_with_sampling(encoded_df, continuous_columns, continuous_values, standard_scaler):\n",
    "    \"\"\"\n",
    "    원핫인코딩된 데이터프레임에 연속형 변수를 추가하고 전체를 스케일링\n",
    "    \n",
    "    Parameters:\n",
    "    encoded_df : DataFrame - 원핫인코딩된 데이터프레임\n",
    "    continuous_columns : list - 연속형 변수 컬럼명들\n",
    "    continuous_values : list - 연속형 변수 값들\n",
    "    standard_scaler : StandardScaler - 스케일링 모델\n",
    "    \n",
    "    Returns:\n",
    "    DataFrame - 최종 변환된 데이터프레임\n",
    "    \"\"\"\n",
    "    # 연속형 변수를 DataFrame으로 만들어서 원핫인코딩 결과와 결합\n",
    "    continuous_df = pd.DataFrame(\n",
    "        data=[continuous_values],\n",
    "        columns=continuous_columns,\n",
    "        index=encoded_df.index\n",
    "    )\n",
    "    \n",
    "    # 전체 데이터 결합\n",
    "    combined_df = pd.concat([encoded_df, continuous_df], axis=1)\n",
    "\n",
    "    # 전체 데이터에 대해 스케일링 적용\n",
    "    scaled_data = standard_scaler.transform(combined_df)\n",
    "    \n",
    "    # 스케일링된 결과를 DataFrame으로 변환\n",
    "    scaled_df = pd.DataFrame(\n",
    "        data=scaled_data,\n",
    "        columns=combined_df.columns,\n",
    "        index=combined_df.index\n",
    "    )\n",
    "    \n",
    "    return scaled_df"
   ]
  },
  {
   "cell_type": "code",
   "execution_count": 9,
   "metadata": {},
   "outputs": [
    {
     "data": {
      "text/html": [
       "<div>\n",
       "<style scoped>\n",
       "    .dataframe tbody tr th:only-of-type {\n",
       "        vertical-align: middle;\n",
       "    }\n",
       "\n",
       "    .dataframe tbody tr th {\n",
       "        vertical-align: top;\n",
       "    }\n",
       "\n",
       "    .dataframe thead th {\n",
       "        text-align: right;\n",
       "    }\n",
       "</style>\n",
       "<table border=\"1\" class=\"dataframe\">\n",
       "  <thead>\n",
       "    <tr style=\"text-align: right;\">\n",
       "      <th></th>\n",
       "      <th>Pclass_1</th>\n",
       "      <th>Pclass_2</th>\n",
       "      <th>Pclass_3</th>\n",
       "      <th>Sex_female</th>\n",
       "      <th>Sex_male</th>\n",
       "      <th>SibSp_0</th>\n",
       "      <th>SibSp_1</th>\n",
       "      <th>SibSp_2</th>\n",
       "      <th>SibSp_3</th>\n",
       "      <th>SibSp_4</th>\n",
       "      <th>...</th>\n",
       "      <th>Parch_2</th>\n",
       "      <th>Parch_3</th>\n",
       "      <th>Parch_4</th>\n",
       "      <th>Parch_5</th>\n",
       "      <th>Parch_6</th>\n",
       "      <th>Embarked_C</th>\n",
       "      <th>Embarked_Q</th>\n",
       "      <th>Embarked_S</th>\n",
       "      <th>Fare</th>\n",
       "      <th>Age</th>\n",
       "    </tr>\n",
       "  </thead>\n",
       "  <tbody>\n",
       "    <tr>\n",
       "      <th>0</th>\n",
       "      <td>-0.565685</td>\n",
       "      <td>-0.510152</td>\n",
       "      <td>0.902587</td>\n",
       "      <td>-0.737695</td>\n",
       "      <td>0.737695</td>\n",
       "      <td>-1.465746</td>\n",
       "      <td>1.806421</td>\n",
       "      <td>-0.180125</td>\n",
       "      <td>-0.135225</td>\n",
       "      <td>-0.143592</td>\n",
       "      <td>...</td>\n",
       "      <td>-0.314076</td>\n",
       "      <td>-0.075122</td>\n",
       "      <td>-0.067153</td>\n",
       "      <td>-0.075122</td>\n",
       "      <td>-0.03352</td>\n",
       "      <td>-0.482043</td>\n",
       "      <td>-0.307562</td>\n",
       "      <td>0.615838</td>\n",
       "      <td>-0.502445</td>\n",
       "      <td>-0.559667</td>\n",
       "    </tr>\n",
       "  </tbody>\n",
       "</table>\n",
       "<p>1 rows × 24 columns</p>\n",
       "</div>"
      ],
      "text/plain": [
       "   Pclass_1  Pclass_2  Pclass_3  Sex_female  Sex_male   SibSp_0   SibSp_1  \\\n",
       "0 -0.565685 -0.510152  0.902587   -0.737695  0.737695 -1.465746  1.806421   \n",
       "\n",
       "    SibSp_2   SibSp_3   SibSp_4  ...   Parch_2   Parch_3   Parch_4   Parch_5  \\\n",
       "0 -0.180125 -0.135225 -0.143592  ... -0.314076 -0.075122 -0.067153 -0.075122   \n",
       "\n",
       "   Parch_6  Embarked_C  Embarked_Q  Embarked_S      Fare       Age  \n",
       "0 -0.03352   -0.482043   -0.307562    0.615838 -0.502445 -0.559667  \n",
       "\n",
       "[1 rows x 24 columns]"
      ]
     },
     "execution_count": 9,
     "metadata": {},
     "output_type": "execute_result"
    }
   ],
   "source": [
    "continuous_columns = ['Fare', 'Age']\n",
    "continuous_values = [7.2500, 22.0]\n",
    "sampling_df = transform_with_sampling(encoded_df, continuous_columns, continuous_values, standardscaler)\n",
    "sampling_df"
   ]
  },
  {
   "cell_type": "code",
   "execution_count": 11,
   "metadata": {},
   "outputs": [],
   "source": [
    "# 각 레코드를 처리하는 함수\n",
    "def process_record(record):\n",
    "    # 카테고리형 변수 (OneHotEncoder 용)\n",
    "    input_values = record[:5]  # Pclass, Sex, SibSp, Parch, Embarked\n",
    "    \n",
    "    # 연속형 변수\n",
    "    continuous_columns = ['Fare', 'Age']\n",
    "    continuous_values = record[5:]  # Age, Fare\n",
    "    \n",
    "    # OneHotEncoding 변환\n",
    "    encoded_df = transform_with_onehot(input_values, onehotencoders)\n",
    "    \n",
    "    # Sampling 변환\n",
    "    sampling_df = transform_with_sampling(encoded_df, continuous_columns, continuous_values, standardscaler)\n",
    "    \n",
    "    return sampling_df"
   ]
  },
  {
   "cell_type": "code",
   "execution_count": 22,
   "metadata": {},
   "outputs": [
    {
     "name": "stdout",
     "output_type": "stream",
     "text": [
      "Predicted Survival: 0, 0.8939094689569732, 0.10609053104302683\n",
      "Predicted Survival: 1, 0.056608339767074245, 0.9433916602329258\n",
      "Predicted Survival: 1, 0.3587263928106228, 0.6412736071893772\n",
      "Predicted Survival: 1, 0.07059513635513304, 0.929404863644867\n",
      "Predicted Survival: 0, 0.9356343368239668, 0.06436566317603325\n"
     ]
    }
   ],
   "source": [
    "# 데이터를 리스트로 구성\n",
    "test_records = [\n",
    "    # Pclass, Sex,    SibSp, Parch, Embarked,    Fare,  Age\n",
    "    [3,       'male',   1,    0,     'S',       7.2500,  22.0],\n",
    "    [1,       'female', 1,    0,     'C',       71.2833, 38.0],\n",
    "    [3,       'female', 0,    0,     'S',       7.9250,  26.0],\n",
    "    [1,       'female', 1,    0,     'S',       53.1000, 35.0],\n",
    "    [3,       'male',   0,    0,     'S',       8.0500,  35.0]\n",
    "]\n",
    "\n",
    "# 모든 레코드 처리\n",
    "processed_records = []\n",
    "for record in test_records:\n",
    "    processed_df = process_record(record)\n",
    "    processed_records.append(processed_df)\n",
    "    \n",
    "\n",
    "# 예측 결과 수집\n",
    "predictions = []\n",
    "for df in processed_records:\n",
    "    pred = logisticregression.predict(df)[0]\n",
    "    probs = logisticregression.predict_proba(df)[0]\n",
    "    print(f\"Predicted Survival: {pred}, {probs[0]}, {probs[1]}\")\n",
    "    predictions.append(pred)"
   ]
  },
  {
   "cell_type": "code",
   "execution_count": 18,
   "metadata": {},
   "outputs": [
    {
     "data": {
      "text/plain": [
       "array([0, 1, 1, 1, 0])"
      ]
     },
     "execution_count": 18,
     "metadata": {},
     "output_type": "execute_result"
    }
   ],
   "source": [
    "# 예측 결과만을 담은 새로운 데이터프레임 생성\n",
    "prediction_df = pd.DataFrame({\n",
    "    'Predicted_Survival': predictions\n",
    "})\n",
    "\n",
    "labelencoder.inverse_transform(predictions) \n",
    "# 나중에 string 이던 label을 transform 되돌릴 일 있을 때 사용"
   ]
  }
 ],
 "metadata": {
  "kernelspec": {
   "display_name": "Python 3",
   "language": "python",
   "name": "python3"
  },
  "language_info": {
   "codemirror_mode": {
    "name": "ipython",
    "version": 3
   },
   "file_extension": ".py",
   "mimetype": "text/x-python",
   "name": "python",
   "nbconvert_exporter": "python",
   "pygments_lexer": "ipython3",
   "version": "3.8.10"
  }
 },
 "nbformat": 4,
 "nbformat_minor": 2
}
