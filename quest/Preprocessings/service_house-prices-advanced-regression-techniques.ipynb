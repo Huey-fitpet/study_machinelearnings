{
 "cells": [
  {
   "cell_type": "markdown",
   "metadata": {},
   "source": [
    "### 모델 로드"
   ]
  },
  {
   "cell_type": "code",
   "execution_count": 1,
   "metadata": {},
   "outputs": [
    {
     "name": "stdout",
     "output_type": "stream",
     "text": [
      "모델과 선택된 특성이 로드되었습니다.\n",
      "선택된 특성: StandardScaler()\n"
     ]
    }
   ],
   "source": [
    "import pickle \n",
    "load_file_name = f'../../models/house-prices-advanced-regression-techniques.pkl'\n",
    "\n",
    "# 모델과 선택된 특성을 로드\n",
    "with open(load_file_name, 'rb') as save_file:\n",
    "    model_info = pickle.load(save_file)\n",
    "\n",
    "trained_model = model_info['model']\n",
    "selected_features = model_info['selector']\n",
    "\n",
    "print(\"모델과 선택된 특성이 로드되었습니다.\")\n",
    "print(\"선택된 특성:\", selected_features)"
   ]
  },
  {
   "cell_type": "code",
   "execution_count": 2,
   "metadata": {},
   "outputs": [
    {
     "data": {
      "text/plain": [
       "sklearn.ensemble._forest.RandomForestRegressor"
      ]
     },
     "execution_count": 2,
     "metadata": {},
     "output_type": "execute_result"
    }
   ],
   "source": [
    "type(trained_model)"
   ]
  },
  {
   "cell_type": "markdown",
   "metadata": {},
   "source": [
    "### 모델 테스트 \n",
    "- Target : LotArea - 토지 면적 (제곱피트)\n",
    "- Feature : BsmtUnfSF, LowQualFinSF, HalfBath, Fireplaces \n",
    "- 지하실 미완성 면적 (제곱피트), 저품질 마감 면적 (모든 층), 지상 반 욕실 수, 벽난로 수"
   ]
  },
  {
   "cell_type": "markdown",
   "metadata": {},
   "source": [
    "-      BsmtUnfSF\tLowQualFinSF\tHalfBath\tFireplaces\tLotArea\n",
    "-       1107\t572\t1\t2\t22950"
   ]
  },
  {
   "cell_type": "code",
   "execution_count": 4,
   "metadata": {},
   "outputs": [
    {
     "name": "stderr",
     "output_type": "stream",
     "text": [
      "/usr/local/lib/python3.8/dist-packages/sklearn/base.py:465: UserWarning: X does not have valid feature names, but StandardScaler was fitted with feature names\n",
      "  warnings.warn(\n"
     ]
    }
   ],
   "source": [
    "data = [1107,572,1,2]\n",
    "scailed_data = selected_features.transform([data]) "
   ]
  },
  {
   "cell_type": "code",
   "execution_count": 6,
   "metadata": {},
   "outputs": [
    {
     "name": "stderr",
     "output_type": "stream",
     "text": [
      "/usr/local/lib/python3.8/dist-packages/sklearn/base.py:465: UserWarning: X does not have valid feature names, but RandomForestRegressor was fitted with feature names\n",
      "  warnings.warn(\n"
     ]
    },
    {
     "data": {
      "text/plain": [
       "array([13714.55])"
      ]
     },
     "execution_count": 6,
     "metadata": {},
     "output_type": "execute_result"
    }
   ],
   "source": [
    "trained_model.predict(scailed_data)"
   ]
  }
 ],
 "metadata": {
  "kernelspec": {
   "display_name": "Python 3",
   "language": "python",
   "name": "python3"
  },
  "language_info": {
   "codemirror_mode": {
    "name": "ipython",
    "version": 3
   },
   "file_extension": ".py",
   "mimetype": "text/x-python",
   "name": "python",
   "nbconvert_exporter": "python",
   "pygments_lexer": "ipython3",
   "version": "3.8.10"
  }
 },
 "nbformat": 4,
 "nbformat_minor": 2
}
