{
 "cells": [
  {
   "cell_type": "markdown",
   "metadata": {},
   "source": [
    "## 데이터 수집"
   ]
  },
  {
   "cell_type": "code",
   "execution_count": 39,
   "metadata": {},
   "outputs": [],
   "source": [
    "import matplotlib.pyplot as plt\n",
    "import matplotlib as mpl # 한글 폰트 설정 (NanumGothic) \n",
    "mpl.rcParams['font.family'] = 'NanumGothic'\n",
    "mpl.rcParams['axes.unicode_minus'] = False  # 마이너스 기호 깨짐 방지\n",
    "import seaborn as sns\n",
    "import pandas as pd\n",
    "import numpy as np \n",
    "import scipy.stats as stats\n",
    "from sklearn import datasets \n",
    "from sklearn.svm import SVR\n",
    "from sklearn.svm import SVC\n",
    "from sklearn.linear_model import LinearRegression\n",
    "from sklearn.linear_model import LogisticRegression\n",
    "from sklearn.ensemble import RandomForestRegressor\n",
    "from sklearn.ensemble import RandomForestClassifier\n",
    "from sklearn.cluster import KMeans\n",
    "from sklearn.decomposition import PCA\n",
    "from sklearn.preprocessing import OneHotEncoder\n",
    "from sklearn.preprocessing import LabelEncoder\n",
    "from sklearn.preprocessing import StandardScaler\n",
    "from sklearn.metrics import mean_squared_error, r2_score\n",
    "from sklearn.metrics import accuracy_score\n",
    "from sklearn.metrics import classification_report\n",
    "from sklearn.metrics import roc_curve, auc\n",
    "from sklearn.metrics import roc_auc_score\n",
    "from sklearn.model_selection import train_test_split\n",
    "from sklearn.base import clone\n",
    "from copy import deepcopy\n",
    "from imblearn.over_sampling import SMOTE\n",
    "from imblearn.under_sampling import TomekLinks\n",
    "\n",
    "import lightgbm as lgb"
   ]
  },
  {
   "cell_type": "code",
   "execution_count": 40,
   "metadata": {},
   "outputs": [],
   "source": [
    "import matplotlib.font_manager as fm\n",
    "# 폰트 캐시 삭제 및 재생성\n",
    "fm.fontManager.addfont('/usr/share/fonts/truetype/nanum/NanumGothic.ttf')\n",
    "fm._load_fontmanager(try_read_cache=False)\n",
    "\n",
    "# 폰트 설정\n",
    "font_path = '/usr/share/fonts/truetype/nanum/NanumGothic.ttf'\n",
    "font_prop = fm.FontProperties(fname=font_path)\n",
    "\n",
    "import matplotlib.pyplot as plt\n",
    "import matplotlib as mpl\n",
    "mpl.rcParams['font.family'] = font_prop.get_name()\n",
    "mpl.rcParams['axes.unicode_minus'] = False"
   ]
  },
  {
   "cell_type": "code",
   "execution_count": 41,
   "metadata": {},
   "outputs": [
    {
     "data": {
      "text/html": [
       "<div>\n",
       "<style scoped>\n",
       "    .dataframe tbody tr th:only-of-type {\n",
       "        vertical-align: middle;\n",
       "    }\n",
       "\n",
       "    .dataframe tbody tr th {\n",
       "        vertical-align: top;\n",
       "    }\n",
       "\n",
       "    .dataframe thead th {\n",
       "        text-align: right;\n",
       "    }\n",
       "</style>\n",
       "<table border=\"1\" class=\"dataframe\">\n",
       "  <thead>\n",
       "    <tr style=\"text-align: right;\">\n",
       "      <th></th>\n",
       "      <th>ID</th>\n",
       "      <th>Gender</th>\n",
       "      <th>Ever_Married</th>\n",
       "      <th>Age</th>\n",
       "      <th>Graduated</th>\n",
       "      <th>Profession</th>\n",
       "      <th>Work_Experience</th>\n",
       "      <th>Spending_Score</th>\n",
       "      <th>Family_Size</th>\n",
       "      <th>Var_1</th>\n",
       "      <th>Segmentation</th>\n",
       "    </tr>\n",
       "  </thead>\n",
       "  <tbody>\n",
       "    <tr>\n",
       "      <th>0</th>\n",
       "      <td>462809</td>\n",
       "      <td>Male</td>\n",
       "      <td>No</td>\n",
       "      <td>22</td>\n",
       "      <td>No</td>\n",
       "      <td>Healthcare</td>\n",
       "      <td>1.0</td>\n",
       "      <td>Low</td>\n",
       "      <td>4.0</td>\n",
       "      <td>Cat_4</td>\n",
       "      <td>D</td>\n",
       "    </tr>\n",
       "    <tr>\n",
       "      <th>1</th>\n",
       "      <td>462643</td>\n",
       "      <td>Female</td>\n",
       "      <td>Yes</td>\n",
       "      <td>38</td>\n",
       "      <td>Yes</td>\n",
       "      <td>Engineer</td>\n",
       "      <td>NaN</td>\n",
       "      <td>Average</td>\n",
       "      <td>3.0</td>\n",
       "      <td>Cat_4</td>\n",
       "      <td>A</td>\n",
       "    </tr>\n",
       "    <tr>\n",
       "      <th>2</th>\n",
       "      <td>466315</td>\n",
       "      <td>Female</td>\n",
       "      <td>Yes</td>\n",
       "      <td>67</td>\n",
       "      <td>Yes</td>\n",
       "      <td>Engineer</td>\n",
       "      <td>1.0</td>\n",
       "      <td>Low</td>\n",
       "      <td>1.0</td>\n",
       "      <td>Cat_6</td>\n",
       "      <td>B</td>\n",
       "    </tr>\n",
       "    <tr>\n",
       "      <th>3</th>\n",
       "      <td>461735</td>\n",
       "      <td>Male</td>\n",
       "      <td>Yes</td>\n",
       "      <td>67</td>\n",
       "      <td>Yes</td>\n",
       "      <td>Lawyer</td>\n",
       "      <td>0.0</td>\n",
       "      <td>High</td>\n",
       "      <td>2.0</td>\n",
       "      <td>Cat_6</td>\n",
       "      <td>B</td>\n",
       "    </tr>\n",
       "    <tr>\n",
       "      <th>4</th>\n",
       "      <td>462669</td>\n",
       "      <td>Female</td>\n",
       "      <td>Yes</td>\n",
       "      <td>40</td>\n",
       "      <td>Yes</td>\n",
       "      <td>Entertainment</td>\n",
       "      <td>NaN</td>\n",
       "      <td>High</td>\n",
       "      <td>6.0</td>\n",
       "      <td>Cat_6</td>\n",
       "      <td>A</td>\n",
       "    </tr>\n",
       "  </tbody>\n",
       "</table>\n",
       "</div>"
      ],
      "text/plain": [
       "       ID  Gender Ever_Married  Age Graduated     Profession  Work_Experience  \\\n",
       "0  462809    Male           No   22        No     Healthcare              1.0   \n",
       "1  462643  Female          Yes   38       Yes       Engineer              NaN   \n",
       "2  466315  Female          Yes   67       Yes       Engineer              1.0   \n",
       "3  461735    Male          Yes   67       Yes         Lawyer              0.0   \n",
       "4  462669  Female          Yes   40       Yes  Entertainment              NaN   \n",
       "\n",
       "  Spending_Score  Family_Size  Var_1 Segmentation  \n",
       "0            Low          4.0  Cat_4            D  \n",
       "1        Average          3.0  Cat_4            A  \n",
       "2            Low          1.0  Cat_6            B  \n",
       "3           High          2.0  Cat_6            B  \n",
       "4           High          6.0  Cat_6            A  "
      ]
     },
     "execution_count": 41,
     "metadata": {},
     "output_type": "execute_result"
    }
   ],
   "source": [
    "data_df = pd.read_csv('../../datasets/customer-segmentation_Train.csv')\n",
    "data_df.head()"
   ]
  },
  {
   "cell_type": "markdown",
   "metadata": {},
   "source": [
    "## 데이터 분석"
   ]
  },
  {
   "cell_type": "code",
   "execution_count": 42,
   "metadata": {},
   "outputs": [
    {
     "name": "stdout",
     "output_type": "stream",
     "text": [
      "<class 'pandas.core.frame.DataFrame'>\n",
      "RangeIndex: 8068 entries, 0 to 8067\n",
      "Data columns (total 11 columns):\n",
      " #   Column           Non-Null Count  Dtype  \n",
      "---  ------           --------------  -----  \n",
      " 0   ID               8068 non-null   int64  \n",
      " 1   Gender           8068 non-null   object \n",
      " 2   Ever_Married     7928 non-null   object \n",
      " 3   Age              8068 non-null   int64  \n",
      " 4   Graduated        7990 non-null   object \n",
      " 5   Profession       7944 non-null   object \n",
      " 6   Work_Experience  7239 non-null   float64\n",
      " 7   Spending_Score   8068 non-null   object \n",
      " 8   Family_Size      7733 non-null   float64\n",
      " 9   Var_1            7992 non-null   object \n",
      " 10  Segmentation     8068 non-null   object \n",
      "dtypes: float64(2), int64(2), object(7)\n",
      "memory usage: 693.5+ KB\n"
     ]
    }
   ],
   "source": [
    "data_df.info()"
   ]
  },
  {
   "cell_type": "code",
   "execution_count": 43,
   "metadata": {},
   "outputs": [
    {
     "data": {
      "text/plain": [
       "Work_Experience\n",
       "1.0     2354\n",
       "0.0     2318\n",
       "9.0      474\n",
       "8.0      463\n",
       "2.0      286\n",
       "3.0      255\n",
       "4.0      253\n",
       "6.0      204\n",
       "7.0      196\n",
       "5.0      194\n",
       "10.0      53\n",
       "11.0      50\n",
       "12.0      48\n",
       "13.0      46\n",
       "14.0      45\n",
       "Name: count, dtype: int64"
      ]
     },
     "execution_count": 43,
     "metadata": {},
     "output_type": "execute_result"
    }
   ],
   "source": [
    "data_df['Work_Experience'].value_counts()"
   ]
  },
  {
   "cell_type": "code",
   "execution_count": 44,
   "metadata": {},
   "outputs": [],
   "source": [
    "def split_categorical_numerical(df, unique_threshold=0.001):\n",
    "    \"\"\"\n",
    "    데이터프레임을 범주형과 수치형으로 분리\n",
    "    \n",
    "    Parameters:\n",
    "    - df: 입력 데이터프레임\n",
    "    - unique_threshold: unique 값 비율 임계값 (기본값 0.05 = 5%)\n",
    "    \n",
    "    Returns:\n",
    "    - categorical_df: 범주형 컬럼만 있는 데이터프레임\n",
    "    - numerical_df: 수치형 컬럼만 있는 데이터프레임\n",
    "    \"\"\"\n",
    "    \n",
    "    categorical_cols = []\n",
    "    numerical_cols = []\n",
    "    \n",
    "    n_rows = len(df)\n",
    "    \n",
    "    for col in df.columns:\n",
    "        # unique 값의 비율 계산\n",
    "        unique_ratio = len(df[col].unique()) / n_rows\n",
    "        n_unique = df[col].nunique()\n",
    "        # object 타입이거나, unique 값 비율이 임계값보다 작으면 범주형으로 분류\n",
    "        # df[col].dtype == 'object' or\n",
    "        # if unique_ratio < unique_threshold:\n",
    "        if n_unique < 30:  \n",
    "            # print(f'cat - {col} : {n_unique}, {unique_ratio}')\n",
    "            categorical_cols.append(col)\n",
    "        else:\n",
    "            # print(f'num - {col} : {n_unique}, {unique_ratio}')\n",
    "            numerical_cols.append(col)\n",
    "            \n",
    "    return df[categorical_cols], df[numerical_cols]"
   ]
  },
  {
   "cell_type": "code",
   "execution_count": 45,
   "metadata": {},
   "outputs": [
    {
     "name": "stdout",
     "output_type": "stream",
     "text": [
      "<class 'pandas.core.frame.DataFrame'>\n",
      "RangeIndex: 8068 entries, 0 to 8067\n",
      "Data columns (total 9 columns):\n",
      " #   Column           Non-Null Count  Dtype  \n",
      "---  ------           --------------  -----  \n",
      " 0   Gender           8068 non-null   object \n",
      " 1   Ever_Married     7928 non-null   object \n",
      " 2   Graduated        7990 non-null   object \n",
      " 3   Profession       7944 non-null   object \n",
      " 4   Work_Experience  7239 non-null   float64\n",
      " 5   Spending_Score   8068 non-null   object \n",
      " 6   Family_Size      7733 non-null   float64\n",
      " 7   Var_1            7992 non-null   object \n",
      " 8   Segmentation     8068 non-null   object \n",
      "dtypes: float64(2), object(7)\n",
      "memory usage: 567.4+ KB\n"
     ]
    }
   ],
   "source": [
    "cat_df, num_df = split_categorical_numerical(data_df)\n",
    "cat_df.info()"
   ]
  },
  {
   "cell_type": "code",
   "execution_count": 46,
   "metadata": {},
   "outputs": [
    {
     "name": "stdout",
     "output_type": "stream",
     "text": [
      "<class 'pandas.core.frame.DataFrame'>\n",
      "RangeIndex: 8068 entries, 0 to 8067\n",
      "Data columns (total 2 columns):\n",
      " #   Column  Non-Null Count  Dtype\n",
      "---  ------  --------------  -----\n",
      " 0   ID      8068 non-null   int64\n",
      " 1   Age     8068 non-null   int64\n",
      "dtypes: int64(2)\n",
      "memory usage: 126.2 KB\n"
     ]
    }
   ],
   "source": [
    "num_df.info()"
   ]
  },
  {
   "cell_type": "markdown",
   "metadata": {},
   "source": [
    "## 데이터 전처리 "
   ]
  },
  {
   "cell_type": "code",
   "execution_count": 53,
   "metadata": {},
   "outputs": [],
   "source": [
    "# 제외컬럼 처리\n",
    "remove_columns = ['ID', 'Segmentation'] # 'Profession', 'Var_1',\n",
    "missing_columns = ['Ever_Married', 'Graduated', 'Work_Experience', 'Family_Size', 'Profession', 'Var_1'] \n",
    "final_lable_columns = ['Segmentation']"
   ]
  },
  {
   "cell_type": "code",
   "execution_count": 48,
   "metadata": {},
   "outputs": [
    {
     "name": "stdout",
     "output_type": "stream",
     "text": [
      "<class 'pandas.core.frame.DataFrame'>\n",
      "RangeIndex: 8068 entries, 0 to 8067\n",
      "Data columns (total 9 columns):\n",
      " #   Column           Non-Null Count  Dtype  \n",
      "---  ------           --------------  -----  \n",
      " 0   Gender           8068 non-null   object \n",
      " 1   Ever_Married     7928 non-null   object \n",
      " 2   Age              8068 non-null   int64  \n",
      " 3   Graduated        7990 non-null   object \n",
      " 4   Profession       7944 non-null   object \n",
      " 5   Work_Experience  7239 non-null   float64\n",
      " 6   Spending_Score   8068 non-null   object \n",
      " 7   Family_Size      7733 non-null   float64\n",
      " 8   Var_1            7992 non-null   object \n",
      "dtypes: float64(2), int64(1), object(6)\n",
      "memory usage: 567.4+ KB\n"
     ]
    }
   ],
   "source": [
    "remove_df = data_df.drop(columns=remove_columns)\n",
    "remove_df.info()"
   ]
  },
  {
   "cell_type": "code",
   "execution_count": 49,
   "metadata": {},
   "outputs": [
    {
     "name": "stdout",
     "output_type": "stream",
     "text": [
      "<class 'pandas.core.frame.DataFrame'>\n",
      "RangeIndex: 8068 entries, 0 to 8067\n",
      "Data columns (total 3 columns):\n",
      " #   Column          Non-Null Count  Dtype \n",
      "---  ------          --------------  ----- \n",
      " 0   Gender          8068 non-null   object\n",
      " 1   Age             8068 non-null   int64 \n",
      " 2   Spending_Score  8068 non-null   object\n",
      "dtypes: int64(1), object(2)\n",
      "memory usage: 189.2+ KB\n"
     ]
    }
   ],
   "source": [
    "missing_df = remove_df.drop(columns=missing_columns)\n",
    "missing_df.info()"
   ]
  },
  {
   "cell_type": "code",
   "execution_count": 50,
   "metadata": {},
   "outputs": [
    {
     "name": "stdout",
     "output_type": "stream",
     "text": [
      "<class 'pandas.core.frame.DataFrame'>\n",
      "Index: 6665 entries, 0 to 8067\n",
      "Data columns (total 11 columns):\n",
      " #   Column           Non-Null Count  Dtype  \n",
      "---  ------           --------------  -----  \n",
      " 0   ID               6665 non-null   int64  \n",
      " 1   Gender           6665 non-null   object \n",
      " 2   Ever_Married     6665 non-null   object \n",
      " 3   Age              6665 non-null   int64  \n",
      " 4   Graduated        6665 non-null   object \n",
      " 5   Profession       6665 non-null   object \n",
      " 6   Work_Experience  6665 non-null   float64\n",
      " 7   Spending_Score   6665 non-null   object \n",
      " 8   Family_Size      6665 non-null   float64\n",
      " 9   Var_1            6665 non-null   object \n",
      " 10  Segmentation     6665 non-null   object \n",
      "dtypes: float64(2), int64(2), object(7)\n",
      "memory usage: 624.8+ KB\n"
     ]
    }
   ],
   "source": [
    "data_df.dropna().info()"
   ]
  },
  {
   "cell_type": "code",
   "execution_count": 51,
   "metadata": {},
   "outputs": [],
   "source": [
    "from scipy.stats import chi2_contingency\n",
    "\n",
    "def cramers_v(x, y):\n",
    "    confusion_matrix = pd.crosstab(x, y)\n",
    "    chi2 = chi2_contingency(confusion_matrix)[0]\n",
    "    n = confusion_matrix.sum().sum()\n",
    "    min_dim = min(confusion_matrix.shape) - 1\n",
    "    return np.sqrt(chi2 / (n * min_dim))\n"
   ]
  },
  {
   "cell_type": "code",
   "execution_count": 52,
   "metadata": {},
   "outputs": [
    {
     "name": "stdout",
     "output_type": "stream",
     "text": [
      "Ever_Married - ID : 1.0\n",
      "Ever_Married - Gender : 0.1158780982735355\n",
      "Ever_Married - Ever_Married : 0.9997401040042931\n",
      "Ever_Married - Age : 0.6378938304924608\n",
      "Ever_Married - Graduated : 0.1966260001320954\n",
      "Ever_Married - Profession : 0.5188219863634007\n",
      "Ever_Married - Work_Experience : 0.1072883100910616\n",
      "Ever_Married - Spending_Score : 0.6763317252705825\n",
      "Ever_Married - Family_Size : 0.32245578809833053\n",
      "Ever_Married - Var_1 : 0.10477089601507167\n",
      "Ever_Married - Segmentation : 0.4217598733952146\n",
      "Graduated - ID : 1.0\n",
      "Graduated - Gender : 0.03385002477988003\n",
      "Graduated - Ever_Married : 0.1966260001320954\n",
      "Graduated - Age : 0.4728862849520829\n",
      "Graduated - Graduated : 0.9997339025354592\n",
      "Graduated - Profession : 0.4075793694864259\n",
      "Graduated - Work_Experience : 0.04510384442862869\n",
      "Graduated - Spending_Score : 0.15287463349686686\n",
      "Graduated - Family_Size : 0.24132225438758478\n",
      "Graduated - Var_1 : 0.22343986591497206\n",
      "Graduated - Segmentation : 0.3654957583591485\n",
      "Work_Experience - ID : 0.9999999999999999\n",
      "Work_Experience - Gender : 0.07738388465258744\n",
      "Work_Experience - Ever_Married : 0.10728831009106159\n",
      "Work_Experience - Age : 0.11299626477458641\n",
      "Work_Experience - Graduated : 0.04510384442862869\n",
      "Work_Experience - Profession : 0.09689398520956832\n",
      "Work_Experience - Work_Experience : 1.0\n",
      "Work_Experience - Spending_Score : 0.07295887385509874\n",
      "Work_Experience - Family_Size : 0.057956752328268656\n",
      "Work_Experience - Var_1 : 0.05003829348785494\n",
      "Work_Experience - Segmentation : 0.06905719492600713\n",
      "Family_Size - ID : 1.0\n",
      "Family_Size - Gender : 0.1092859608879967\n",
      "Family_Size - Ever_Married : 0.32245578809833053\n",
      "Family_Size - Age : 0.16539677660576727\n",
      "Family_Size - Graduated : 0.2413222543875848\n",
      "Family_Size - Profession : 0.1399314717456355\n",
      "Family_Size - Work_Experience : 0.057956752328268656\n",
      "Family_Size - Spending_Score : 0.29221799727063247\n",
      "Family_Size - Family_Size : 1.0\n",
      "Family_Size - Var_1 : 0.1048545832854196\n",
      "Family_Size - Segmentation : 0.16957789846373694\n",
      "Profession - ID : 1.0\n",
      "Profession - Gender : 0.3599646021269062\n",
      "Profession - Ever_Married : 0.5188219863634006\n",
      "Profession - Age : 0.36179634196300103\n",
      "Profession - Graduated : 0.4075793694864259\n",
      "Profession - Profession : 1.0\n",
      "Profession - Work_Experience : 0.09689398520956834\n",
      "Profession - Spending_Score : 0.44570580956160916\n",
      "Profession - Family_Size : 0.1399314717456355\n",
      "Profession - Var_1 : 0.11090420550854271\n",
      "Profession - Segmentation : 0.33556784443309234\n",
      "Var_1 - ID : 1.0\n",
      "Var_1 - Gender : 0.050061316905818894\n",
      "Var_1 - Ever_Married : 0.10477089601507168\n",
      "Var_1 - Age : 0.12073482776632202\n",
      "Var_1 - Graduated : 0.22343986591497206\n",
      "Var_1 - Profession : 0.11090420550854271\n",
      "Var_1 - Work_Experience : 0.05003829348785495\n",
      "Var_1 - Spending_Score : 0.07454224765440824\n",
      "Var_1 - Family_Size : 0.10485458328541962\n",
      "Var_1 - Var_1 : 1.0\n",
      "Var_1 - Segmentation : 0.10079291517651191\n"
     ]
    }
   ],
   "source": [
    "for target_col in missing_columns:\n",
    "    for col in data_df.columns:\n",
    "        correlation = cramers_v(data_df[target_col], data_df[col])\n",
    "        print(f\"{target_col} - {col} : {correlation}\")\n"
   ]
  },
  {
   "cell_type": "markdown",
   "metadata": {},
   "source": [
    "### 결측치 처리"
   ]
  },
  {
   "cell_type": "code",
   "execution_count": 54,
   "metadata": {},
   "outputs": [
    {
     "name": "stdout",
     "output_type": "stream",
     "text": [
      "<class 'pandas.core.frame.DataFrame'>\n",
      "Index: 6665 entries, 0 to 8067\n",
      "Data columns (total 9 columns):\n",
      " #   Column           Non-Null Count  Dtype  \n",
      "---  ------           --------------  -----  \n",
      " 0   Gender           6665 non-null   object \n",
      " 1   Ever_Married     6665 non-null   object \n",
      " 2   Age              6665 non-null   int64  \n",
      " 3   Graduated        6665 non-null   object \n",
      " 4   Profession       6665 non-null   object \n",
      " 5   Work_Experience  6665 non-null   float64\n",
      " 6   Spending_Score   6665 non-null   object \n",
      " 7   Family_Size      6665 non-null   float64\n",
      " 8   Var_1            6665 non-null   object \n",
      "dtypes: float64(2), int64(1), object(6)\n",
      "memory usage: 520.7+ KB\n"
     ]
    }
   ],
   "source": [
    "missing_df = remove_df.dropna()\n",
    "missing_df.info()"
   ]
  },
  {
   "cell_type": "markdown",
   "metadata": {},
   "source": [
    "### 이상치 처리"
   ]
  },
  {
   "cell_type": "code",
   "execution_count": 55,
   "metadata": {},
   "outputs": [
    {
     "data": {
      "image/png": "[encoded data removed]",
      "text/plain": [
       "<Figure size 640x480 with 1 Axes>"
      ]
     },
     "metadata": {},
     "output_type": "display_data"
    },
    {
     "data": {
      "image/png": "[encoded data removed]",
      "text/plain": [
       "<Figure size 640x480 with 1 Axes>"
      ]
     },
     "metadata": {},
     "output_type": "display_data"
    },
    {
     "data": {
      "image/png": "[encoded data removed]",
      "text/plain": [
       "<Figure size 640x480 with 1 Axes>"
      ]
     },
     "metadata": {},
     "output_type": "display_data"
    },
    {
     "data": {
      "image/png": "[encoded data removed]",
      "text/plain": [
       "<Figure size 640x480 with 1 Axes>"
      ]
     },
     "metadata": {},
     "output_type": "display_data"
    },
    {
     "data": {
      "image/png": "[encoded data removed]",
      "text/plain": [
       "<Figure size 640x480 with 1 Axes>"
      ]
     },
     "metadata": {},
     "output_type": "display_data"
    },
    {
     "data": {
      "image/png": "[encoded data removed]",
      "text/plain": [
       "<Figure size 640x480 with 1 Axes>"
      ]
     },
     "metadata": {},
     "output_type": "display_data"
    }
   ],
   "source": [
    "for col in missing_columns:\n",
    "    sns.boxplot(data=data_df, x=col)\n",
    "    plt.show()"
   ]
  },
  {
   "cell_type": "markdown",
   "metadata": {},
   "source": [
    "### 범주형 처리"
   ]
  },
  {
   "cell_type": "code",
   "execution_count": 56,
   "metadata": {},
   "outputs": [
    {
     "name": "stdout",
     "output_type": "stream",
     "text": [
      "<class 'pandas.core.frame.DataFrame'>\n",
      "Index: 6665 entries, 0 to 8067\n",
      "Data columns (total 8 columns):\n",
      " #   Column           Non-Null Count  Dtype  \n",
      "---  ------           --------------  -----  \n",
      " 0   Gender           6665 non-null   object \n",
      " 1   Ever_Married     6665 non-null   object \n",
      " 2   Graduated        6665 non-null   object \n",
      " 3   Profession       6665 non-null   object \n",
      " 4   Work_Experience  6665 non-null   float64\n",
      " 5   Spending_Score   6665 non-null   object \n",
      " 6   Family_Size      6665 non-null   float64\n",
      " 7   Var_1            6665 non-null   object \n",
      "dtypes: float64(2), object(6)\n",
      "memory usage: 468.6+ KB\n"
     ]
    }
   ],
   "source": [
    "cat_df, num_df = split_categorical_numerical(missing_df)\n",
    "cat_df.info()"
   ]
  },
  {
   "cell_type": "code",
   "execution_count": 57,
   "metadata": {},
   "outputs": [
    {
     "name": "stdout",
     "output_type": "stream",
     "text": [
      "<class 'pandas.core.frame.DataFrame'>\n",
      "Index: 6665 entries, 0 to 8067\n",
      "Data columns (total 1 columns):\n",
      " #   Column  Non-Null Count  Dtype\n",
      "---  ------  --------------  -----\n",
      " 0   Age     6665 non-null   int64\n",
      "dtypes: int64(1)\n",
      "memory usage: 104.1 KB\n"
     ]
    }
   ],
   "source": [
    "num_df.info()"
   ]
  },
  {
   "cell_type": "code",
   "execution_count": 58,
   "metadata": {},
   "outputs": [],
   "source": [
    "def run_onehotencode(data_df, model=OneHotEncoder()):\n",
    "\n",
    "    columns = data_df.columns\n",
    "    model_list = []\n",
    "    for col in columns :\n",
    "        model.fit(X=data_df[[col]])\n",
    "        model_list.append(deepcopy(model))\n",
    "        encoded_pclass = model.transform(X=data_df[[col]]).toarray()\n",
    "        pclass_name_list = model.get_feature_names_out(input_features=[col])\n",
    "        pclass_df = pd.DataFrame(data=encoded_pclass, columns=pclass_name_list, index=data_df.index)\n",
    "        # 원본 자르는거 추가 \n",
    "\n",
    "        data_df = pd.concat([data_df.drop(columns=[col]), pclass_df], axis=1)\n",
    "\n",
    "    return data_df, model_list"
   ]
  },
  {
   "cell_type": "code",
   "execution_count": 59,
   "metadata": {},
   "outputs": [
    {
     "data": {
      "text/html": [
       "<div>\n",
       "<style scoped>\n",
       "    .dataframe tbody tr th:only-of-type {\n",
       "        vertical-align: middle;\n",
       "    }\n",
       "\n",
       "    .dataframe tbody tr th {\n",
       "        vertical-align: top;\n",
       "    }\n",
       "\n",
       "    .dataframe thead th {\n",
       "        text-align: right;\n",
       "    }\n",
       "</style>\n",
       "<table border=\"1\" class=\"dataframe\">\n",
       "  <thead>\n",
       "    <tr style=\"text-align: right;\">\n",
       "      <th></th>\n",
       "      <th>Gender_Female</th>\n",
       "      <th>Gender_Male</th>\n",
       "      <th>Ever_Married_No</th>\n",
       "      <th>Ever_Married_Yes</th>\n",
       "      <th>Graduated_No</th>\n",
       "      <th>Graduated_Yes</th>\n",
       "      <th>Profession_Artist</th>\n",
       "      <th>Profession_Doctor</th>\n",
       "      <th>Profession_Engineer</th>\n",
       "      <th>Profession_Entertainment</th>\n",
       "      <th>...</th>\n",
       "      <th>Family_Size_8.0</th>\n",
       "      <th>Family_Size_9.0</th>\n",
       "      <th>Var_1_Cat_1</th>\n",
       "      <th>Var_1_Cat_2</th>\n",
       "      <th>Var_1_Cat_3</th>\n",
       "      <th>Var_1_Cat_4</th>\n",
       "      <th>Var_1_Cat_5</th>\n",
       "      <th>Var_1_Cat_6</th>\n",
       "      <th>Var_1_Cat_7</th>\n",
       "      <th>Age</th>\n",
       "    </tr>\n",
       "  </thead>\n",
       "  <tbody>\n",
       "    <tr>\n",
       "      <th>0</th>\n",
       "      <td>0.0</td>\n",
       "      <td>1.0</td>\n",
       "      <td>1.0</td>\n",
       "      <td>0.0</td>\n",
       "      <td>1.0</td>\n",
       "      <td>0.0</td>\n",
       "      <td>0.0</td>\n",
       "      <td>0.0</td>\n",
       "      <td>0.0</td>\n",
       "      <td>0.0</td>\n",
       "      <td>...</td>\n",
       "      <td>0.0</td>\n",
       "      <td>0.0</td>\n",
       "      <td>0.0</td>\n",
       "      <td>0.0</td>\n",
       "      <td>0.0</td>\n",
       "      <td>1.0</td>\n",
       "      <td>0.0</td>\n",
       "      <td>0.0</td>\n",
       "      <td>0.0</td>\n",
       "      <td>22</td>\n",
       "    </tr>\n",
       "    <tr>\n",
       "      <th>2</th>\n",
       "      <td>1.0</td>\n",
       "      <td>0.0</td>\n",
       "      <td>0.0</td>\n",
       "      <td>1.0</td>\n",
       "      <td>0.0</td>\n",
       "      <td>1.0</td>\n",
       "      <td>0.0</td>\n",
       "      <td>0.0</td>\n",
       "      <td>1.0</td>\n",
       "      <td>0.0</td>\n",
       "      <td>...</td>\n",
       "      <td>0.0</td>\n",
       "      <td>0.0</td>\n",
       "      <td>0.0</td>\n",
       "      <td>0.0</td>\n",
       "      <td>0.0</td>\n",
       "      <td>0.0</td>\n",
       "      <td>0.0</td>\n",
       "      <td>1.0</td>\n",
       "      <td>0.0</td>\n",
       "      <td>67</td>\n",
       "    </tr>\n",
       "    <tr>\n",
       "      <th>3</th>\n",
       "      <td>0.0</td>\n",
       "      <td>1.0</td>\n",
       "      <td>0.0</td>\n",
       "      <td>1.0</td>\n",
       "      <td>0.0</td>\n",
       "      <td>1.0</td>\n",
       "      <td>0.0</td>\n",
       "      <td>0.0</td>\n",
       "      <td>0.0</td>\n",
       "      <td>0.0</td>\n",
       "      <td>...</td>\n",
       "      <td>0.0</td>\n",
       "      <td>0.0</td>\n",
       "      <td>0.0</td>\n",
       "      <td>0.0</td>\n",
       "      <td>0.0</td>\n",
       "      <td>0.0</td>\n",
       "      <td>0.0</td>\n",
       "      <td>1.0</td>\n",
       "      <td>0.0</td>\n",
       "      <td>67</td>\n",
       "    </tr>\n",
       "    <tr>\n",
       "      <th>5</th>\n",
       "      <td>0.0</td>\n",
       "      <td>1.0</td>\n",
       "      <td>0.0</td>\n",
       "      <td>1.0</td>\n",
       "      <td>1.0</td>\n",
       "      <td>0.0</td>\n",
       "      <td>1.0</td>\n",
       "      <td>0.0</td>\n",
       "      <td>0.0</td>\n",
       "      <td>0.0</td>\n",
       "      <td>...</td>\n",
       "      <td>0.0</td>\n",
       "      <td>0.0</td>\n",
       "      <td>0.0</td>\n",
       "      <td>0.0</td>\n",
       "      <td>0.0</td>\n",
       "      <td>0.0</td>\n",
       "      <td>0.0</td>\n",
       "      <td>1.0</td>\n",
       "      <td>0.0</td>\n",
       "      <td>56</td>\n",
       "    </tr>\n",
       "    <tr>\n",
       "      <th>6</th>\n",
       "      <td>0.0</td>\n",
       "      <td>1.0</td>\n",
       "      <td>1.0</td>\n",
       "      <td>0.0</td>\n",
       "      <td>0.0</td>\n",
       "      <td>1.0</td>\n",
       "      <td>0.0</td>\n",
       "      <td>0.0</td>\n",
       "      <td>0.0</td>\n",
       "      <td>0.0</td>\n",
       "      <td>...</td>\n",
       "      <td>0.0</td>\n",
       "      <td>0.0</td>\n",
       "      <td>0.0</td>\n",
       "      <td>0.0</td>\n",
       "      <td>0.0</td>\n",
       "      <td>0.0</td>\n",
       "      <td>0.0</td>\n",
       "      <td>1.0</td>\n",
       "      <td>0.0</td>\n",
       "      <td>32</td>\n",
       "    </tr>\n",
       "  </tbody>\n",
       "</table>\n",
       "<p>5 rows × 50 columns</p>\n",
       "</div>"
      ],
      "text/plain": [
       "   Gender_Female  Gender_Male  Ever_Married_No  Ever_Married_Yes  \\\n",
       "0            0.0          1.0              1.0               0.0   \n",
       "2            1.0          0.0              0.0               1.0   \n",
       "3            0.0          1.0              0.0               1.0   \n",
       "5            0.0          1.0              0.0               1.0   \n",
       "6            0.0          1.0              1.0               0.0   \n",
       "\n",
       "   Graduated_No  Graduated_Yes  Profession_Artist  Profession_Doctor  \\\n",
       "0           1.0            0.0                0.0                0.0   \n",
       "2           0.0            1.0                0.0                0.0   \n",
       "3           0.0            1.0                0.0                0.0   \n",
       "5           1.0            0.0                1.0                0.0   \n",
       "6           0.0            1.0                0.0                0.0   \n",
       "\n",
       "   Profession_Engineer  Profession_Entertainment  ...  Family_Size_8.0  \\\n",
       "0                  0.0                       0.0  ...              0.0   \n",
       "2                  1.0                       0.0  ...              0.0   \n",
       "3                  0.0                       0.0  ...              0.0   \n",
       "5                  0.0                       0.0  ...              0.0   \n",
       "6                  0.0                       0.0  ...              0.0   \n",
       "\n",
       "   Family_Size_9.0  Var_1_Cat_1  Var_1_Cat_2  Var_1_Cat_3  Var_1_Cat_4  \\\n",
       "0              0.0          0.0          0.0          0.0          1.0   \n",
       "2              0.0          0.0          0.0          0.0          0.0   \n",
       "3              0.0          0.0          0.0          0.0          0.0   \n",
       "5              0.0          0.0          0.0          0.0          0.0   \n",
       "6              0.0          0.0          0.0          0.0          0.0   \n",
       "\n",
       "   Var_1_Cat_5  Var_1_Cat_6  Var_1_Cat_7  Age  \n",
       "0          0.0          0.0          0.0   22  \n",
       "2          0.0          1.0          0.0   67  \n",
       "3          0.0          1.0          0.0   67  \n",
       "5          0.0          1.0          0.0   56  \n",
       "6          0.0          1.0          0.0   32  \n",
       "\n",
       "[5 rows x 50 columns]"
      ]
     },
     "execution_count": 59,
     "metadata": {},
     "output_type": "execute_result"
    }
   ],
   "source": [
    "onehot_df, model_list = run_onehotencode(cat_df)\n",
    "onehot_df = pd.concat([onehot_df, num_df], axis=1)\n",
    "onehot_df.head()"
   ]
  },
  {
   "cell_type": "code",
   "execution_count": 60,
   "metadata": {},
   "outputs": [
    {
     "name": "stdout",
     "output_type": "stream",
     "text": [
      "<class 'pandas.core.frame.DataFrame'>\n",
      "Index: 6665 entries, 0 to 8067\n",
      "Data columns (total 50 columns):\n",
      " #   Column                    Non-Null Count  Dtype  \n",
      "---  ------                    --------------  -----  \n",
      " 0   Gender_Female             6665 non-null   float64\n",
      " 1   Gender_Male               6665 non-null   float64\n",
      " 2   Ever_Married_No           6665 non-null   float64\n",
      " 3   Ever_Married_Yes          6665 non-null   float64\n",
      " 4   Graduated_No              6665 non-null   float64\n",
      " 5   Graduated_Yes             6665 non-null   float64\n",
      " 6   Profession_Artist         6665 non-null   float64\n",
      " 7   Profession_Doctor         6665 non-null   float64\n",
      " 8   Profession_Engineer       6665 non-null   float64\n",
      " 9   Profession_Entertainment  6665 non-null   float64\n",
      " 10  Profession_Executive      6665 non-null   float64\n",
      " 11  Profession_Healthcare     6665 non-null   float64\n",
      " 12  Profession_Homemaker      6665 non-null   float64\n",
      " 13  Profession_Lawyer         6665 non-null   float64\n",
      " 14  Profession_Marketing      6665 non-null   float64\n",
      " 15  Work_Experience_0.0       6665 non-null   float64\n",
      " 16  Work_Experience_1.0       6665 non-null   float64\n",
      " 17  Work_Experience_2.0       6665 non-null   float64\n",
      " 18  Work_Experience_3.0       6665 non-null   float64\n",
      " 19  Work_Experience_4.0       6665 non-null   float64\n",
      " 20  Work_Experience_5.0       6665 non-null   float64\n",
      " 21  Work_Experience_6.0       6665 non-null   float64\n",
      " 22  Work_Experience_7.0       6665 non-null   float64\n",
      " 23  Work_Experience_8.0       6665 non-null   float64\n",
      " 24  Work_Experience_9.0       6665 non-null   float64\n",
      " 25  Work_Experience_10.0      6665 non-null   float64\n",
      " 26  Work_Experience_11.0      6665 non-null   float64\n",
      " 27  Work_Experience_12.0      6665 non-null   float64\n",
      " 28  Work_Experience_13.0      6665 non-null   float64\n",
      " 29  Work_Experience_14.0      6665 non-null   float64\n",
      " 30  Spending_Score_Average    6665 non-null   float64\n",
      " 31  Spending_Score_High       6665 non-null   float64\n",
      " 32  Spending_Score_Low        6665 non-null   float64\n",
      " 33  Family_Size_1.0           6665 non-null   float64\n",
      " 34  Family_Size_2.0           6665 non-null   float64\n",
      " 35  Family_Size_3.0           6665 non-null   float64\n",
      " 36  Family_Size_4.0           6665 non-null   float64\n",
      " 37  Family_Size_5.0           6665 non-null   float64\n",
      " 38  Family_Size_6.0           6665 non-null   float64\n",
      " 39  Family_Size_7.0           6665 non-null   float64\n",
      " 40  Family_Size_8.0           6665 non-null   float64\n",
      " 41  Family_Size_9.0           6665 non-null   float64\n",
      " 42  Var_1_Cat_1               6665 non-null   float64\n",
      " 43  Var_1_Cat_2               6665 non-null   float64\n",
      " 44  Var_1_Cat_3               6665 non-null   float64\n",
      " 45  Var_1_Cat_4               6665 non-null   float64\n",
      " 46  Var_1_Cat_5               6665 non-null   float64\n",
      " 47  Var_1_Cat_6               6665 non-null   float64\n",
      " 48  Var_1_Cat_7               6665 non-null   float64\n",
      " 49  Age                       6665 non-null   int64  \n",
      "dtypes: float64(49), int64(1)\n",
      "memory usage: 2.6 MB\n"
     ]
    }
   ],
   "source": [
    "onehot_df.info()"
   ]
  },
  {
   "cell_type": "markdown",
   "metadata": {},
   "source": [
    "### 스케일링\n"
   ]
  },
  {
   "cell_type": "code",
   "execution_count": 61,
   "metadata": {},
   "outputs": [
    {
     "data": {
      "text/html": [
       "<style>#sk-container-id-1 {color: black;}#sk-container-id-1 pre{padding: 0;}#sk-container-id-1 div.sk-toggleable {background-color: white;}#sk-container-id-1 label.sk-toggleable__label {cursor: pointer;display: block;width: 100%;margin-bottom: 0;padding: 0.3em;box-sizing: border-box;text-align: center;}#sk-container-id-1 label.sk-toggleable__label-arrow:before {content: \"▸\";float: left;margin-right: 0.25em;color: #696969;}#sk-container-id-1 label.sk-toggleable__label-arrow:hover:before {color: black;}#sk-container-id-1 div.sk-estimator:hover label.sk-toggleable__label-arrow:before {color: black;}#sk-container-id-1 div.sk-toggleable__content {max-height: 0;max-width: 0;overflow: hidden;text-align: left;background-color: #f0f8ff;}#sk-container-id-1 div.sk-toggleable__content pre {margin: 0.2em;color: black;border-radius: 0.25em;background-color: #f0f8ff;}#sk-container-id-1 input.sk-toggleable__control:checked~div.sk-toggleable__content {max-height: 200px;max-width: 100%;overflow: auto;}#sk-container-id-1 input.sk-toggleable__control:checked~label.sk-toggleable__label-arrow:before {content: \"▾\";}#sk-container-id-1 div.sk-estimator input.sk-toggleable__control:checked~label.sk-toggleable__label {background-color: #d4ebff;}#sk-container-id-1 div.sk-label input.sk-toggleable__control:checked~label.sk-toggleable__label {background-color: #d4ebff;}#sk-container-id-1 input.sk-hidden--visually {border: 0;clip: rect(1px 1px 1px 1px);clip: rect(1px, 1px, 1px, 1px);height: 1px;margin: -1px;overflow: hidden;padding: 0;position: absolute;width: 1px;}#sk-container-id-1 div.sk-estimator {font-family: monospace;background-color: #f0f8ff;border: 1px dotted black;border-radius: 0.25em;box-sizing: border-box;margin-bottom: 0.5em;}#sk-container-id-1 div.sk-estimator:hover {background-color: #d4ebff;}#sk-container-id-1 div.sk-parallel-item::after {content: \"\";width: 100%;border-bottom: 1px solid gray;flex-grow: 1;}#sk-container-id-1 div.sk-label:hover label.sk-toggleable__label {background-color: #d4ebff;}#sk-container-id-1 div.sk-serial::before {content: \"\";position: absolute;border-left: 1px solid gray;box-sizing: border-box;top: 0;bottom: 0;left: 50%;z-index: 0;}#sk-container-id-1 div.sk-serial {display: flex;flex-direction: column;align-items: center;background-color: white;padding-right: 0.2em;padding-left: 0.2em;position: relative;}#sk-container-id-1 div.sk-item {position: relative;z-index: 1;}#sk-container-id-1 div.sk-parallel {display: flex;align-items: stretch;justify-content: center;background-color: white;position: relative;}#sk-container-id-1 div.sk-item::before, #sk-container-id-1 div.sk-parallel-item::before {content: \"\";position: absolute;border-left: 1px solid gray;box-sizing: border-box;top: 0;bottom: 0;left: 50%;z-index: -1;}#sk-container-id-1 div.sk-parallel-item {display: flex;flex-direction: column;z-index: 1;position: relative;background-color: white;}#sk-container-id-1 div.sk-parallel-item:first-child::after {align-self: flex-end;width: 50%;}#sk-container-id-1 div.sk-parallel-item:last-child::after {align-self: flex-start;width: 50%;}#sk-container-id-1 div.sk-parallel-item:only-child::after {width: 0;}#sk-container-id-1 div.sk-dashed-wrapped {border: 1px dashed gray;margin: 0 0.4em 0.5em 0.4em;box-sizing: border-box;padding-bottom: 0.4em;background-color: white;}#sk-container-id-1 div.sk-label label {font-family: monospace;font-weight: bold;display: inline-block;line-height: 1.2em;}#sk-container-id-1 div.sk-label-container {text-align: center;}#sk-container-id-1 div.sk-container {/* jupyter's `normalize.less` sets `[hidden] { display: none; }` but bootstrap.min.css set `[hidden] { display: none !important; }` so we also need the `!important` here to be able to override the default hidden behavior on the sphinx rendered scikit-learn.org. See: https://github.com/scikit-learn/scikit-learn/issues/21755 */display: inline-block !important;position: relative;}#sk-container-id-1 div.sk-text-repr-fallback {display: none;}</style><div id=\"sk-container-id-1\" class=\"sk-top-container\"><div class=\"sk-text-repr-fallback\"><pre>StandardScaler()</pre><b>In a Jupyter environment, please rerun this cell to show the HTML representation or trust the notebook. <br />On GitHub, the HTML representation is unable to render, please try loading this page with nbviewer.org.</b></div><div class=\"sk-container\" hidden><div class=\"sk-item\"><div class=\"sk-estimator sk-toggleable\"><input class=\"sk-toggleable__control sk-hidden--visually\" id=\"sk-estimator-id-1\" type=\"checkbox\" checked><label for=\"sk-estimator-id-1\" class=\"sk-toggleable__label sk-toggleable__label-arrow\">StandardScaler</label><div class=\"sk-toggleable__content\"><pre>StandardScaler()</pre></div></div></div></div></div>"
      ],
      "text/plain": [
       "StandardScaler()"
      ]
     },
     "execution_count": 61,
     "metadata": {},
     "output_type": "execute_result"
    }
   ],
   "source": [
    "standardscaler = StandardScaler()\n",
    "standardscaler.fit(onehot_df)"
   ]
  },
  {
   "cell_type": "code",
   "execution_count": 62,
   "metadata": {},
   "outputs": [
    {
     "data": {
      "text/html": [
       "<div>\n",
       "<style scoped>\n",
       "    .dataframe tbody tr th:only-of-type {\n",
       "        vertical-align: middle;\n",
       "    }\n",
       "\n",
       "    .dataframe tbody tr th {\n",
       "        vertical-align: top;\n",
       "    }\n",
       "\n",
       "    .dataframe thead th {\n",
       "        text-align: right;\n",
       "    }\n",
       "</style>\n",
       "<table border=\"1\" class=\"dataframe\">\n",
       "  <thead>\n",
       "    <tr style=\"text-align: right;\">\n",
       "      <th></th>\n",
       "      <th>Gender_Female</th>\n",
       "      <th>Gender_Male</th>\n",
       "      <th>Ever_Married_No</th>\n",
       "      <th>Ever_Married_Yes</th>\n",
       "      <th>Graduated_No</th>\n",
       "      <th>Graduated_Yes</th>\n",
       "      <th>Profession_Artist</th>\n",
       "      <th>Profession_Doctor</th>\n",
       "      <th>Profession_Engineer</th>\n",
       "      <th>Profession_Entertainment</th>\n",
       "      <th>...</th>\n",
       "      <th>Family_Size_8.0</th>\n",
       "      <th>Family_Size_9.0</th>\n",
       "      <th>Var_1_Cat_1</th>\n",
       "      <th>Var_1_Cat_2</th>\n",
       "      <th>Var_1_Cat_3</th>\n",
       "      <th>Var_1_Cat_4</th>\n",
       "      <th>Var_1_Cat_5</th>\n",
       "      <th>Var_1_Cat_6</th>\n",
       "      <th>Var_1_Cat_7</th>\n",
       "      <th>Age</th>\n",
       "    </tr>\n",
       "  </thead>\n",
       "  <tbody>\n",
       "    <tr>\n",
       "      <th>0</th>\n",
       "      <td>-0.901454</td>\n",
       "      <td>0.901454</td>\n",
       "      <td>1.203938</td>\n",
       "      <td>-1.203938</td>\n",
       "      <td>1.326157</td>\n",
       "      <td>-1.326157</td>\n",
       "      <td>-0.700037</td>\n",
       "      <td>-0.312219</td>\n",
       "      <td>-0.309316</td>\n",
       "      <td>-0.371684</td>\n",
       "      <td>...</td>\n",
       "      <td>-0.079634</td>\n",
       "      <td>-0.075724</td>\n",
       "      <td>-0.125902</td>\n",
       "      <td>-0.239652</td>\n",
       "      <td>-0.324228</td>\n",
       "      <td>2.617329</td>\n",
       "      <td>-0.10596</td>\n",
       "      <td>-1.429954</td>\n",
       "      <td>-0.15982</td>\n",
       "      <td>-1.303415</td>\n",
       "    </tr>\n",
       "    <tr>\n",
       "      <th>1</th>\n",
       "      <td>1.109319</td>\n",
       "      <td>-1.109319</td>\n",
       "      <td>-0.830607</td>\n",
       "      <td>0.830607</td>\n",
       "      <td>-0.754059</td>\n",
       "      <td>0.754059</td>\n",
       "      <td>-0.700037</td>\n",
       "      <td>-0.312219</td>\n",
       "      <td>3.232938</td>\n",
       "      <td>-0.371684</td>\n",
       "      <td>...</td>\n",
       "      <td>-0.079634</td>\n",
       "      <td>-0.075724</td>\n",
       "      <td>-0.125902</td>\n",
       "      <td>-0.239652</td>\n",
       "      <td>-0.324228</td>\n",
       "      <td>-0.382069</td>\n",
       "      <td>-0.10596</td>\n",
       "      <td>0.699323</td>\n",
       "      <td>-0.15982</td>\n",
       "      <td>1.420092</td>\n",
       "    </tr>\n",
       "    <tr>\n",
       "      <th>2</th>\n",
       "      <td>-0.901454</td>\n",
       "      <td>0.901454</td>\n",
       "      <td>-0.830607</td>\n",
       "      <td>0.830607</td>\n",
       "      <td>-0.754059</td>\n",
       "      <td>0.754059</td>\n",
       "      <td>-0.700037</td>\n",
       "      <td>-0.312219</td>\n",
       "      <td>-0.309316</td>\n",
       "      <td>-0.371684</td>\n",
       "      <td>...</td>\n",
       "      <td>-0.079634</td>\n",
       "      <td>-0.075724</td>\n",
       "      <td>-0.125902</td>\n",
       "      <td>-0.239652</td>\n",
       "      <td>-0.324228</td>\n",
       "      <td>-0.382069</td>\n",
       "      <td>-0.10596</td>\n",
       "      <td>0.699323</td>\n",
       "      <td>-0.15982</td>\n",
       "      <td>1.420092</td>\n",
       "    </tr>\n",
       "    <tr>\n",
       "      <th>3</th>\n",
       "      <td>-0.901454</td>\n",
       "      <td>0.901454</td>\n",
       "      <td>-0.830607</td>\n",
       "      <td>0.830607</td>\n",
       "      <td>1.326157</td>\n",
       "      <td>-1.326157</td>\n",
       "      <td>1.428496</td>\n",
       "      <td>-0.312219</td>\n",
       "      <td>-0.309316</td>\n",
       "      <td>-0.371684</td>\n",
       "      <td>...</td>\n",
       "      <td>-0.079634</td>\n",
       "      <td>-0.075724</td>\n",
       "      <td>-0.125902</td>\n",
       "      <td>-0.239652</td>\n",
       "      <td>-0.324228</td>\n",
       "      <td>-0.382069</td>\n",
       "      <td>-0.10596</td>\n",
       "      <td>0.699323</td>\n",
       "      <td>-0.15982</td>\n",
       "      <td>0.754346</td>\n",
       "    </tr>\n",
       "    <tr>\n",
       "      <th>4</th>\n",
       "      <td>-0.901454</td>\n",
       "      <td>0.901454</td>\n",
       "      <td>1.203938</td>\n",
       "      <td>-1.203938</td>\n",
       "      <td>-0.754059</td>\n",
       "      <td>0.754059</td>\n",
       "      <td>-0.700037</td>\n",
       "      <td>-0.312219</td>\n",
       "      <td>-0.309316</td>\n",
       "      <td>-0.371684</td>\n",
       "      <td>...</td>\n",
       "      <td>-0.079634</td>\n",
       "      <td>-0.075724</td>\n",
       "      <td>-0.125902</td>\n",
       "      <td>-0.239652</td>\n",
       "      <td>-0.324228</td>\n",
       "      <td>-0.382069</td>\n",
       "      <td>-0.10596</td>\n",
       "      <td>0.699323</td>\n",
       "      <td>-0.15982</td>\n",
       "      <td>-0.698191</td>\n",
       "    </tr>\n",
       "  </tbody>\n",
       "</table>\n",
       "<p>5 rows × 50 columns</p>\n",
       "</div>"
      ],
      "text/plain": [
       "   Gender_Female  Gender_Male  Ever_Married_No  Ever_Married_Yes  \\\n",
       "0      -0.901454     0.901454         1.203938         -1.203938   \n",
       "1       1.109319    -1.109319        -0.830607          0.830607   \n",
       "2      -0.901454     0.901454        -0.830607          0.830607   \n",
       "3      -0.901454     0.901454        -0.830607          0.830607   \n",
       "4      -0.901454     0.901454         1.203938         -1.203938   \n",
       "\n",
       "   Graduated_No  Graduated_Yes  Profession_Artist  Profession_Doctor  \\\n",
       "0      1.326157      -1.326157          -0.700037          -0.312219   \n",
       "1     -0.754059       0.754059          -0.700037          -0.312219   \n",
       "2     -0.754059       0.754059          -0.700037          -0.312219   \n",
       "3      1.326157      -1.326157           1.428496          -0.312219   \n",
       "4     -0.754059       0.754059          -0.700037          -0.312219   \n",
       "\n",
       "   Profession_Engineer  Profession_Entertainment  ...  Family_Size_8.0  \\\n",
       "0            -0.309316                 -0.371684  ...        -0.079634   \n",
       "1             3.232938                 -0.371684  ...        -0.079634   \n",
       "2            -0.309316                 -0.371684  ...        -0.079634   \n",
       "3            -0.309316                 -0.371684  ...        -0.079634   \n",
       "4            -0.309316                 -0.371684  ...        -0.079634   \n",
       "\n",
       "   Family_Size_9.0  Var_1_Cat_1  Var_1_Cat_2  Var_1_Cat_3  Var_1_Cat_4  \\\n",
       "0        -0.075724    -0.125902    -0.239652    -0.324228     2.617329   \n",
       "1        -0.075724    -0.125902    -0.239652    -0.324228    -0.382069   \n",
       "2        -0.075724    -0.125902    -0.239652    -0.324228    -0.382069   \n",
       "3        -0.075724    -0.125902    -0.239652    -0.324228    -0.382069   \n",
       "4        -0.075724    -0.125902    -0.239652    -0.324228    -0.382069   \n",
       "\n",
       "   Var_1_Cat_5  Var_1_Cat_6  Var_1_Cat_7       Age  \n",
       "0     -0.10596    -1.429954     -0.15982 -1.303415  \n",
       "1     -0.10596     0.699323     -0.15982  1.420092  \n",
       "2     -0.10596     0.699323     -0.15982  1.420092  \n",
       "3     -0.10596     0.699323     -0.15982  0.754346  \n",
       "4     -0.10596     0.699323     -0.15982 -0.698191  \n",
       "\n",
       "[5 rows x 50 columns]"
      ]
     },
     "execution_count": 62,
     "metadata": {},
     "output_type": "execute_result"
    }
   ],
   "source": [
    "# 스케일링 적용\n",
    "scaling_array = standardscaler.transform(onehot_df)\n",
    "# 스케일링된 데이터를 DataFrame으로 변환\n",
    "scaling_df = pd.DataFrame(scaling_array, columns=onehot_df.columns)\n",
    "scaling_df.head()"
   ]
  },
  {
   "cell_type": "markdown",
   "metadata": {},
   "source": [
    "### 차원 축소"
   ]
  },
  {
   "cell_type": "markdown",
   "metadata": {},
   "source": [
    "### 리샘플링"
   ]
  },
  {
   "cell_type": "markdown",
   "metadata": {},
   "source": [
    "## 데이터 분할"
   ]
  },
  {
   "cell_type": "markdown",
   "metadata": {},
   "source": [
    "## 모델 학습 "
   ]
  },
  {
   "cell_type": "code",
   "execution_count": 112,
   "metadata": {},
   "outputs": [
    {
     "data": {
      "text/plain": [
       "[308379.3771331238,\n",
       " 297932.0056833549,\n",
       " 291705.4836281236,\n",
       " 283521.6965795997,\n",
       " 276183.30301351566,\n",
       " 269087.2385062529,\n",
       " 265346.1069509833,\n",
       " 258070.9422406537,\n",
       " 249491.10785294304]"
      ]
     },
     "execution_count": 112,
     "metadata": {},
     "output_type": "execute_result"
    }
   ],
   "source": [
    "# 차원 축소 안했을 때 : 50차원\n",
    "result_list = []\n",
    "for num in range(2,11):\n",
    "    model_number = KMeans(n_clusters=num, n_init=10)\n",
    "    model_number.fit(X=scaling_df)\n",
    "    result_list.append(model_number.inertia_)\n",
    "    \n",
    "result_list"
   ]
  },
  {
   "cell_type": "code",
   "execution_count": 113,
   "metadata": {},
   "outputs": [
    {
     "data": {
      "image/png": "[encoded data removed]",
      "text/plain": [
       "<Figure size 640x480 with 1 Axes>"
      ]
     },
     "metadata": {},
     "output_type": "display_data"
    }
   ],
   "source": [
    "# 차원 축소 안했을 때 : 50차원\n",
    "sns.scatterplot(x=range(2,11), y=result_list)\n",
    "sns.lineplot(x=range(2,11), y=result_list)\n",
    "plt.show()"
   ]
  },
  {
   "cell_type": "code",
   "execution_count": 114,
   "metadata": {},
   "outputs": [
    {
     "data": {
      "text/html": [
       "<style>#sk-container-id-3 {color: black;}#sk-container-id-3 pre{padding: 0;}#sk-container-id-3 div.sk-toggleable {background-color: white;}#sk-container-id-3 label.sk-toggleable__label {cursor: pointer;display: block;width: 100%;margin-bottom: 0;padding: 0.3em;box-sizing: border-box;text-align: center;}#sk-container-id-3 label.sk-toggleable__label-arrow:before {content: \"▸\";float: left;margin-right: 0.25em;color: #696969;}#sk-container-id-3 label.sk-toggleable__label-arrow:hover:before {color: black;}#sk-container-id-3 div.sk-estimator:hover label.sk-toggleable__label-arrow:before {color: black;}#sk-container-id-3 div.sk-toggleable__content {max-height: 0;max-width: 0;overflow: hidden;text-align: left;background-color: #f0f8ff;}#sk-container-id-3 div.sk-toggleable__content pre {margin: 0.2em;color: black;border-radius: 0.25em;background-color: #f0f8ff;}#sk-container-id-3 input.sk-toggleable__control:checked~div.sk-toggleable__content {max-height: 200px;max-width: 100%;overflow: auto;}#sk-container-id-3 input.sk-toggleable__control:checked~label.sk-toggleable__label-arrow:before {content: \"▾\";}#sk-container-id-3 div.sk-estimator input.sk-toggleable__control:checked~label.sk-toggleable__label {background-color: #d4ebff;}#sk-container-id-3 div.sk-label input.sk-toggleable__control:checked~label.sk-toggleable__label {background-color: #d4ebff;}#sk-container-id-3 input.sk-hidden--visually {border: 0;clip: rect(1px 1px 1px 1px);clip: rect(1px, 1px, 1px, 1px);height: 1px;margin: -1px;overflow: hidden;padding: 0;position: absolute;width: 1px;}#sk-container-id-3 div.sk-estimator {font-family: monospace;background-color: #f0f8ff;border: 1px dotted black;border-radius: 0.25em;box-sizing: border-box;margin-bottom: 0.5em;}#sk-container-id-3 div.sk-estimator:hover {background-color: #d4ebff;}#sk-container-id-3 div.sk-parallel-item::after {content: \"\";width: 100%;border-bottom: 1px solid gray;flex-grow: 1;}#sk-container-id-3 div.sk-label:hover label.sk-toggleable__label {background-color: #d4ebff;}#sk-container-id-3 div.sk-serial::before {content: \"\";position: absolute;border-left: 1px solid gray;box-sizing: border-box;top: 0;bottom: 0;left: 50%;z-index: 0;}#sk-container-id-3 div.sk-serial {display: flex;flex-direction: column;align-items: center;background-color: white;padding-right: 0.2em;padding-left: 0.2em;position: relative;}#sk-container-id-3 div.sk-item {position: relative;z-index: 1;}#sk-container-id-3 div.sk-parallel {display: flex;align-items: stretch;justify-content: center;background-color: white;position: relative;}#sk-container-id-3 div.sk-item::before, #sk-container-id-3 div.sk-parallel-item::before {content: \"\";position: absolute;border-left: 1px solid gray;box-sizing: border-box;top: 0;bottom: 0;left: 50%;z-index: -1;}#sk-container-id-3 div.sk-parallel-item {display: flex;flex-direction: column;z-index: 1;position: relative;background-color: white;}#sk-container-id-3 div.sk-parallel-item:first-child::after {align-self: flex-end;width: 50%;}#sk-container-id-3 div.sk-parallel-item:last-child::after {align-self: flex-start;width: 50%;}#sk-container-id-3 div.sk-parallel-item:only-child::after {width: 0;}#sk-container-id-3 div.sk-dashed-wrapped {border: 1px dashed gray;margin: 0 0.4em 0.5em 0.4em;box-sizing: border-box;padding-bottom: 0.4em;background-color: white;}#sk-container-id-3 div.sk-label label {font-family: monospace;font-weight: bold;display: inline-block;line-height: 1.2em;}#sk-container-id-3 div.sk-label-container {text-align: center;}#sk-container-id-3 div.sk-container {/* jupyter's `normalize.less` sets `[hidden] { display: none; }` but bootstrap.min.css set `[hidden] { display: none !important; }` so we also need the `!important` here to be able to override the default hidden behavior on the sphinx rendered scikit-learn.org. See: https://github.com/scikit-learn/scikit-learn/issues/21755 */display: inline-block !important;position: relative;}#sk-container-id-3 div.sk-text-repr-fallback {display: none;}</style><div id=\"sk-container-id-3\" class=\"sk-top-container\"><div class=\"sk-text-repr-fallback\"><pre>KMeans(n_clusters=4, n_init=10)</pre><b>In a Jupyter environment, please rerun this cell to show the HTML representation or trust the notebook. <br />On GitHub, the HTML representation is unable to render, please try loading this page with nbviewer.org.</b></div><div class=\"sk-container\" hidden><div class=\"sk-item\"><div class=\"sk-estimator sk-toggleable\"><input class=\"sk-toggleable__control sk-hidden--visually\" id=\"sk-estimator-id-3\" type=\"checkbox\" checked><label for=\"sk-estimator-id-3\" class=\"sk-toggleable__label sk-toggleable__label-arrow\">KMeans</label><div class=\"sk-toggleable__content\"><pre>KMeans(n_clusters=4, n_init=10)</pre></div></div></div></div></div>"
      ],
      "text/plain": [
       "KMeans(n_clusters=4, n_init=10)"
      ]
     },
     "execution_count": 114,
     "metadata": {},
     "output_type": "execute_result"
    }
   ],
   "source": [
    "# 최종 학습 모델 : 2차원, n_clusters=4\n",
    "\n",
    "model_number = KMeans(n_clusters=4, n_init=10)\n",
    "model_number.fit(X=scaling_df)"
   ]
  },
  {
   "cell_type": "markdown",
   "metadata": {},
   "source": [
    "## 모델 평가 \n",
    "- Segmentation 에 정답있으니 정답확인 해보자"
   ]
  },
  {
   "cell_type": "code",
   "execution_count": 115,
   "metadata": {},
   "outputs": [
    {
     "data": {
      "text/plain": [
       "(array([1, 2, 0, ..., 1, 1, 2], dtype=int32), array([0, 1, 2, 3], dtype=int32))"
      ]
     },
     "execution_count": 115,
     "metadata": {},
     "output_type": "execute_result"
    }
   ],
   "source": [
    "model_number.labels_, np.unique(model_number.labels_)"
   ]
  },
  {
   "cell_type": "code",
   "execution_count": 116,
   "metadata": {},
   "outputs": [
    {
     "data": {
      "text/plain": [
       "6665"
      ]
     },
     "execution_count": 116,
     "metadata": {},
     "output_type": "execute_result"
    }
   ],
   "source": [
    "len(model_number.labels_)"
   ]
  },
  {
   "cell_type": "code",
   "execution_count": 117,
   "metadata": {},
   "outputs": [
    {
     "data": {
      "text/plain": [
       "(array([0, 1, 2, 3], dtype=int32), array([1075, 2499, 2286,  805]))"
      ]
     },
     "execution_count": 117,
     "metadata": {},
     "output_type": "execute_result"
    }
   ],
   "source": [
    "unique_values, counts = np.unique(model_number.labels_, return_counts=True)\n",
    "unique_values, counts"
   ]
  },
  {
   "cell_type": "code",
   "execution_count": 118,
   "metadata": {},
   "outputs": [
    {
     "data": {
      "text/plain": [
       "Segmentation\n",
       "D    2268\n",
       "A    1972\n",
       "C    1970\n",
       "B    1858\n",
       "Name: count, dtype: int64"
      ]
     },
     "execution_count": 118,
     "metadata": {},
     "output_type": "execute_result"
    }
   ],
   "source": [
    "data_df[final_lable_columns[0]].value_counts()"
   ]
  },
  {
   "cell_type": "code",
   "execution_count": 119,
   "metadata": {},
   "outputs": [
    {
     "data": {
      "text/plain": [
       "array([3, 1, 1, ..., 3, 1, 1])"
      ]
     },
     "execution_count": 119,
     "metadata": {},
     "output_type": "execute_result"
    }
   ],
   "source": [
    "labelencoder = LabelEncoder()\n",
    "drop_df = data_df.dropna()\n",
    "labelencoder.fit(drop_df[final_lable_columns[0]])\n",
    "encoded_label = labelencoder.transform(drop_df[final_lable_columns[0]])\n",
    "encoded_label"
   ]
  },
  {
   "cell_type": "code",
   "execution_count": 120,
   "metadata": {},
   "outputs": [],
   "source": [
    "def frequency_based_mapping(true_labels, predicted_labels):\n",
    "    # 각 클러스터에서 가장 많이 나타나는 실제 레이블을 매핑\n",
    "    mapping = {}\n",
    "    for cluster in np.unique(predicted_labels):\n",
    "        mask = predicted_labels == cluster\n",
    "        true_in_cluster = true_labels[mask]\n",
    "        most_common = pd.Series(true_in_cluster).mode()[0]\n",
    "        mapping[cluster] = most_common\n",
    "    return mapping\n",
    "\n",
    "# 사용 예시\n",
    "mapping = frequency_based_mapping(encoded_label, model_number.labels_)\n",
    "mapped_predictions = np.array([mapping[label] for label in model_number.labels_])"
   ]
  },
  {
   "cell_type": "code",
   "execution_count": 121,
   "metadata": {},
   "outputs": [
    {
     "data": {
      "text/plain": [
       "{0: 2, 1: 3, 2: 2, 3: 0}"
      ]
     },
     "execution_count": 121,
     "metadata": {},
     "output_type": "execute_result"
    }
   ],
   "source": [
    "mapping"
   ]
  },
  {
   "cell_type": "code",
   "execution_count": 122,
   "metadata": {},
   "outputs": [
    {
     "data": {
      "text/plain": [
       "array([3, 2, 2, ..., 3, 3, 2])"
      ]
     },
     "execution_count": 122,
     "metadata": {},
     "output_type": "execute_result"
    }
   ],
   "source": [
    "mapped_predictions"
   ]
  },
  {
   "cell_type": "code",
   "execution_count": 123,
   "metadata": {},
   "outputs": [
    {
     "data": {
      "text/plain": [
       "0.42355588897224306"
      ]
     },
     "execution_count": 123,
     "metadata": {},
     "output_type": "execute_result"
    }
   ],
   "source": [
    "accuracy_score(y_true=encoded_label, y_pred=mapped_predictions)"
   ]
  },
  {
   "cell_type": "code",
   "execution_count": 124,
   "metadata": {},
   "outputs": [
    {
     "name": "stdout",
     "output_type": "stream",
     "text": [
      "              precision    recall  f1-score   support\n",
      "\n",
      "           0       0.40      0.20      0.26      1616\n",
      "           1       0.00      0.00      0.00      1572\n",
      "           2       0.38      0.75      0.51      1720\n",
      "           3       0.49      0.69      0.57      1757\n",
      "\n",
      "    accuracy                           0.42      6665\n",
      "   macro avg       0.32      0.41      0.34      6665\n",
      "weighted avg       0.32      0.42      0.35      6665\n",
      "\n"
     ]
    },
    {
     "name": "stderr",
     "output_type": "stream",
     "text": [
      "/usr/local/lib/python3.8/dist-packages/sklearn/metrics/_classification.py:1471: UndefinedMetricWarning: Precision and F-score are ill-defined and being set to 0.0 in labels with no predicted samples. Use `zero_division` parameter to control this behavior.\n",
      "  _warn_prf(average, modifier, msg_start, len(result))\n",
      "/usr/local/lib/python3.8/dist-packages/sklearn/metrics/_classification.py:1471: UndefinedMetricWarning: Precision and F-score are ill-defined and being set to 0.0 in labels with no predicted samples. Use `zero_division` parameter to control this behavior.\n",
      "  _warn_prf(average, modifier, msg_start, len(result))\n",
      "/usr/local/lib/python3.8/dist-packages/sklearn/metrics/_classification.py:1471: UndefinedMetricWarning: Precision and F-score are ill-defined and being set to 0.0 in labels with no predicted samples. Use `zero_division` parameter to control this behavior.\n",
      "  _warn_prf(average, modifier, msg_start, len(result))\n"
     ]
    }
   ],
   "source": [
    "print(classification_report(y_true=encoded_label, y_pred=mapped_predictions))"
   ]
  },
  {
   "cell_type": "code",
   "execution_count": 125,
   "metadata": {},
   "outputs": [],
   "source": [
    "from scipy.optimize import linear_sum_assignment\n",
    "from sklearn.metrics import confusion_matrix\n",
    "\n",
    "def get_optimal_mapping(true_labels, predicted_labels):\n",
    "    # 혼동 행렬 계산\n",
    "    cm = confusion_matrix(true_labels, predicted_labels)\n",
    "    \n",
    "    # Hungarian 알고리즘으로 최적 매핑 찾기\n",
    "    row_ind, col_ind = linear_sum_assignment(-cm)\n",
    "    \n",
    "    # 매핑 딕셔너리 생성\n",
    "    true_unique = np.unique(true_labels)\n",
    "    pred_unique = np.unique(predicted_labels)\n",
    "    mapping = dict(zip(pred_unique[col_ind], true_unique[row_ind]))\n",
    "    \n",
    "    return mapping"
   ]
  },
  {
   "cell_type": "code",
   "execution_count": 126,
   "metadata": {},
   "outputs": [],
   "source": [
    "# 최적 매핑 찾기\n",
    "mapping = get_optimal_mapping(encoded_label, model_number.labels_)\n",
    "\n",
    "# 예측 레이블 매핑\n",
    "mapped_predictions = np.array([mapping[label] for label in model_number.labels_])"
   ]
  },
  {
   "cell_type": "code",
   "execution_count": 127,
   "metadata": {},
   "outputs": [
    {
     "data": {
      "text/plain": [
       "{3: 0, 0: 1, 2: 2, 1: 3}"
      ]
     },
     "execution_count": 127,
     "metadata": {},
     "output_type": "execute_result"
    }
   ],
   "source": [
    "mapping"
   ]
  },
  {
   "cell_type": "code",
   "execution_count": 128,
   "metadata": {},
   "outputs": [
    {
     "data": {
      "text/plain": [
       "0.422205551387847"
      ]
     },
     "execution_count": 128,
     "metadata": {},
     "output_type": "execute_result"
    }
   ],
   "source": [
    "accuracy_score(y_true=encoded_label, y_pred=mapped_predictions)\n"
   ]
  },
  {
   "cell_type": "code",
   "execution_count": 129,
   "metadata": {},
   "outputs": [
    {
     "name": "stdout",
     "output_type": "stream",
     "text": [
      "              precision    recall  f1-score   support\n",
      "\n",
      "           0       0.40      0.20      0.26      1616\n",
      "           1       0.29      0.20      0.23      1572\n",
      "           2       0.42      0.56      0.48      1720\n",
      "           3       0.49      0.69      0.57      1757\n",
      "\n",
      "    accuracy                           0.42      6665\n",
      "   macro avg       0.40      0.41      0.39      6665\n",
      "weighted avg       0.40      0.42      0.39      6665\n",
      "\n"
     ]
    }
   ],
   "source": [
    "print(classification_report(y_true=encoded_label, y_pred=mapped_predictions))\n"
   ]
  },
  {
   "cell_type": "code",
   "execution_count": 130,
   "metadata": {},
   "outputs": [],
   "source": [
    "from itertools import permutations\n",
    "from sklearn.metrics import accuracy_score, classification_report\n",
    "\n",
    "def try_all_mappings(true_labels, predicted_labels):\n",
    "    # 유니크한 레이블들\n",
    "    unique_true = np.unique(true_labels)\n",
    "    unique_pred = np.unique(predicted_labels)\n",
    "    \n",
    "    # 결과 저장용\n",
    "    best_accuracy = 0\n",
    "    best_mapping = None\n",
    "    best_predictions = None\n",
    "    \n",
    "    # 모든 가능한 매핑 시도\n",
    "    for perm in permutations(unique_pred):\n",
    "        # 매핑 딕셔너리 생성\n",
    "        mapping = dict(zip(unique_pred, perm))\n",
    "        \n",
    "        # 예측값 매핑\n",
    "        current_predictions = np.array([mapping[label] for label in predicted_labels])\n",
    "        \n",
    "        # 정확도 계산\n",
    "        current_accuracy = accuracy_score(true_labels, current_predictions)\n",
    "        print(classification_report(true_labels, current_predictions))\n",
    "        \n",
    "        # 더 좋은 정확도를 찾으면 업데이트\n",
    "        if current_accuracy > best_accuracy:\n",
    "            best_accuracy = current_accuracy\n",
    "            best_mapping = mapping\n",
    "            best_predictions = current_predictions\n",
    "            \n",
    "    return best_mapping, best_predictions, best_accuracy\n"
   ]
  },
  {
   "cell_type": "code",
   "execution_count": 131,
   "metadata": {},
   "outputs": [
    {
     "name": "stdout",
     "output_type": "stream",
     "text": [
      "              precision    recall  f1-score   support\n",
      "\n",
      "           0       0.25      0.17      0.20      1616\n",
      "           1       0.16      0.25      0.19      1572\n",
      "           2       0.42      0.56      0.48      1720\n",
      "           3       0.21      0.10      0.13      1757\n",
      "\n",
      "    accuracy                           0.27      6665\n",
      "   macro avg       0.26      0.27      0.25      6665\n",
      "weighted avg       0.26      0.27      0.25      6665\n",
      "\n",
      "              precision    recall  f1-score   support\n",
      "\n",
      "           0       0.25      0.17      0.20      1616\n",
      "           1       0.16      0.25      0.19      1572\n",
      "           2       0.16      0.07      0.10      1720\n",
      "           3       0.08      0.11      0.10      1757\n",
      "\n",
      "    accuracy                           0.15      6665\n",
      "   macro avg       0.16      0.15      0.15      6665\n",
      "weighted avg       0.16      0.15      0.15      6665\n",
      "\n",
      "              precision    recall  f1-score   support\n",
      "\n",
      "           0       0.25      0.17      0.20      1616\n",
      "           1       0.30      0.43      0.35      1572\n",
      "           2       0.12      0.18      0.15      1720\n",
      "           3       0.21      0.10      0.13      1757\n",
      "\n",
      "    accuracy                           0.21      6665\n",
      "   macro avg       0.22      0.22      0.21      6665\n",
      "weighted avg       0.22      0.21      0.20      6665\n",
      "\n",
      "              precision    recall  f1-score   support\n",
      "\n",
      "           0       0.25      0.17      0.20      1616\n",
      "           1       0.23      0.12      0.16      1572\n",
      "           2       0.12      0.18      0.15      1720\n",
      "           3       0.08      0.11      0.10      1757\n",
      "\n",
      "    accuracy                           0.14      6665\n",
      "   macro avg       0.17      0.14      0.15      6665\n",
      "weighted avg       0.17      0.14      0.15      6665\n",
      "\n",
      "              precision    recall  f1-score   support\n",
      "\n",
      "           0       0.25      0.17      0.20      1616\n",
      "           1       0.30      0.43      0.35      1572\n",
      "           2       0.16      0.07      0.10      1720\n",
      "           3       0.49      0.69      0.57      1757\n",
      "\n",
      "    accuracy                           0.34      6665\n",
      "   macro avg       0.30      0.34      0.31      6665\n",
      "weighted avg       0.30      0.34      0.31      6665\n",
      "\n",
      "              precision    recall  f1-score   support\n",
      "\n",
      "           0       0.25      0.17      0.20      1616\n",
      "           1       0.23      0.12      0.16      1572\n",
      "           2       0.42      0.56      0.48      1720\n",
      "           3       0.49      0.69      0.57      1757\n",
      "\n",
      "    accuracy                           0.40      6665\n",
      "   macro avg       0.35      0.39      0.35      6665\n",
      "weighted avg       0.35      0.40      0.36      6665\n",
      "\n",
      "              precision    recall  f1-score   support\n",
      "\n",
      "           0       0.23      0.36      0.28      1616\n",
      "           1       0.29      0.20      0.23      1572\n",
      "           2       0.42      0.56      0.48      1720\n",
      "           3       0.21      0.10      0.13      1757\n",
      "\n",
      "    accuracy                           0.30      6665\n",
      "   macro avg       0.29      0.30      0.28      6665\n",
      "weighted avg       0.29      0.30      0.28      6665\n",
      "\n",
      "              precision    recall  f1-score   support\n",
      "\n",
      "           0       0.23      0.36      0.28      1616\n",
      "           1       0.29      0.20      0.23      1572\n",
      "           2       0.16      0.07      0.10      1720\n",
      "           3       0.08      0.11      0.10      1757\n",
      "\n",
      "    accuracy                           0.18      6665\n",
      "   macro avg       0.19      0.18      0.18      6665\n",
      "weighted avg       0.19      0.18      0.17      6665\n",
      "\n",
      "              precision    recall  f1-score   support\n",
      "\n",
      "           0       0.20      0.28      0.23      1616\n",
      "           1       0.29      0.20      0.23      1572\n",
      "           2       0.12      0.18      0.15      1720\n",
      "           3       0.21      0.10      0.13      1757\n",
      "\n",
      "    accuracy                           0.19      6665\n",
      "   macro avg       0.21      0.19      0.19      6665\n",
      "weighted avg       0.20      0.19      0.18      6665\n",
      "\n",
      "              precision    recall  f1-score   support\n",
      "\n",
      "           0       0.40      0.20      0.26      1616\n",
      "           1       0.29      0.20      0.23      1572\n",
      "           2       0.12      0.18      0.15      1720\n",
      "           3       0.08      0.11      0.10      1757\n",
      "\n",
      "    accuracy                           0.17      6665\n",
      "   macro avg       0.22      0.17      0.19      6665\n",
      "weighted avg       0.22      0.17      0.18      6665\n",
      "\n",
      "              precision    recall  f1-score   support\n",
      "\n",
      "           0       0.20      0.28      0.23      1616\n",
      "           1       0.29      0.20      0.23      1572\n",
      "           2       0.16      0.07      0.10      1720\n",
      "           3       0.49      0.69      0.57      1757\n",
      "\n",
      "    accuracy                           0.32      6665\n",
      "   macro avg       0.28      0.31      0.28      6665\n",
      "weighted avg       0.28      0.32      0.29      6665\n",
      "\n",
      "              precision    recall  f1-score   support\n",
      "\n",
      "           0       0.40      0.20      0.26      1616\n",
      "           1       0.29      0.20      0.23      1572\n",
      "           2       0.42      0.56      0.48      1720\n",
      "           3       0.49      0.69      0.57      1757\n",
      "\n",
      "    accuracy                           0.42      6665\n",
      "   macro avg       0.40      0.41      0.39      6665\n",
      "weighted avg       0.40      0.42      0.39      6665\n",
      "\n",
      "              precision    recall  f1-score   support\n",
      "\n",
      "           0       0.23      0.36      0.28      1616\n",
      "           1       0.30      0.43      0.35      1572\n",
      "           2       0.30      0.19      0.23      1720\n",
      "           3       0.21      0.10      0.13      1757\n",
      "\n",
      "    accuracy                           0.26      6665\n",
      "   macro avg       0.26      0.27      0.25      6665\n",
      "weighted avg       0.26      0.26      0.25      6665\n",
      "\n",
      "              precision    recall  f1-score   support\n",
      "\n",
      "           0       0.23      0.36      0.28      1616\n",
      "           1       0.23      0.12      0.16      1572\n",
      "           2       0.30      0.19      0.23      1720\n",
      "           3       0.08      0.11      0.10      1757\n",
      "\n",
      "    accuracy                           0.19      6665\n",
      "   macro avg       0.21      0.19      0.19      6665\n",
      "weighted avg       0.21      0.19      0.19      6665\n",
      "\n",
      "              precision    recall  f1-score   support\n",
      "\n",
      "           0       0.20      0.28      0.23      1616\n",
      "           1       0.16      0.25      0.19      1572\n",
      "           2       0.30      0.19      0.23      1720\n",
      "           3       0.21      0.10      0.13      1757\n",
      "\n",
      "    accuracy                           0.20      6665\n",
      "   macro avg       0.22      0.20      0.20      6665\n",
      "weighted avg       0.22      0.20      0.20      6665\n",
      "\n",
      "              precision    recall  f1-score   support\n",
      "\n",
      "           0       0.40      0.20      0.26      1616\n",
      "           1       0.16      0.25      0.19      1572\n",
      "           2       0.30      0.19      0.23      1720\n",
      "           3       0.08      0.11      0.10      1757\n",
      "\n",
      "    accuracy                           0.18      6665\n",
      "   macro avg       0.23      0.19      0.20      6665\n",
      "weighted avg       0.23      0.18      0.19      6665\n",
      "\n",
      "              precision    recall  f1-score   support\n",
      "\n",
      "           0       0.20      0.28      0.23      1616\n",
      "           1       0.23      0.12      0.16      1572\n",
      "           2       0.30      0.19      0.23      1720\n",
      "           3       0.49      0.69      0.57      1757\n",
      "\n",
      "    accuracy                           0.33      6665\n",
      "   macro avg       0.30      0.32      0.30      6665\n",
      "weighted avg       0.31      0.33      0.30      6665\n",
      "\n",
      "              precision    recall  f1-score   support\n",
      "\n",
      "           0       0.40      0.20      0.26      1616\n",
      "           1       0.30      0.43      0.35      1572\n",
      "           2       0.30      0.19      0.23      1720\n",
      "           3       0.49      0.69      0.57      1757\n",
      "\n",
      "    accuracy                           0.38      6665\n",
      "   macro avg       0.37      0.38      0.35      6665\n",
      "weighted avg       0.37      0.38      0.36      6665\n",
      "\n",
      "              precision    recall  f1-score   support\n",
      "\n",
      "           0       0.23      0.36      0.28      1616\n",
      "           1       0.30      0.43      0.35      1572\n",
      "           2       0.16      0.07      0.10      1720\n",
      "           3       0.16      0.10      0.12      1757\n",
      "\n",
      "    accuracy                           0.23      6665\n",
      "   macro avg       0.21      0.24      0.21      6665\n",
      "weighted avg       0.21      0.23      0.21      6665\n",
      "\n",
      "              precision    recall  f1-score   support\n",
      "\n",
      "           0       0.23      0.36      0.28      1616\n",
      "           1       0.23      0.12      0.16      1572\n",
      "           2       0.42      0.56      0.48      1720\n",
      "           3       0.16      0.10      0.12      1757\n",
      "\n",
      "    accuracy                           0.29      6665\n",
      "   macro avg       0.26      0.28      0.26      6665\n",
      "weighted avg       0.26      0.29      0.26      6665\n",
      "\n",
      "              precision    recall  f1-score   support\n",
      "\n",
      "           0       0.20      0.28      0.23      1616\n",
      "           1       0.16      0.25      0.19      1572\n",
      "           2       0.16      0.07      0.10      1720\n",
      "           3       0.16      0.10      0.12      1757\n",
      "\n",
      "    accuracy                           0.17      6665\n",
      "   macro avg       0.17      0.18      0.16      6665\n",
      "weighted avg       0.17      0.17      0.16      6665\n",
      "\n",
      "              precision    recall  f1-score   support\n",
      "\n",
      "           0       0.40      0.20      0.26      1616\n",
      "           1       0.16      0.25      0.19      1572\n",
      "           2       0.42      0.56      0.48      1720\n",
      "           3       0.16      0.10      0.12      1757\n",
      "\n",
      "    accuracy                           0.28      6665\n",
      "   macro avg       0.29      0.28      0.27      6665\n",
      "weighted avg       0.29      0.28      0.27      6665\n",
      "\n",
      "              precision    recall  f1-score   support\n",
      "\n",
      "           0       0.20      0.28      0.23      1616\n",
      "           1       0.23      0.12      0.16      1572\n",
      "           2       0.12      0.18      0.15      1720\n",
      "           3       0.16      0.10      0.12      1757\n",
      "\n",
      "    accuracy                           0.17      6665\n",
      "   macro avg       0.18      0.17      0.16      6665\n",
      "weighted avg       0.18      0.17      0.16      6665\n",
      "\n",
      "              precision    recall  f1-score   support\n",
      "\n",
      "           0       0.40      0.20      0.26      1616\n",
      "           1       0.30      0.43      0.35      1572\n",
      "           2       0.12      0.18      0.15      1720\n",
      "           3       0.16      0.10      0.12      1757\n",
      "\n",
      "    accuracy                           0.22      6665\n",
      "   macro avg       0.25      0.23      0.22      6665\n",
      "weighted avg       0.24      0.22      0.22      6665\n",
      "\n",
      "Best Mapping: {0: 1, 1: 3, 2: 2, 3: 0}\n",
      "Best Accuracy: 0.422205551387847\n",
      "\n",
      "Classification Report:\n",
      "              precision    recall  f1-score   support\n",
      "\n",
      "           0       0.40      0.20      0.26      1616\n",
      "           1       0.29      0.20      0.23      1572\n",
      "           2       0.42      0.56      0.48      1720\n",
      "           3       0.49      0.69      0.57      1757\n",
      "\n",
      "    accuracy                           0.42      6665\n",
      "   macro avg       0.40      0.41      0.39      6665\n",
      "weighted avg       0.40      0.42      0.39      6665\n",
      "\n",
      "\n",
      "Mapping Results:\n",
      "Cluster 0 -> Label 1\n",
      "Cluster 1 -> Label 3\n",
      "Cluster 2 -> Label 2\n",
      "Cluster 3 -> Label 0\n"
     ]
    }
   ],
   "source": [
    "# 사용 예시\n",
    "best_mapping, best_predictions, best_accuracy = try_all_mappings(\n",
    "    encoded_label,  # dropna()로 필터링된 true labels\n",
    "    model_number.labels_   # kmeans 결과\n",
    ")\n",
    "\n",
    "# 결과 출력\n",
    "print(\"Best Mapping:\", best_mapping)\n",
    "print(\"Best Accuracy:\", best_accuracy)\n",
    "print(\"\\nClassification Report:\")\n",
    "print(classification_report(encoded_label, best_predictions))\n",
    "\n",
    "# 매핑 결과 시각화 (선택적)\n",
    "print(\"\\nMapping Results:\")\n",
    "for original, mapped in best_mapping.items():\n",
    "    print(f\"Cluster {original} -> Label {mapped}\")"
   ]
  },
  {
   "cell_type": "markdown",
   "metadata": {},
   "source": [
    "## 모델 배포"
   ]
  }
 ],
 "metadata": {
  "kernelspec": {
   "display_name": "Python 3",
   "language": "python",
   "name": "python3"
  },
  "language_info": {
   "codemirror_mode": {
    "name": "ipython",
    "version": 3
   },
   "file_extension": ".py",
   "mimetype": "text/x-python",
   "name": "python",
   "nbconvert_exporter": "python",
   "pygments_lexer": "ipython3",
   "version": "3.8.10"
  }
 },
 "nbformat": 4,
 "nbformat_minor": 2
}
